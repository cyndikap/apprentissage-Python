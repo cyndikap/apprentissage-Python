{
 "cells": [
  {
   "cell_type": "markdown",
   "id": "1f0225df",
   "metadata": {},
   "source": [
    "<h1> Exercice date</h1>\n",
    "\n",
    "Vous êtes en train de développer un petit programme pour gérer un agenda personnel. Le programme doit permettre à l'utilisateur d'ajouter des événements avec une date spécifique, d'afficher tous les événements dans un format lisible, et de calculer le temps restant jusqu'à chaque événement. \n",
    "\n",
    "Les évènements à placer (assurez vous que les dates soit dans le futur): \n",
    "- Voyage avion : 2024-07-01T14:30:15.128000\n",
    "- Conférence : 2024-07-04T16:30:00.000000\n",
    "- Diner professionnel : 2024-07-06T20:30:00.000000\n",
    "\n",
    "<b> Fonction 1 : Ajout d'un Événement </b>\n",
    "\n",
    "- Demandez à l'utilisateur de saisir la date et l'heure de l'événement au format ISO 8601 (YYYY-MM-DDTHH:MM:SS), suivies du nom de l'événement. Les informations doivent être séparées par une virgule. Exemple de saisie : 2023-12-25T15:00:00, Repas de Noël.\n",
    "- Utilisez la méthode split(\", \") pour séparer la chaîne de caractères saisie en deux parties : la date et le nom de l'événement.\n",
    "- Convertissez la partie date en un objet datetime en utilisant la méthode fromisoformat.\n",
    "- Ajoutez l'objet datetime et le nom de l'événement dans une liste globale nommée agenda sous forme de tuple.\n",
    "- Testez votre fonction en ajoutant plusieurs événements, puis imprimez agenda pour vérifier que les données sont correctement stockées.\n",
    "\n",
    "<b> Fonction 2 : Affichage des Événements </b>\n",
    "\n",
    "- Parcourez chaque événement stocké dans la liste agenda.\n",
    "- Pour chaque événement, utilisez la méthode strftime() pour convertir l'objet datetime en une chaîne de caractères formatée (choisissez le format vous semblant le plus clair pour une lecture d'agenda)\n",
    "- Concaténez la chaîne de caractères formatée avec le nom de l'événement et affichez le résultat. Chaque événement doit être affiché sur une nouvelle ligne.\n",
    "- Assurez-vous que la sortie soit claire et lisible, par exemple : \"2023-03-15 14:00:00 - Rendez-vous chez le médecin\".\n",
    "\n",
    "<b> Fonction 3 : Calcul du Temps Restant </b>\n",
    "\n",
    "- Obtenez la date et l'heure actuelles avec datetime.now().\n",
    "- Parcourez chaque événement dans l'agenda.\n",
    "- Pour chaque événement, calculez la différence (timedelta) entre la date de l'événement et la date actuelle.\n",
    "- Extraire le nombre de jours à partir de l'objet timedelta obtenu et préparez une chaîne de caractères indiquant le nombre de jours restants jusqu'à l'événement.\n",
    "- Affichez le nom de l'événement suivi du nombre de jours restants, par exemple : \"Repas de Noël dans 365 jours\"."
   ]
  },
  {
   "cell_type": "code",
   "execution_count": null,
   "id": "6288525a",
   "metadata": {},
   "outputs": [],
   "source": []
  }
 ],
 "metadata": {
  "kernelspec": {
   "display_name": "Python 3 (ipykernel)",
   "language": "python",
   "name": "python3"
  },
  "language_info": {
   "codemirror_mode": {
    "name": "ipython",
    "version": 3
   },
   "file_extension": ".py",
   "mimetype": "text/x-python",
   "name": "python",
   "nbconvert_exporter": "python",
   "pygments_lexer": "ipython3",
   "version": "3.11.5"
  }
 },
 "nbformat": 4,
 "nbformat_minor": 5
}
