{
 "cells": [
  {
   "cell_type": "markdown",
   "metadata": {},
   "source": [
    "<h1>Définition et déclaration d'un dictionnaire en Python</h1>\n",
    "\n",
    "<b> 1. Défintion </b>\n",
    "\n",
    "Reprenons notre exemple précédent. Quel est le prix des chaussures ?"
   ]
  },
  {
   "cell_type": "code",
   "execution_count": null,
   "metadata": {},
   "outputs": [],
   "source": [
    "produitsPrix = [['smartphone',1000],['chaussures',100],['console',400]]\n",
    "print(produitsPrix[1][1])"
   ]
  },
  {
   "cell_type": "markdown",
   "metadata": {},
   "source": [
    "Et si un des produits est supprimé ? Ou si l'ordre est différent la fois suivante ? <br>\n",
    "Un stockage sous la forme d'un dictionnaire serait plus adapté : \n",
    "- Un dictionnaire en Python est une collection non ordonnée de données stockées sous forme de paires clé-valeur.\n",
    "- Chaque clé dans un dictionnaire est unique et associée à une valeur. Les clés servent d'index pour accéder rapidement aux valeurs correspondantes.\n",
    "\n",
    "<b>2. Déclaration</b>\n",
    "\n",
    "Un dictionnaire peut être créé en plaçant une série de paires clé-valeur séparées par des virgules, entre des accolades {}"
   ]
  },
  {
   "cell_type": "code",
   "execution_count": null,
   "metadata": {},
   "outputs": [],
   "source": []
  },
  {
   "cell_type": "markdown",
   "metadata": {},
   "source": [
    "La fonction dict() peut aussi être utilisée pour créer des dictionnaires."
   ]
  },
  {
   "cell_type": "code",
   "execution_count": null,
   "metadata": {},
   "outputs": [],
   "source": []
  },
  {
   "cell_type": "markdown",
   "metadata": {},
   "source": [
    "Dans des cas plus rares, Un dictionnaire peut être construit en utilisant dict() avec une liste de tuples : "
   ]
  },
  {
   "cell_type": "code",
   "execution_count": null,
   "metadata": {},
   "outputs": [],
   "source": [
    "mon_tuple = [('smartphone',1000), ('chaussures',100), ('console',400)]"
   ]
  },
  {
   "cell_type": "markdown",
   "metadata": {},
   "source": [
    "Pour initialiser un dictionnaire vide les {} et dict sont valables"
   ]
  },
  {
   "cell_type": "code",
   "execution_count": null,
   "metadata": {},
   "outputs": [],
   "source": []
  },
  {
   "cell_type": "markdown",
   "metadata": {},
   "source": [
    "Notez également q'un dictionaire peut stocké tout type de valeur"
   ]
  },
  {
   "cell_type": "code",
   "execution_count": null,
   "metadata": {},
   "outputs": [],
   "source": []
  },
  {
   "cell_type": "markdown",
   "metadata": {},
   "source": [
    "<h1>Accéder aux éléments d'un dictionnaire</h1>\n",
    "\n",
    "<b>1) Accéder à une valeur spécifique </b>\n",
    "\n",
    "Pour accéder à la valeur associée à une clé spécifique, utilisez la syntaxe dictionnaire[clé]"
   ]
  },
  {
   "cell_type": "code",
   "execution_count": null,
   "metadata": {},
   "outputs": [],
   "source": []
  },
  {
   "cell_type": "markdown",
   "metadata": {},
   "source": [
    "Il est également possible d'accéder à une valeur, via la méthode .get()"
   ]
  },
  {
   "cell_type": "code",
   "execution_count": null,
   "metadata": {},
   "outputs": [],
   "source": []
  },
  {
   "cell_type": "markdown",
   "metadata": {},
   "source": [
    "<b> 2) Accéder aux clés et aux valeurs d'un dictionnaire </b>\n",
    "\n",
    "La méthode values() retourne toutes les valeurs d'un dictionnaire"
   ]
  },
  {
   "cell_type": "code",
   "execution_count": null,
   "metadata": {},
   "outputs": [],
   "source": []
  },
  {
   "cell_type": "markdown",
   "metadata": {},
   "source": [
    "La méthode keys() retourne toutes les clés d'un dictionnaire"
   ]
  },
  {
   "cell_type": "code",
   "execution_count": null,
   "metadata": {},
   "outputs": [],
   "source": []
  },
  {
   "cell_type": "markdown",
   "metadata": {},
   "source": [
    "La méthode items() retourne une liste de tuple, chaque tuple représentant une paire clé-valeur"
   ]
  },
  {
   "cell_type": "code",
   "execution_count": null,
   "metadata": {},
   "outputs": [],
   "source": []
  },
  {
   "cell_type": "markdown",
   "metadata": {},
   "source": [
    "<h1> Modification d'un dictionnaire </h1>\n",
    "\n",
    "<b>1) Changer une valeur existante </b>\n",
    "\n",
    "Pour modifier une valeur, la première consiste à simplement re-déclarer la valeur"
   ]
  },
  {
   "cell_type": "code",
   "execution_count": null,
   "metadata": {},
   "outputs": [],
   "source": []
  },
  {
   "cell_type": "markdown",
   "metadata": {},
   "source": [
    "Il est également possible d'utiliser la méthode update"
   ]
  },
  {
   "cell_type": "code",
   "execution_count": null,
   "metadata": {},
   "outputs": [],
   "source": []
  },
  {
   "cell_type": "markdown",
   "metadata": {},
   "source": [
    "<b> 2) Ajouter un item </b>\n",
    "\n",
    "Les méthodes pour ajouter un item dans un dictionnaire existant sont exactement les mêmes que pour la modification d'une valeur"
   ]
  },
  {
   "cell_type": "code",
   "execution_count": null,
   "metadata": {},
   "outputs": [],
   "source": []
  },
  {
   "cell_type": "code",
   "execution_count": null,
   "metadata": {},
   "outputs": [],
   "source": []
  },
  {
   "cell_type": "markdown",
   "metadata": {},
   "source": [
    "<b> 3) Retirer un item </b>\n",
    "\n",
    "Pour retirer un item d'un dictionnaire, c'est encore une fois la méthode .pop() qui est à privilégier"
   ]
  },
  {
   "cell_type": "code",
   "execution_count": null,
   "metadata": {},
   "outputs": [],
   "source": []
  },
  {
   "cell_type": "markdown",
   "metadata": {},
   "source": [
    "La méthode del aura le même effet "
   ]
  },
  {
   "cell_type": "code",
   "execution_count": null,
   "metadata": {},
   "outputs": [],
   "source": []
  },
  {
   "cell_type": "markdown",
   "metadata": {},
   "source": [
    "La méthode popitem() retire le dernier élément ajouté dans le tableau"
   ]
  },
  {
   "cell_type": "code",
   "execution_count": null,
   "metadata": {},
   "outputs": [],
   "source": []
  },
  {
   "cell_type": "markdown",
   "metadata": {},
   "source": [
    "La méthode clear() videra entièremennt le dictionnaire"
   ]
  },
  {
   "cell_type": "code",
   "execution_count": null,
   "metadata": {},
   "outputs": [],
   "source": []
  },
  {
   "cell_type": "markdown",
   "metadata": {},
   "source": [
    "<h1> Les autres méthodes utiles avec les dictionnaires</h1>\n",
    "\n",
    "copy() retourne une copie superficielle du dictionnaire et ainsi éviter les dépendances (comme nous l'avions déjà vu)"
   ]
  },
  {
   "cell_type": "code",
   "execution_count": null,
   "metadata": {},
   "outputs": [],
   "source": []
  },
  {
   "cell_type": "markdown",
   "metadata": {},
   "source": [
    "in vérifie si un item est présent"
   ]
  },
  {
   "cell_type": "code",
   "execution_count": null,
   "metadata": {},
   "outputs": [],
   "source": []
  },
  {
   "cell_type": "markdown",
   "metadata": {},
   "source": [
    "len() vérifie la longuer d'un dictionnaire"
   ]
  },
  {
   "cell_type": "code",
   "execution_count": null,
   "metadata": {},
   "outputs": [],
   "source": []
  },
  {
   "cell_type": "markdown",
   "metadata": {},
   "source": [
    "La méthode fromkeys() est utilisée pour créer un nouveau dictionnaire à partir d'un itérable (comme une liste ou un tuple), en attribuant à chaque clé une valeur par défaut identique."
   ]
  },
  {
   "cell_type": "code",
   "execution_count": null,
   "metadata": {},
   "outputs": [],
   "source": []
  },
  {
   "cell_type": "markdown",
   "metadata": {},
   "source": [
    "<h1>créer un dictionnaire multi-propriétés</h1><br>\n",
    "Les dictionnaires imbriqués sont des dictionnaires qui contiennent d'autres dictionnaires comme valeurs. Cette structure est très utile pour représenter des données complexes de manière organisée et hiérarchique."
   ]
  },
  {
   "cell_type": "code",
   "execution_count": null,
   "metadata": {},
   "outputs": [],
   "source": [
    "produitsDictPrix = {'smartphone':1000,'chaussures':100,'console':400}\n",
    "produitsDictStock = {'smartphone':True,'chaussures':False,'console':True}"
   ]
  },
  {
   "cell_type": "code",
   "execution_count": null,
   "metadata": {},
   "outputs": [],
   "source": []
  },
  {
   "cell_type": "markdown",
   "metadata": {},
   "source": [
    "Pour accéder à un élément dans un dictionnaire imbriqué, utilisez les clés successivement"
   ]
  },
  {
   "cell_type": "code",
   "execution_count": null,
   "metadata": {},
   "outputs": [],
   "source": []
  }
 ],
 "metadata": {
  "kernelspec": {
   "display_name": "Python 3 (ipykernel)",
   "language": "python",
   "name": "python3"
  },
  "language_info": {
   "codemirror_mode": {
    "name": "ipython",
    "version": 3
   },
   "file_extension": ".py",
   "mimetype": "text/x-python",
   "name": "python",
   "nbconvert_exporter": "python",
   "pygments_lexer": "ipython3",
   "version": "3.11.5"
  }
 },
 "nbformat": 4,
 "nbformat_minor": 2
}
