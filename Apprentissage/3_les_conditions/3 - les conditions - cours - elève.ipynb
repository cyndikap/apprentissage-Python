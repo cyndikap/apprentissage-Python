{
 "cells": [
  {
   "cell_type": "markdown",
   "metadata": {},
   "source": [
    "<h1>1. Déclaration directe d'un booléen dans une variable</h1>\n",
    "\n",
    "Comme vu en introduction, les booléens se déclarent en plaçant True ou False dans une variable"
   ]
  },
  {
   "cell_type": "code",
   "execution_count": null,
   "metadata": {},
   "outputs": [],
   "source": []
  },
  {
   "cell_type": "markdown",
   "metadata": {},
   "source": [
    "Rappel sur les erreurs courantes lors de vos premières déclarations (ajout de quotes et oubli de la majuscule) : "
   ]
  },
  {
   "cell_type": "code",
   "execution_count": null,
   "metadata": {},
   "outputs": [],
   "source": []
  },
  {
   "cell_type": "markdown",
   "metadata": {},
   "source": [
    "<h1> 2. les opérateurs de comparaison - Les égalités </h1>"
   ]
  },
  {
   "cell_type": "markdown",
   "metadata": {},
   "source": [
    "<b>1. Égal à (==) : Compare si deux valeurs sont égales</b>"
   ]
  },
  {
   "cell_type": "code",
   "execution_count": null,
   "metadata": {},
   "outputs": [],
   "source": [
    "text1 = 'data'\n",
    "text2 = 'data'"
   ]
  },
  {
   "cell_type": "code",
   "execution_count": null,
   "metadata": {},
   "outputs": [],
   "source": [
    "text1 = 'data'\n",
    "text2 = 'datas'"
   ]
  },
  {
   "cell_type": "code",
   "execution_count": null,
   "metadata": {},
   "outputs": [],
   "source": [
    "text1 = 'data'\n",
    "text2 = 'Data'"
   ]
  },
  {
   "cell_type": "markdown",
   "metadata": {},
   "source": [
    "les tests d'égalité fonctionne également sur les autres types de données"
   ]
  },
  {
   "cell_type": "code",
   "execution_count": null,
   "metadata": {},
   "outputs": [],
   "source": [
    "chiffre1 = 50\n",
    "chiffre2 = 50"
   ]
  },
  {
   "cell_type": "code",
   "execution_count": null,
   "metadata": {},
   "outputs": [],
   "source": [
    "chiffre1 = 3.14\n",
    "chiffre2 = 3.15"
   ]
  },
  {
   "cell_type": "markdown",
   "metadata": {},
   "source": [
    "l'égalité va également lire le type de la variable, afin de vérifier si la comparaison est logique : \n",
    "- str et integer remontera False, même si les 2 nombres sont \"égaux\"\n",
    "- Integer et Float remontera True si les 2 nombres sont égaux"
   ]
  },
  {
   "cell_type": "code",
   "execution_count": null,
   "metadata": {},
   "outputs": [],
   "source": [
    "chiffre1 = 50\n",
    "chiffre2 = '50'"
   ]
  },
  {
   "cell_type": "code",
   "execution_count": null,
   "metadata": {},
   "outputs": [],
   "source": [
    "chiffre1 = 50\n",
    "chiffre2 = 50.0"
   ]
  },
  {
   "cell_type": "markdown",
   "metadata": {},
   "source": [
    "<b>2. Différent de (!=) : Compare si deux valeurs ne sont pas égales.</b>"
   ]
  },
  {
   "cell_type": "code",
   "execution_count": null,
   "metadata": {},
   "outputs": [],
   "source": [
    "text1 = 'data'\n",
    "text2 = 'data'"
   ]
  },
  {
   "cell_type": "code",
   "execution_count": null,
   "metadata": {},
   "outputs": [],
   "source": [
    "text1 = 'data'\n",
    "text2 = 'datas'"
   ]
  },
  {
   "cell_type": "markdown",
   "metadata": {},
   "source": [
    "<h1> 3. les opérateurs de comparaison - Les tests de grandeur </h1>"
   ]
  },
  {
   "cell_type": "markdown",
   "metadata": {},
   "source": [
    "Comme vu ensemble, il est possible de vérifier si 2 nombres sont égaux, mais il est possible d'aller plus loin avec des tests de grandeur (supérieur, inférieur etc.)."
   ]
  },
  {
   "cell_type": "code",
   "execution_count": null,
   "metadata": {},
   "outputs": [],
   "source": [
    "A = 45\n",
    "B = 70"
   ]
  },
  {
   "cell_type": "markdown",
   "metadata": {},
   "source": [
    "<b> 1. Supérieur à (>) : Vérifie si la valeur de gauche est supérieure à celle de droite"
   ]
  },
  {
   "cell_type": "code",
   "execution_count": null,
   "metadata": {},
   "outputs": [],
   "source": [
    "A = 45\n",
    "B = 70"
   ]
  },
  {
   "cell_type": "markdown",
   "metadata": {},
   "source": [
    "Attention à bien comparer des valeurs numériques. Dans le cas où vous compareriez des strings, Python compare lexicographiquement les chaînes de caractères, caractère par caractère, en suivant l'ordre défini par la table de codage des caractères (comme ASCII ou Unicode) : "
   ]
  },
  {
   "cell_type": "code",
   "execution_count": null,
   "metadata": {},
   "outputs": [],
   "source": [
    "A = 'Zèbre'\n",
    "B = 'Chat'"
   ]
  },
  {
   "cell_type": "markdown",
   "metadata": {},
   "source": [
    "<b> 2. Inférieur à (<)  : Vérifie si la valeur de gauche est inférieure à celle de droite."
   ]
  },
  {
   "cell_type": "code",
   "execution_count": null,
   "metadata": {},
   "outputs": [],
   "source": [
    "A = 45\n",
    "B = 70"
   ]
  },
  {
   "cell_type": "markdown",
   "metadata": {},
   "source": [
    "<b> Supérieur ou égal à (>=) : Vérifie si la valeur de gauche est supérieure ou égale à celle de droite."
   ]
  },
  {
   "cell_type": "code",
   "execution_count": null,
   "metadata": {},
   "outputs": [],
   "source": [
    "A = 45\n",
    "B = 70"
   ]
  },
  {
   "cell_type": "markdown",
   "metadata": {},
   "source": [
    "<b> Inférieur ou égal à (<=) : Vérifie si la valeur de gauche est inférieure ou égale à celle de droite."
   ]
  },
  {
   "cell_type": "code",
   "execution_count": null,
   "metadata": {},
   "outputs": [],
   "source": [
    "A = 45\n",
    "B = 70"
   ]
  },
  {
   "cell_type": "markdown",
   "metadata": {},
   "source": [
    "<h1> 4. les opérateurs de comparaison - Combiner les comparaison avec AND et OR </h1>\n",
    "\n",
    "Logique vue en introduction PPT"
   ]
  },
  {
   "cell_type": "markdown",
   "metadata": {},
   "source": [
    "<b>1. utilisation de \"and\"</b>\n",
    "\n",
    "Exemple simple :"
   ]
  },
  {
   "cell_type": "code",
   "execution_count": null,
   "metadata": {},
   "outputs": [],
   "source": [
    "a = 1\n",
    "b = 2\n",
    "c = 3\n",
    "d = 4"
   ]
  },
  {
   "cell_type": "markdown",
   "metadata": {},
   "source": [
    "Exemple réel : Un cinéma offre une réduction pour les étudiants de moins de 25 ans."
   ]
  },
  {
   "cell_type": "code",
   "execution_count": null,
   "metadata": {},
   "outputs": [],
   "source": [
    "age = 22\n",
    "est_etudiant = True"
   ]
  },
  {
   "cell_type": "markdown",
   "metadata": {},
   "source": [
    "<b>2. utilisation de \"or\"</b>\n",
    "\n",
    "Exemple simple :"
   ]
  },
  {
   "cell_type": "code",
   "execution_count": null,
   "metadata": {},
   "outputs": [],
   "source": [
    "a = 1\n",
    "b = 2\n",
    "c = 3\n",
    "d = 4"
   ]
  },
  {
   "cell_type": "markdown",
   "metadata": {},
   "source": [
    "Exemple réel : Un musée est gratuit pour les enfants de moins de 12 ans ou pour les seniors de plus de 65 ans."
   ]
  },
  {
   "cell_type": "code",
   "execution_count": null,
   "metadata": {},
   "outputs": [],
   "source": [
    "age = 70"
   ]
  },
  {
   "cell_type": "markdown",
   "metadata": {},
   "source": [
    "<b> 3. les combinaisons multiples"
   ]
  },
  {
   "cell_type": "markdown",
   "metadata": {},
   "source": [
    "Démonstration du principe"
   ]
  },
  {
   "cell_type": "code",
   "execution_count": null,
   "metadata": {},
   "outputs": [],
   "source": []
  },
  {
   "cell_type": "markdown",
   "metadata": {},
   "source": [
    "Exemple réel 1 : Une entreprise offre des congés supplémentaires aux employés qui ont travaillé plus de 5 ans, à condition qu'ils aient terminé tous leurs projets ou qu'ils aient une évaluation exceptionnelle."
   ]
  },
  {
   "cell_type": "code",
   "execution_count": null,
   "metadata": {},
   "outputs": [],
   "source": [
    "annees_service = 6\n",
    "projets_termines = False\n",
    "evaluation_exceptionnelle = True"
   ]
  },
  {
   "cell_type": "markdown",
   "metadata": {},
   "source": [
    "Exemple réel 2 : Une école offre un programme de bourses pour les élèves. Pour être éligible, l'élève doit remplir au moins une des conditions suivantes :\n",
    "- Avoir une moyenne supérieure à 85 et participer à au moins deux activités parascolaires.\n",
    "- Avoir une moyenne supérieure à 90 ou être le représentant de sa classe."
   ]
  },
  {
   "cell_type": "code",
   "execution_count": null,
   "metadata": {},
   "outputs": [],
   "source": [
    "moyenne = 88\n",
    "activites_parascolaires = 3\n",
    "representant_classe = False"
   ]
  },
  {
   "cell_type": "markdown",
   "metadata": {},
   "source": [
    "<h1>5. Les conditions </h1>\n",
    "\n",
    "une condition est une instruction qui permet de vérifier si une expression est vraie ou fausse. Selon la valeur de cette expression, le script peut alors exécuter différentes actions. Les conditions sont souvent utilisées pour prendre des décisions dans le code, pour effectuer des actions conditionnelles ou pour répéter des actions tant que certaines conditions sont remplies."
   ]
  },
  {
   "attachments": {
    "image-2.png": {
     "image/png": "[encoded data removed]"
    }
   },
   "cell_type": "markdown",
   "metadata": {},
   "source": [
    "![image-2.png](attachment:image-2.png)"
   ]
  },
  {
   "cell_type": "markdown",
   "metadata": {},
   "source": [
    "<b>1. Conditions simples 'if', 'elif','else' </b>\n",
    "\n",
    "\n",
    "\"if\" : Utilisé pour exécuter un bloc de code si une condition spécifiée est vraie"
   ]
  },
  {
   "cell_type": "code",
   "execution_count": null,
   "metadata": {},
   "outputs": [],
   "source": [
    "number = 10"
   ]
  },
  {
   "cell_type": "code",
   "execution_count": null,
   "metadata": {},
   "outputs": [],
   "source": [
    "#Attention à l'indentation dans la condition\n",
    "number = 10"
   ]
  },
  {
   "cell_type": "markdown",
   "metadata": {},
   "source": [
    "\"else\" : Utilisé pour exécuter un bloc de code si la condition dans le if est fausse"
   ]
  },
  {
   "cell_type": "code",
   "execution_count": null,
   "metadata": {},
   "outputs": [],
   "source": [
    "number = -5"
   ]
  },
  {
   "cell_type": "markdown",
   "metadata": {},
   "source": [
    "\"elif\" (Else If) :  Utilisé pour tester plusieurs conditions. Si la condition pour if est fausse, il vérifie la condition du elif"
   ]
  },
  {
   "cell_type": "code",
   "execution_count": null,
   "metadata": {},
   "outputs": [],
   "source": [
    "number = 0"
   ]
  },
  {
   "cell_type": "markdown",
   "metadata": {},
   "source": [
    "Exemple concret : Une école a un système de notation basé sur les scores obtenus à un examen. Les notes sont attribuées comme suit :\n",
    "\n",
    "- 90 et plus : Grade A\n",
    "- 80 à 89 : Grade B\n",
    "- 70 à 79 : Grade C\n",
    "- 60 à 69 : Grade D\n",
    "- Moins de 60 : Grade F"
   ]
  },
  {
   "cell_type": "code",
   "execution_count": null,
   "metadata": {},
   "outputs": [],
   "source": [
    "score = 85  # Vous pouvez changer cette valeur pour tester avec des scores différents"
   ]
  },
  {
   "cell_type": "markdown",
   "metadata": {},
   "source": [
    "<b>2. Les short hands </b>"
   ]
  },
  {
   "cell_type": "markdown",
   "metadata": {},
   "source": [
    "Short Hand 'if' : Permet d'écrire des instructions if en une seule ligne. Utilisé quand il y a seulement une action à exécuter."
   ]
  },
  {
   "cell_type": "code",
   "execution_count": null,
   "metadata": {},
   "outputs": [],
   "source": [
    "age = 18"
   ]
  },
  {
   "cell_type": "markdown",
   "metadata": {},
   "source": [
    "Short Hand if ... else (opérateurs ternaires) : Utilisé pour exécuter une action parmi deux possibles sur une seule ligne"
   ]
  },
  {
   "cell_type": "code",
   "execution_count": null,
   "metadata": {},
   "outputs": [],
   "source": [
    "age = 15"
   ]
  },
  {
   "cell_type": "markdown",
   "metadata": {},
   "source": [
    "Exemple concret : Une entreprise décide d'accorder un bonus à ses employés à la fin de l'année. Les employés qui ont travaillé plus de 2 ans dans l'entreprise reçoivent un bonus de 1000 euros, tandis que ceux qui ont travaillé moins de 2 ans reçoivent un bonus de 500 euros."
   ]
  },
  {
   "cell_type": "code",
   "execution_count": null,
   "metadata": {},
   "outputs": [],
   "source": [
    "annees_service = 3  # Vous pouvez changer cette valeur pour tester avec différentes durées de service"
   ]
  },
  {
   "cell_type": "markdown",
   "metadata": {},
   "source": [
    "<b>3. L'opérateur \"not\" </b>\n",
    "\n",
    "Opérateur logique utilisé pour inverser l'état de la condition. Si la condition est vraie, not la rendra fausse et vice-versa."
   ]
  },
  {
   "cell_type": "code",
   "execution_count": null,
   "metadata": {},
   "outputs": [],
   "source": [
    "flag = False"
   ]
  },
  {
   "cell_type": "markdown",
   "metadata": {},
   "source": [
    "Exemple concret : Dans une bibliothèque, les utilisateurs qui ne sont pas membres doivent payer des frais pour emprunter des livres. Si une personne est membre de la bibliothèque, elle peut emprunter des livres gratuitement."
   ]
  },
  {
   "cell_type": "code",
   "execution_count": null,
   "metadata": {},
   "outputs": [],
   "source": [
    "est_membre = False  # Changez cette valeur pour tester avec un membre/non-membre"
   ]
  },
  {
   "cell_type": "markdown",
   "metadata": {},
   "source": [
    "<b> 4. Nested if (If imbriqué) </b>"
   ]
  },
  {
   "cell_type": "markdown",
   "metadata": {},
   "source": [
    "Vous pouvez avoir des structures if à l'intérieur des blocs if pour tester plusieurs niveaux de conditions\n",
    "\n",
    "Exemple concret : Une compagnie aérienne propose des remises basées sur l'âge et le statut de membre du programme de fidélité. Les règles sont les suivantes :\n",
    "\n",
    "- Si le passager est un membre du programme de fidélité :\n",
    "    - Si l'âge du passager est inférieur à 18 ans, il bénéficie d'une remise de 30%.\n",
    "    - Si l'âge du passager est de 18 ans ou plus, il bénéficie d'une remise de 15%.\n",
    "- Si le passager n'est pas un membre du programme de fidélité, aucune remise n'est offerte."
   ]
  },
  {
   "cell_type": "code",
   "execution_count": null,
   "metadata": {},
   "outputs": [],
   "source": [
    "age_passager = 17  # Vous pouvez modifier cette valeur pour tester différents âges\n",
    "est_membre_fidélité = True  # Changez cette valeur pour tester avec un membre/non-membre"
   ]
  }
 ],
 "metadata": {
  "kernelspec": {
   "display_name": "Python 3 (ipykernel)",
   "language": "python",
   "name": "python3"
  },
  "language_info": {
   "codemirror_mode": {
    "name": "ipython",
    "version": 3
   },
   "file_extension": ".py",
   "mimetype": "text/x-python",
   "name": "python",
   "nbconvert_exporter": "python",
   "pygments_lexer": "ipython3",
   "version": "3.11.5"
  }
 },
 "nbformat": 4,
 "nbformat_minor": 2
}
