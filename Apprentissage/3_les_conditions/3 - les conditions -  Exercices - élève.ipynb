{
 "cells": [
  {
   "cell_type": "markdown",
   "metadata": {},
   "source": [
    "<h1> Exercice 1 </h1>\n",
    "\n",
    "Vous êtes en train de développer un système de recommandation de films pour une plateforme de streaming. Le système doit recommander différents genres de films en fonction de l'âge de l'utilisateur. Les règles de recommandation sont les suivantes :\n",
    "\n",
    "- Pour les utilisateurs de moins de 13 ans, recommandez des films d'animation.\n",
    "- Pour les utilisateurs âgés de 13 à 17 ans inclus, recommandez des films d'aventure.\n",
    "- Pour les utilisateurs de 18 ans et plus, recommandez des films dramatiques.\n",
    "\n",
    "Vous devez retourner dans un print la phrase : Nous recommandons des films #type film correspondant#."
   ]
  },
  {
   "cell_type": "code",
   "execution_count": null,
   "metadata": {},
   "outputs": [],
   "source": [
    "# Entrée de l'âge de l'utilisateur\n",
    "age =  15"
   ]
  },
  {
   "cell_type": "markdown",
   "metadata": {},
   "source": [
    "<h1> Exercice 2 </h1>\n",
    "\n",
    "Vous écrivez un programme pour un cinéma qui offre des tarifs spéciaux pour les étudiants et les seniors. Les règles de tarification sont les suivantes :\n",
    "\n",
    "- Le ticket standard coûte 10 euros.\n",
    "- Les étudiants et les seniors bénéficient d'une réduction de 50%.\n",
    "- Si une personne est à la fois étudiante et senior, la réduction s'applique une seule fois.\n",
    "\n",
    "Écrivez un programme en Python qui calcule et affiche le prix du ticket en tenant compte de la réduction si applicable"
   ]
  },
  {
   "cell_type": "code",
   "execution_count": null,
   "metadata": {},
   "outputs": [],
   "source": [
    "# Prix standard\n",
    "prix_standard = 10\n",
    "\n",
    "# Entrées de l'utilisateur\n",
    "est_etudiant = True\n",
    "est_senior = False"
   ]
  },
  {
   "cell_type": "markdown",
   "metadata": {},
   "source": [
    "<h1>Exercice 3</h1>\n",
    "\n",
    "Vous créez un programme pour un site de e-commerce pour afficher un message sur la disponibilité d'un produit. Le produit est considéré comme \"En Stock\" si la quantité est supérieure à zéro. Sinon, le produit est \"Hors Stock\".\n",
    "\n",
    "Écrivez un programme en Python qui utilise un Short Hand if ... else pour déterminer et afficher l'état du stock du produit (\"En Stock\" ou \"Hors Stock\") "
   ]
  },
  {
   "cell_type": "code",
   "execution_count": null,
   "metadata": {},
   "outputs": [],
   "source": [
    "quantite = 3"
   ]
  },
  {
   "cell_type": "markdown",
   "metadata": {},
   "source": [
    "<h1>Exercice 4</h1>\n",
    "\n",
    "Vous écrivez un programme pour un thermostat intelligent. Le thermostat doit réguler la température en fonction de la saison. Les règles sont simples :\n",
    "\n",
    "- En hiver, si la température est inférieure à 20 degrés Celsius, le chauffage doit être allumé.\n",
    "- En été, si la température dépasse 30 degrés Celsius, le climatiseur doit être allumé.\n",
    "\n",
    "Écrivez un programme en Python qui :\n",
    "- indique si le chauffage doit s'allumer ou non,  lorqu'on est en hiver\n",
    "- indique si la climatisation doit s'allumer ou non, lorqu'on est en été\n",
    "\n",
    "La phrase à obtenir dans un print() est par exemple \"Nous sommes en été et l'allumage de la climatisation est nécéssaire/non nécéssaire\""
   ]
  },
  {
   "cell_type": "code",
   "execution_count": null,
   "metadata": {},
   "outputs": [],
   "source": [
    "saison = \"été\" # uniquement 2 valeurs possibles : été et hiver\n",
    "temperature = 25"
   ]
  },
  {
   "cell_type": "markdown",
   "metadata": {},
   "source": [
    "<h1>Exercice 5 (bonus)</h1>"
   ]
  },
  {
   "cell_type": "markdown",
   "metadata": {},
   "source": [
    "Vous développez un programme pour un petit café qui calcule le prix total des commandes des clients. Le café offre une promotion spéciale pour encourager les clients à acheter des boissons et des pâtisseries ensemble. Voici les règles :\n",
    "\n",
    "- Si un client commande une boisson (café ou thé) et une pâtisserie (gâteau ou biscuit), il obtient une réduction de 20% sur le total.\n",
    "- Si un client commande uniquement une boisson (café ou thé), il n'y a pas de réduction.\n",
    "- Si un client commande uniquement une pâtisserie (gâteau ou biscuit), il n'y a pas de réduction.\n",
    "\n",
    "Écrivez un programme en Python qui calcule et affiche le prix total en tenant compte de la promotion si applicable."
   ]
  },
  {
   "cell_type": "code",
   "execution_count": null,
   "metadata": {},
   "outputs": [],
   "source": [
    "# Prix fixe\n",
    "prix_boisson = 5\n",
    "prix_patisserie = 4\n",
    "\n",
    "# Entrées de l'utilisateur\n",
    "commande_boisson = \"oui\" # uniquement 2 valeurs possibles : oui ou non\n",
    "commande_patisserie = \"non\" # uniquement 2 valeurs possibles : oui ou non"
   ]
  }
 ],
 "metadata": {
  "kernelspec": {
   "display_name": "Python 3 (ipykernel)",
   "language": "python",
   "name": "python3"
  },
  "language_info": {
   "codemirror_mode": {
    "name": "ipython",
    "version": 3
   },
   "file_extension": ".py",
   "mimetype": "text/x-python",
   "name": "python",
   "nbconvert_exporter": "python",
   "pygments_lexer": "ipython3",
   "version": "3.11.5"
  }
 },
 "nbformat": 4,
 "nbformat_minor": 2
}
