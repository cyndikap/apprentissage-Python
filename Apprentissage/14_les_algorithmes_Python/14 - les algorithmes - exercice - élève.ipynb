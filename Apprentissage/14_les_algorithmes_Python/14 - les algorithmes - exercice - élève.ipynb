{
 "cells": [
  {
   "cell_type": "markdown",
   "id": "15698c8b",
   "metadata": {},
   "source": [
    "<h1> Exercice </h1>\n",
    "\n",
    "Votre mission consiste à développer un programme pour une boutique en ligne afin de gérer son inventaire de produits. \n",
    "\n",
    "Chaque produit est identifié par un numéro unique (ID). Vous recevez une liste désordonnée d'IDs de produits et devez réaliser les tâches suivantes :\n",
    "- Trier la liste d'IDs en utilisant l'algorithme de tri par sélection pour organiser l'inventaire de manière ascendante.\n",
    "- Une fois la liste triée, utiliser la recherche binaire pour vérifier la disponibilité d'un produit spécifique en recherchant son ID dans la liste triée.\n",
    "- Afficher si le produit est disponible ou non et, si oui, indiquer son emplacement (index) dans la liste triée."
   ]
  },
  {
   "cell_type": "code",
   "execution_count": null,
   "id": "db3d0edd",
   "metadata": {},
   "outputs": [],
   "source": [
    "produits = [102, 34, 55, 78, 3, 12]"
   ]
  }
 ],
 "metadata": {
  "kernelspec": {
   "display_name": "Python 3 (ipykernel)",
   "language": "python",
   "name": "python3"
  },
  "language_info": {
   "codemirror_mode": {
    "name": "ipython",
    "version": 3
   },
   "file_extension": ".py",
   "mimetype": "text/x-python",
   "name": "python",
   "nbconvert_exporter": "python",
   "pygments_lexer": "ipython3",
   "version": "3.11.5"
  }
 },
 "nbformat": 4,
 "nbformat_minor": 5
}
