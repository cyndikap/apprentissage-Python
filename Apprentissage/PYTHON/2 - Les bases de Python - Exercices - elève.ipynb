{
 "cells": [
  {
   "cell_type": "markdown",
   "metadata": {},
   "source": [
    "<b> 1) Debuggez cette erreur et expliquer brievement le problème en commentaire"
   ]
  },
  {
   "cell_type": "code",
   "execution_count": null,
   "metadata": {},
   "outputs": [],
   "source": [
    "Nom = 'Sebastien'"
   ]
  },
  {
   "cell_type": "code",
   "execution_count": null,
   "metadata": {},
   "outputs": [],
   "source": [
    "print('mon nom est 'Nom)"
   ]
  },
  {
   "cell_type": "markdown",
   "metadata": {},
   "source": [
    "<b>2) Faites en sorte que la cellule ci-dessous retourne 'J'apprends la data Science' à partir des variables à disposition"
   ]
  },
  {
   "cell_type": "code",
   "execution_count": null,
   "metadata": {},
   "outputs": [],
   "source": [
    "debutPhrase = 'J'apprends la '\n",
    "finPhrase = 'Data science'\n",
    "print()"
   ]
  },
  {
   "cell_type": "markdown",
   "metadata": {},
   "source": [
    "<b> 3) Debugguez le code ci-dessous en modifiant uniquement ce qu'il se trouve dans print(...)"
   ]
  },
  {
   "cell_type": "code",
   "execution_count": null,
   "metadata": {},
   "outputs": [],
   "source": [
    "heuresPassees = 2\n",
    "debutPhrase = 'j\\'apprends Python depuis '\n",
    "finPhrase = ' heures.'\n",
    "\n",
    "print(debutPhrase + heuresPassees + finPhrase)"
   ]
  },
  {
   "cell_type": "markdown",
   "metadata": {},
   "source": [
    "<b> 4) quelle sera la valeur de varAge dans le code ci-dessous ? Expliquez en commentaire la raison"
   ]
  },
  {
   "cell_type": "code",
   "execution_count": null,
   "metadata": {},
   "outputs": [],
   "source": [
    "varAge = 28"
   ]
  },
  {
   "cell_type": "code",
   "execution_count": null,
   "metadata": {},
   "outputs": [],
   "source": [
    "varAge = 30"
   ]
  },
  {
   "cell_type": "code",
   "execution_count": null,
   "metadata": {},
   "outputs": [],
   "source": [
    "print(varAge)"
   ]
  },
  {
   "cell_type": "markdown",
   "metadata": {},
   "source": [
    "<b> 5) Création d'un calculaeur de conversion </b>\n",
    "\n",
    "5) a) A partir des variables mises à disposition, calculez le taux de conversion et stockez le dans la variable \"tauxConversion\"\n",
    "\n",
    "Définition : Le taux de conversion d’un site web désigne le plus souvent le ratio [conversions/visites] donnant le pourcentage de visiteurs réalisant un achat au cours de la visite d’un site"
   ]
  },
  {
   "cell_type": "code",
   "execution_count": null,
   "metadata": {},
   "outputs": [],
   "source": [
    "nombreDeVisites = 26736352\n",
    "nombredeConversions = 973520\n",
    "#tauxConversion=..."
   ]
  },
  {
   "cell_type": "markdown",
   "metadata": {},
   "source": [
    "5) b) Verifiez le type de la variable en l'imprimant à l'execution de la cellule"
   ]
  },
  {
   "cell_type": "code",
   "execution_count": null,
   "metadata": {},
   "outputs": [],
   "source": [
    "#print(...)"
   ]
  },
  {
   "cell_type": "markdown",
   "metadata": {},
   "source": [
    "5) c) faites en sorte que le taux soit en base 100 plutôt qu'en base 1 (ex : avoir 62 plutot que 0.62)"
   ]
  },
  {
   "cell_type": "code",
   "execution_count": null,
   "metadata": {},
   "outputs": [],
   "source": [
    "#tauxConversion=..."
   ]
  },
  {
   "cell_type": "markdown",
   "metadata": {},
   "source": [
    "5) d) faites en sorte que le taux ne contient plus de virgule (nombre entier) "
   ]
  },
  {
   "cell_type": "code",
   "execution_count": null,
   "metadata": {},
   "outputs": [],
   "source": [
    "#tauxConversion=..."
   ]
  },
  {
   "cell_type": "markdown",
   "metadata": {},
   "source": [
    "5) e) Imprimez la phrase suivante \"Le taux de conversion est (valeur tauxConversion) %\""
   ]
  },
  {
   "cell_type": "code",
   "execution_count": null,
   "metadata": {},
   "outputs": [],
   "source": [
    "#print(...)"
   ]
  },
  {
   "cell_type": "markdown",
   "metadata": {},
   "source": [
    "5) f) Rassemblez toutes vos manipulations dans une cellule pour faire le travail en une seule fois. Commentez votre code pour expliquer vos manipulations."
   ]
  },
  {
   "cell_type": "code",
   "execution_count": null,
   "metadata": {},
   "outputs": [],
   "source": [
    "nombreDeVisites = 26736352\n",
    "nombredeConversions = 973520\n",
    "#tauxConversion=..."
   ]
  },
  {
   "cell_type": "markdown",
   "metadata": {},
   "source": [
    "<b>6) Vous travaillez sur un script pour un théâtre qui doit préparer des pancartes avec les noms des pièces de théâtre et les dates des représentations. Vous devez formater les informations données pour créer une annonce appropriée."
   ]
  },
  {
   "cell_type": "code",
   "execution_count": null,
   "metadata": {},
   "outputs": [],
   "source": [
    "#Les informations de départ\n",
    "titre = \"Les Misérables\"\n",
    "date = \"24 Juillet\""
   ]
  },
  {
   "cell_type": "markdown",
   "metadata": {},
   "source": [
    "6) a) Créez une nouvelle variable \"annonce\" qui contient le titre de la pièce et la date de la représentation en utilisant la concaténation de littéraux. Le résultat doit être : \"Les Misérables - 24 Juillet\""
   ]
  },
  {
   "cell_type": "code",
   "execution_count": null,
   "metadata": {},
   "outputs": [],
   "source": [
    "#annonce = "
   ]
  },
  {
   "cell_type": "markdown",
   "metadata": {},
   "source": [
    "6) b) La pancarte ne peut afficher que 20 caractères. Tronquez la chaîne annonce pour qu'elle ne contienne que les 20 premiers caractères et stockez le résultat dans une nouvelle variable annonce_tronquee."
   ]
  },
  {
   "cell_type": "code",
   "execution_count": null,
   "metadata": {},
   "outputs": [],
   "source": [
    "#annonce_tronquee = "
   ]
  },
  {
   "cell_type": "markdown",
   "metadata": {},
   "source": [
    "6. c) Pour des raisons esthétiques, le théâtre a décidé de ne pas utiliser d'espaces. Remplacez tous les espaces dans annonce_tronquee par des underscores (_) et stockez le résultat dans une nouvelle variable annonce_formatee."
   ]
  },
  {
   "cell_type": "code",
   "execution_count": null,
   "metadata": {},
   "outputs": [],
   "source": [
    "#annonce_formatee = "
   ]
  },
  {
   "cell_type": "markdown",
   "metadata": {},
   "source": [
    "6) d) La date de la représentation a été changée du \"24 Juillet\" au \"25 Juillet\". Mettez à jour la variable annonce_formatee pour refléter ce changement."
   ]
  },
  {
   "cell_type": "code",
   "execution_count": null,
   "metadata": {},
   "outputs": [],
   "source": [
    "#annonce_formatee = "
   ]
  },
  {
   "cell_type": "markdown",
   "metadata": {},
   "source": [
    "6) e) Imprimez la longueur de la chaîne finale annonce_formatee afin de s'assure qu'elle fasse toujours 20 caractères"
   ]
  },
  {
   "cell_type": "code",
   "execution_count": null,
   "metadata": {},
   "outputs": [],
   "source": []
  }
 ],
 "metadata": {
  "kernelspec": {
   "display_name": "Python [conda env:base] *",
   "language": "python",
   "name": "conda-base-py"
  },
  "language_info": {
   "codemirror_mode": {
    "name": "ipython",
    "version": 3
   },
   "file_extension": ".py",
   "mimetype": "text/x-python",
   "name": "python",
   "nbconvert_exporter": "python",
   "pygments_lexer": "ipython3",
   "version": "3.12.7"
  }
 },
 "nbformat": 4,
 "nbformat_minor": 4
}
