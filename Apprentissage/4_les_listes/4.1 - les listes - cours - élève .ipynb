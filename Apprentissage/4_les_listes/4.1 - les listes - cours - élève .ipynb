{
 "cells": [
  {
   "cell_type": "markdown",
   "metadata": {},
   "source": [
    "<h1>1. Concept et déclaration d'une liste en Python</h1>\n",
    "\n",
    "Une liste en Python est une structure de données qui permet de stocker une collection d'éléments.\n",
    "\n",
    "\n",
    "- Les listes sont utiles pour stocker des données qui doivent être organisées de manière séquentielle.\n",
    "- Elles sont flexibles et peuvent être modifiées après leur création (ajout, suppression, modification d'éléments).\n",
    "- Elles sont idéales pour traiter des données de manière itérative (avec des boucles).\n",
    "\n",
    "\n",
    "Cas 1 : on souhaite stocker les produits vendus sur un site e-commerce <br>\n",
    "Cas 2 : on souhaite stocker le chiffre d'affaires d'un site e-commerce pour chaque jour de l'année passée..."
   ]
  },
  {
   "cell_type": "code",
   "execution_count": null,
   "metadata": {},
   "outputs": [],
   "source": [
    "produit1 = 'iPhone'\n",
    "produit2 = 'chaussures'\n",
    "produit3 = 'console'\n",
    "\n",
    "jour1 = 10000\n",
    "jour2 = 15000\n",
    "jour3 = 12000"
   ]
  },
  {
   "cell_type": "markdown",
   "metadata": {},
   "source": [
    "Une méthode plus simple serait de déclarer une liste de ces élements.\n",
    "\n",
    "Pour la déclaration Une liste est définie en plaçant tous les éléments (éléments de la liste) à l'intérieur de crochets [], séparés par des virgules."
   ]
  },
  {
   "cell_type": "code",
   "execution_count": null,
   "metadata": {},
   "outputs": [],
   "source": []
  },
  {
   "cell_type": "markdown",
   "metadata": {},
   "source": [
    "A noter qu'il est possible de mélanger les types de données dans une liste"
   ]
  },
  {
   "cell_type": "code",
   "execution_count": null,
   "metadata": {},
   "outputs": [],
   "source": []
  },
  {
   "cell_type": "markdown",
   "metadata": {},
   "source": [
    "Il est possible de créer une liste vide, qui ne contient aucun élément (utile pour ajouter des éléments plus tard dans le programme)"
   ]
  },
  {
   "cell_type": "code",
   "execution_count": null,
   "metadata": {},
   "outputs": [],
   "source": []
  },
  {
   "cell_type": "markdown",
   "metadata": {},
   "source": [
    "<h1>2. Accès et Modification des Éléments dans les Listes Python</h1>"
   ]
  },
  {
   "cell_type": "markdown",
   "metadata": {},
   "source": [
    "Chaque élément dans une liste a un index basé sur sa position. Le premier élément a l'index 0, le deuxième élément l'index 1, et ainsi de suite."
   ]
  },
  {
   "cell_type": "code",
   "execution_count": null,
   "metadata": {},
   "outputs": [],
   "source": []
  },
  {
   "cell_type": "markdown",
   "metadata": {},
   "source": [
    "Si vous indiquez un index qui n'est pas présent, Python retournera une erreur"
   ]
  },
  {
   "cell_type": "code",
   "execution_count": null,
   "metadata": {},
   "outputs": [],
   "source": []
  },
  {
   "cell_type": "markdown",
   "metadata": {},
   "source": [
    "Il est également possible d'indiquer des indexations négatives. -1 se réfère au dernier élément, -2 à l'avant-dernier élément, etc."
   ]
  },
  {
   "cell_type": "code",
   "execution_count": null,
   "metadata": {},
   "outputs": [],
   "source": []
  },
  {
   "cell_type": "markdown",
   "metadata": {},
   "source": [
    "Comme pour les string, il est possible de selectionner des plages d'éléments"
   ]
  },
  {
   "cell_type": "code",
   "execution_count": null,
   "metadata": {},
   "outputs": [],
   "source": []
  },
  {
   "cell_type": "markdown",
   "metadata": {},
   "source": [
    "Via toutes ces selections, il est également possible de modifier des valeurs de la liste"
   ]
  },
  {
   "cell_type": "code",
   "execution_count": null,
   "metadata": {},
   "outputs": [],
   "source": []
  },
  {
   "cell_type": "code",
   "execution_count": null,
   "metadata": {},
   "outputs": [],
   "source": []
  },
  {
   "cell_type": "markdown",
   "metadata": {},
   "source": [
    "<h1> Les méthodes de bases pour les listes <h1>"
   ]
  },
  {
   "cell_type": "markdown",
   "metadata": {},
   "source": [
    "append() : Ajoute un élément à la fin de la liste"
   ]
  },
  {
   "cell_type": "code",
   "execution_count": null,
   "metadata": {},
   "outputs": [],
   "source": []
  },
  {
   "cell_type": "markdown",
   "metadata": {},
   "source": [
    "insert() : Insère un élément à une position spécifiée"
   ]
  },
  {
   "cell_type": "code",
   "execution_count": null,
   "metadata": {},
   "outputs": [],
   "source": []
  },
  {
   "cell_type": "markdown",
   "metadata": {},
   "source": [
    "remove() : Supprime le premier élément avec la valeur spécifiée"
   ]
  },
  {
   "cell_type": "code",
   "execution_count": null,
   "metadata": {},
   "outputs": [],
   "source": []
  },
  {
   "cell_type": "markdown",
   "metadata": {},
   "source": [
    "pop() : Supprime l'élément à une position spécifiée et le retourne. Si aucun index n'est spécifié, supprime le dernier élément."
   ]
  },
  {
   "cell_type": "code",
   "execution_count": null,
   "metadata": {},
   "outputs": [],
   "source": []
  },
  {
   "cell_type": "markdown",
   "metadata": {},
   "source": [
    "del : Supprime l'élément à une position spécifiée. Peut également supprimer des tranches de la liste ou la liste entière."
   ]
  },
  {
   "cell_type": "code",
   "execution_count": null,
   "metadata": {},
   "outputs": [],
   "source": []
  },
  {
   "cell_type": "markdown",
   "metadata": {},
   "source": [
    "clear() : Vide entièrement une liste"
   ]
  },
  {
   "cell_type": "code",
   "execution_count": null,
   "metadata": {},
   "outputs": [],
   "source": []
  },
  {
   "cell_type": "markdown",
   "metadata": {},
   "source": [
    "len() : Retourne la longueur de la liste"
   ]
  },
  {
   "cell_type": "code",
   "execution_count": null,
   "metadata": {},
   "outputs": [],
   "source": []
  },
  {
   "cell_type": "markdown",
   "metadata": {},
   "source": [
    "count() : Compte le nombre de fois qu'un élément apparaît dans la liste."
   ]
  },
  {
   "cell_type": "code",
   "execution_count": null,
   "metadata": {},
   "outputs": [],
   "source": []
  },
  {
   "cell_type": "markdown",
   "metadata": {},
   "source": [
    "index() : Retourne l'index du premier élément avec la valeur spécifiée"
   ]
  },
  {
   "cell_type": "code",
   "execution_count": null,
   "metadata": {},
   "outputs": [],
   "source": []
  },
  {
   "cell_type": "markdown",
   "metadata": {},
   "source": [
    "in vérifie si un élement est dans une liste"
   ]
  },
  {
   "cell_type": "code",
   "execution_count": null,
   "metadata": {},
   "outputs": [],
   "source": []
  },
  {
   "cell_type": "markdown",
   "metadata": {},
   "source": [
    "sum() va sommer les valeurs d'une liste"
   ]
  },
  {
   "cell_type": "code",
   "execution_count": null,
   "metadata": {},
   "outputs": [],
   "source": []
  },
  {
   "cell_type": "markdown",
   "metadata": {},
   "source": [
    "sort() : Trie une liste en place, modifiant l'ordre original des éléments."
   ]
  },
  {
   "cell_type": "code",
   "execution_count": null,
   "metadata": {},
   "outputs": [],
   "source": []
  },
  {
   "cell_type": "markdown",
   "metadata": {},
   "source": [
    "sorted() : Retourne une nouvelle liste triée sans modifier l'originale."
   ]
  },
  {
   "cell_type": "code",
   "execution_count": null,
   "metadata": {},
   "outputs": [],
   "source": []
  },
  {
   "cell_type": "markdown",
   "metadata": {},
   "source": [
    "reverse() : Inverse l'ordre des éléments dans la liste en place"
   ]
  },
  {
   "cell_type": "code",
   "execution_count": null,
   "metadata": {},
   "outputs": [],
   "source": []
  },
  {
   "cell_type": "markdown",
   "metadata": {},
   "source": [
    "<h1> Listes multidimensionnelles </h1>\n",
    "\n",
    "Les listes multidimensionnelles, souvent appelées listes de listes, sont des listes qui contiennent d'autres listes comme éléments. Elles sont utilisées pour représenter des structures de données plus complexes, comme des tableaux ou des matrices.\n",
    "\n",
    "<b> Création d'une liste multidimensionnelle </b>"
   ]
  },
  {
   "cell_type": "code",
   "execution_count": null,
   "metadata": {},
   "outputs": [],
   "source": []
  },
  {
   "cell_type": "markdown",
   "metadata": {},
   "source": [
    "<b> Accès aux Éléments d'une liste multidimensionnelle </b>"
   ]
  },
  {
   "cell_type": "code",
   "execution_count": null,
   "metadata": {},
   "outputs": [],
   "source": []
  },
  {
   "cell_type": "markdown",
   "metadata": {},
   "source": [
    "<b>Les méthodes liés aux listes multidimensionnelles</b>\n",
    "\n",
    "Ce sont les mêmes que pour les tableaux classiques ! "
   ]
  },
  {
   "cell_type": "code",
   "execution_count": null,
   "metadata": {},
   "outputs": [],
   "source": []
  },
  {
   "cell_type": "code",
   "execution_count": null,
   "metadata": {},
   "outputs": [],
   "source": []
  },
  {
   "cell_type": "markdown",
   "metadata": {},
   "source": [
    "<h1> Copie Profonde vs Copie Superficielle </h1>\n",
    "\n",
    "L'affectation directe (=) ne crée pas une nouvelle liste, mais plutôt une référence à la liste originale. Les modifications apportées à une liste se reflètent donc dans l'autre.\n",
    "\n",
    "Comme cela n'est pas très intuitif, commençons par une variable simple : "
   ]
  },
  {
   "cell_type": "code",
   "execution_count": null,
   "metadata": {},
   "outputs": [],
   "source": [
    "A = 1\n",
    "B = A\n",
    "print(A)\n",
    "print(B)\n",
    "\n",
    "A = 2\n",
    "print(A)\n",
    "print(B)"
   ]
  },
  {
   "cell_type": "markdown",
   "metadata": {},
   "source": [
    "Effectuons la même chose sur une liste"
   ]
  },
  {
   "cell_type": "code",
   "execution_count": null,
   "metadata": {},
   "outputs": [],
   "source": [
    "A = [1,2,3]\n",
    "B = A\n",
    "print(A)\n",
    "print(B)\n",
    "\n",
    "A.pop()\n",
    "print(A)\n",
    "print(B)"
   ]
  },
  {
   "cell_type": "markdown",
   "metadata": {},
   "source": [
    "Pour palier à cela la méthode copy() crée une copie superficielle de la liste. Les modifications apportées à la copie n'affectent pas la liste originale"
   ]
  },
  {
   "cell_type": "code",
   "execution_count": null,
   "metadata": {},
   "outputs": [],
   "source": [
    "A = [1,2,3]\n",
    "B = A.copy()\n",
    "print(A)\n",
    "print(B)\n",
    "\n",
    "A.pop()\n",
    "print(A)\n",
    "print(B)"
   ]
  }
 ],
 "metadata": {
  "kernelspec": {
   "display_name": "Python 3 (ipykernel)",
   "language": "python",
   "name": "python3"
  },
  "language_info": {
   "codemirror_mode": {
    "name": "ipython",
    "version": 3
   },
   "file_extension": ".py",
   "mimetype": "text/x-python",
   "name": "python",
   "nbconvert_exporter": "python",
   "pygments_lexer": "ipython3",
   "version": "3.11.5"
  }
 },
 "nbformat": 4,
 "nbformat_minor": 2
}
