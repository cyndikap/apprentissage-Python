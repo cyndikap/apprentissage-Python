{
 "cells": [
  {
   "cell_type": "markdown",
   "id": "8530f567",
   "metadata": {},
   "source": [
    "<h1> Exercice 1 </h1>\n",
    "\n",
    "Vous êtes en charge de la création d'un système pour gérer un club de lecture. Ce club a besoin de garder une trace des différents genres de livres lus par ses membres au cours de l'année.\n",
    "\n",
    "\n",
    "1) Création d'un Set de Genres\n",
    "\n",
    "- Créez un set vide nommé genres_lus.\n",
    "- Ajoutez les genres \"Fantaisie\", \"Science-Fiction\" et \"Policier\" dans le set.\n",
    "\n",
    "2) Ajout de Nouveaux Genres\n",
    "- Un membre lit un livre de \"Romance\". Ajoutez ce genre au set genres_lus.\n",
    "- Un autre membre lit un autre livre de \"Fantaisie\". Essayez d'ajouter \"Fantaisie\" à nouveau et expliquez le résultat obtenu en commentaire\n",
    "\n",
    "3) Suppression d'un Genre\n",
    "\n",
    "Le club décide de ne plus inclure les livres de genre \"Policier\" dans ses activités. Retirez ce genre du set genres_lus."
   ]
  },
  {
   "cell_type": "code",
   "execution_count": null,
   "id": "3cb0b613",
   "metadata": {},
   "outputs": [],
   "source": []
  },
  {
   "cell_type": "code",
   "execution_count": null,
   "id": "5633f758",
   "metadata": {},
   "outputs": [],
   "source": []
  },
  {
   "cell_type": "code",
   "execution_count": null,
   "id": "61e5971e",
   "metadata": {},
   "outputs": [],
   "source": []
  },
  {
   "cell_type": "code",
   "execution_count": null,
   "id": "e81408c2",
   "metadata": {},
   "outputs": [],
   "source": []
  },
  {
   "cell_type": "markdown",
   "id": "1b676089",
   "metadata": {},
   "source": [
    "<h1>Exercice 2</h1>\n",
    "\n",
    "Vous travaillez sur un système de gestion pour un club sportif. Ce club propose différentes activités et vous devez gérer les adhésions à ces activités. Chaque activité a son propre ensemble de membres.\n",
    "Le club propose trois activités : Natation, Tennis et Course à pied.\n",
    "\n",
    "\n",
    "1) Trouver les Membres Communs et Uniques\n",
    "\n",
    "- Déterminez les membres qui pratiquent à la fois la Natation et le Tennis.\n",
    "- Trouvez les membres qui pratiquent uniquement la Course à pied, mais ni la Natation ni le Tennis.\n",
    "\n",
    "2) Ajout d'une Nouvelle Activité\n",
    "\n",
    "- Une nouvelle activité, le Yoga, est ajoutée avec les membres suivants : {\"Léa\", \"Gabriel\", \"Emma\"}. Déclarez là\n",
    "- Déterminez tous les membres du club peu importe leur sport, y compris ceux pratiquant le Yoga.\n"
   ]
  },
  {
   "cell_type": "code",
   "execution_count": null,
   "id": "dc6edebc",
   "metadata": {},
   "outputs": [],
   "source": [
    "natation = {\"Emma\", \"Lucas\", \"Zoé\", \"Léo\"}\n",
    "tennis = {\"Hugo\", \"Emma\", \"Jade\", \"Léo\"}\n",
    "course = {\"Lucas\", \"Jade\", \"Gabriel\", \"Chloé\"}"
   ]
  },
  {
   "cell_type": "code",
   "execution_count": null,
   "id": "d2e26750",
   "metadata": {},
   "outputs": [],
   "source": []
  },
  {
   "cell_type": "code",
   "execution_count": null,
   "id": "26f1c18e",
   "metadata": {},
   "outputs": [],
   "source": []
  },
  {
   "cell_type": "code",
   "execution_count": null,
   "id": "6f9a9aa4",
   "metadata": {},
   "outputs": [],
   "source": []
  },
  {
   "cell_type": "markdown",
   "id": "16a5dc90",
   "metadata": {},
   "source": [
    "<h1> Exercice 3 </h1>\n",
    "\n",
    "Vous travaillez sur un système pour une agence de voyage, qui propose différents forfaits de voyage. Chaque forfait est défini par un ensemble d'activités. Vous devez gérer ces forfaits et les préférences des clients.\n",
    "\n",
    "1) Vérifiez si le Forfait Détente correspond aux intérêts du Client 1.\n",
    "2) Vérifiez si le Client 2 peut être satisfait avec le Forfait Aventure.\n",
    "3) L'agence reçoit une liste d'activités suggérées par les clients avec des doublons : [\"Spa\", \"Parachutisme\", \"Yoga\", \"Parachutisme\", \"Randonnée\"]. Créez une liste dédupliquée de ces activités pour considérer de futures mises à jour des forfaits.\n"
   ]
  },
  {
   "cell_type": "code",
   "execution_count": null,
   "id": "e5bf3c07",
   "metadata": {},
   "outputs": [],
   "source": [
    "forfait_aventure = {\"Randonnée\", \"Rafting\", \"Parachutisme\"}\n",
    "forfait_detente = {\"Yoga\", \"Spa\", \"Méditation\", \"Randonnée\"}\n",
    "preferences_client_1 = {\"Yoga\", \"Méditation\"}\n",
    "preferences_client_2 = {\"Rafting\", \"Parachutisme\", \"Randonnée\"}"
   ]
  },
  {
   "cell_type": "code",
   "execution_count": null,
   "id": "04965807",
   "metadata": {},
   "outputs": [],
   "source": []
  }
 ],
 "metadata": {
  "kernelspec": {
   "display_name": "Python 3 (ipykernel)",
   "language": "python",
   "name": "python3"
  },
  "language_info": {
   "codemirror_mode": {
    "name": "ipython",
    "version": 3
   },
   "file_extension": ".py",
   "mimetype": "text/x-python",
   "name": "python",
   "nbconvert_exporter": "python",
   "pygments_lexer": "ipython3",
   "version": "3.11.5"
  }
 },
 "nbformat": 4,
 "nbformat_minor": 5
}
