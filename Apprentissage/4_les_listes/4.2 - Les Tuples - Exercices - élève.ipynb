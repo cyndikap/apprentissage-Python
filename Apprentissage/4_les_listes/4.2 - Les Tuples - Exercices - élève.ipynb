{
 "cells": [
  {
   "cell_type": "markdown",
   "id": "b5b10d4e",
   "metadata": {},
   "source": [
    "<h1> Exercice 1 </h1>\n",
    "\n",
    "Vous êtes en charge d'un programme qui doit gérer les informations des étudiants d'une école. Les données de chaque étudiant sont stockées sous la forme d'un tuple contenant le nom de l'étudiant, son âge et sa moyenne générale.\n",
    "\n",
    "1) Création des Tuples\n",
    "\n",
    "Créez trois tuples pour trois étudiants (format \"(nom, age, moyenne)\") :\n",
    "- Alice, 20 ans, moyenne de 15.5\n",
    "- Bob, 22 ans, moyenne de 14.0\n",
    "- Clara, 19 ans, moyenne de 16.2\n",
    "\n",
    "Stockez ces 3 tuples dans une liste nommée etudiants\n",
    "\n",
    "2) récuppération d'informations\n",
    "\n",
    "- Affichez les informations du dernier étudiant de la liste\n",
    "- Affichez la moyenne du premier étudiant de la liste\n",
    "- Récupérez et affichez le nom, l'age et la moyenne du deuxième étudiant (Bob) dans les varaibles nom, age, moyenne et cel en une seule ligne\n",
    "\n",
    "3) ajout d'un étudiant\n",
    "\n",
    "Un nouvel étudiant, David, 21 ans avec une moyenne de 15.0, arrive. Ajoutez ses informations dans la liste etudiants.\n",
    "\n",
    "4) calcul de la moyenne des étudiants\n",
    "\n",
    "- Créez un nouveau Tuple \"Moyenne\" qui contiendra les moyennes de tous les étudiants (à vous d'aller les récupérer dans le tuple \"etudiants\" existants\n",
    "- Calculez la moyenne des étudiants via les méthodes summ et len"
   ]
  },
  {
   "cell_type": "code",
   "execution_count": null,
   "id": "8309083d",
   "metadata": {},
   "outputs": [],
   "source": []
  },
  {
   "cell_type": "code",
   "execution_count": null,
   "id": "8fac8e00",
   "metadata": {},
   "outputs": [],
   "source": []
  },
  {
   "cell_type": "code",
   "execution_count": null,
   "id": "f8343079",
   "metadata": {},
   "outputs": [],
   "source": []
  },
  {
   "cell_type": "code",
   "execution_count": null,
   "id": "f97681e9",
   "metadata": {},
   "outputs": [],
   "source": []
  },
  {
   "cell_type": "markdown",
   "id": "7f26fb0b",
   "metadata": {},
   "source": [
    "<h1> Exercice 2 </h1>\n",
    "\n",
    "Dans un jeu de rôle, chaque personnage est représenté par un tuple contenant son nom, sa classe (comme mage, guerrier, archer, etc.), et ses points de vie. Votre tâche est de gérer les informations de ces personnages.\n",
    "\n",
    "1) Créez des tuples pour trois personnages :\n",
    "- Lila, un mage, avec 100 points de vie.\n",
    "- Torn, un guerrier, avec 150 points de vie.\n",
    "- Eryn, un archer, avec 120 points de vie.\n",
    "Stockez ces tuples dans une liste nommée personnages\n",
    "\n",
    "2) Modification des Points de Vie\n",
    "Lors d'une bataille, Torn perd 20 points de vie. Mettez à jour ses informations (Rappelez-vous que vous ne pouvez pas modifier un tuple directement, il va falloir trouver une solution)\n",
    "\n",
    "3) Affichage des Informations\n",
    "\n",
    "Affichez les nouvelle informations de Torn dans un format lisible : \"Nom du personnage : [Nom], Classe : [Classe], Points de vie : [Points de vie]\""
   ]
  },
  {
   "cell_type": "code",
   "execution_count": null,
   "id": "eb99110b",
   "metadata": {},
   "outputs": [],
   "source": []
  },
  {
   "cell_type": "code",
   "execution_count": null,
   "id": "c200fc11",
   "metadata": {},
   "outputs": [],
   "source": []
  },
  {
   "cell_type": "code",
   "execution_count": null,
   "id": "d78936e6",
   "metadata": {},
   "outputs": [],
   "source": []
  }
 ],
 "metadata": {
  "kernelspec": {
   "display_name": "Python 3 (ipykernel)",
   "language": "python",
   "name": "python3"
  },
  "language_info": {
   "codemirror_mode": {
    "name": "ipython",
    "version": 3
   },
   "file_extension": ".py",
   "mimetype": "text/x-python",
   "name": "python",
   "nbconvert_exporter": "python",
   "pygments_lexer": "ipython3",
   "version": "3.11.5"
  }
 },
 "nbformat": 4,
 "nbformat_minor": 5
}
