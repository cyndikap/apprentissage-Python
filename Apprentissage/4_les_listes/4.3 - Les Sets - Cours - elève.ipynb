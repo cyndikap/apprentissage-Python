{
 "cells": [
  {
   "cell_type": "markdown",
   "id": "1b4f9031",
   "metadata": {},
   "source": [
    "<h1> Les Sets </h1>\n",
    "\n",
    "<b>Définition et déclaration des Sets</b>\n",
    "\n",
    "\n",
    "Qu'est-ce qu'un Set ?\n",
    "- Un set en Python est une collection non ordonnée d'éléments uniques.\n",
    "- Chaque élément dans un set est distinct et immuable, ce qui signifie qu'il ne peut pas être modifié une fois dans le set, - bien que le set lui-même puisse être modifié.\n",
    "\n",
    "Comparaison avec les Listes et les Tuples\n",
    "- Contrairement aux listes et aux tuples, les sets ne sont pas indexés et ne conservent pas l'ordre des éléments.\n",
    "- Les sets sont utiles pour stocker des éléments uniques et effectuer des opérations ensemblistes comme les unions et intersections.\n",
    "\n",
    "Déclaration d'un set (avec les accolades {})"
   ]
  },
  {
   "cell_type": "code",
   "execution_count": null,
   "id": "1d6569b1",
   "metadata": {},
   "outputs": [],
   "source": []
  },
  {
   "cell_type": "markdown",
   "id": "f0c517df",
   "metadata": {},
   "source": [
    "Le Set est non ordonné, ce qui veut dire que je ne peux pas accéder individuellement à une valeur "
   ]
  },
  {
   "cell_type": "code",
   "execution_count": null,
   "id": "5ba96944",
   "metadata": {},
   "outputs": [],
   "source": []
  },
  {
   "cell_type": "markdown",
   "id": "6e1b3639",
   "metadata": {},
   "source": [
    "Déclaration d'un Set à une valeur, ou sans valeur"
   ]
  },
  {
   "cell_type": "code",
   "execution_count": null,
   "id": "9536147b",
   "metadata": {},
   "outputs": [],
   "source": []
  },
  {
   "cell_type": "markdown",
   "id": "7de44f68",
   "metadata": {},
   "source": [
    "S'il y a des doublons lors de la déclaration, ils seront dédupliqués (utile pour dédupliquer des listes)"
   ]
  },
  {
   "cell_type": "code",
   "execution_count": null,
   "id": "002bc992",
   "metadata": {},
   "outputs": [],
   "source": []
  },
  {
   "cell_type": "markdown",
   "id": "77666bf0",
   "metadata": {},
   "source": [
    "<b>Manipulation et modification de Sets</b>\n",
    "\n",
    "Utilisation de add() pour ajouter un élément au set"
   ]
  },
  {
   "cell_type": "code",
   "execution_count": null,
   "id": "0d09aa6f",
   "metadata": {},
   "outputs": [],
   "source": []
  },
  {
   "cell_type": "markdown",
   "id": "86ccfc77",
   "metadata": {},
   "source": [
    "Suppression de valeurs avec remove et discard : \n",
    "- remove(element) supprime un élément du set ; lève une KeyError si l'élément n'existe pas.\n",
    "- discard(element) supprime un élément s'il est présent, sans lever d'erreur."
   ]
  },
  {
   "cell_type": "code",
   "execution_count": null,
   "id": "8a719901",
   "metadata": {},
   "outputs": [],
   "source": []
  },
  {
   "cell_type": "code",
   "execution_count": null,
   "id": "7160709a",
   "metadata": {},
   "outputs": [],
   "source": []
  },
  {
   "cell_type": "markdown",
   "id": "939ec322",
   "metadata": {},
   "source": [
    "Méthodes communes avec les listes et les tuples"
   ]
  },
  {
   "cell_type": "code",
   "execution_count": null,
   "id": "4c9e0cc1",
   "metadata": {},
   "outputs": [],
   "source": []
  },
  {
   "cell_type": "markdown",
   "id": "dd2d076f",
   "metadata": {},
   "source": [
    "<b> Opérations sur Plusieurs Sets </b>\n",
    "\n",
    "union() ou | combine deux sets sans doublons"
   ]
  },
  {
   "cell_type": "code",
   "execution_count": null,
   "id": "1e621f2a",
   "metadata": {},
   "outputs": [],
   "source": [
    "set1 = {1, 2, 3}\n",
    "set2 = {3, 4, 5}"
   ]
  },
  {
   "cell_type": "markdown",
   "id": "fbab5d30",
   "metadata": {},
   "source": [
    "intersection() ou & obtient les éléments communs aux deux sets"
   ]
  },
  {
   "cell_type": "code",
   "execution_count": null,
   "id": "d9dd1550",
   "metadata": {},
   "outputs": [],
   "source": [
    "set1 = {1, 2, 3, 4}\n",
    "set2 = {3, 4, 5, 6}"
   ]
  },
  {
   "cell_type": "markdown",
   "id": "fb2904dc",
   "metadata": {},
   "source": [
    "difference() ou - trouve les éléments présents dans le premier set mais pas dans le second."
   ]
  },
  {
   "cell_type": "code",
   "execution_count": null,
   "id": "ae291258",
   "metadata": {},
   "outputs": [],
   "source": [
    "set1 = {1, 2, 3, 4}\n",
    "set2 = {3, 4, 5, 6}"
   ]
  },
  {
   "cell_type": "code",
   "execution_count": null,
   "id": "8d1127b1",
   "metadata": {},
   "outputs": [],
   "source": []
  },
  {
   "cell_type": "markdown",
   "id": "7fc6dff0",
   "metadata": {},
   "source": [
    "symmetric_difference() ou ^ trouve les éléments présents dans l'un ou l'autre set, mais pas dans les deux"
   ]
  },
  {
   "cell_type": "code",
   "execution_count": null,
   "id": "0e5c005e",
   "metadata": {},
   "outputs": [],
   "source": [
    "set1 = {1, 2, 3, 4}\n",
    "set2 = {3, 4, 5, 6}"
   ]
  },
  {
   "cell_type": "markdown",
   "id": "a07708ae",
   "metadata": {},
   "source": [
    "<b>Utilisation des opérations sur plusieurs Sets dans un cas concret</b>\n",
    "\n",
    "Supposons que vous soyez le gestionnaire d'un grand magasin et que vous souhaitiez analyser différents groupes de clients pour des opérations marketing ciblées. Vous disposez de trois groupes de clients basés sur leurs préférences d'achat et leur participation à des événements spéciaux :\n",
    "\n",
    "- Groupe A : Clients qui ont acheté des produits électroniques.\n",
    "- Groupe B : Clients qui ont participé à une vente spéciale de vêtements.\n",
    "- Groupe C : Clients qui ont souscrit à la newsletter du magasin."
   ]
  },
  {
   "cell_type": "code",
   "execution_count": null,
   "id": "09f8b9cb",
   "metadata": {},
   "outputs": [],
   "source": [
    "groupe_a = {\"Alice\", \"Bob\", \"Charlie\"}\n",
    "groupe_b = {\"Bob\", \"Daisy\", \"Elena\", \"Fred\"}\n",
    "groupe_c = {\"George\", \"Hannah\", \"Bob\", \"Charlie\"}"
   ]
  },
  {
   "cell_type": "markdown",
   "id": "41fdecfc",
   "metadata": {},
   "source": [
    "1) Vous voulez envoyer des publicités générales à tous les clients uniques des trois groupes."
   ]
  },
  {
   "cell_type": "code",
   "execution_count": null,
   "id": "736602c5",
   "metadata": {},
   "outputs": [],
   "source": []
  },
  {
   "cell_type": "markdown",
   "id": "897a3035",
   "metadata": {},
   "source": [
    "2. Vous souhaitez offrir une réduction spéciale aux clients qui sont à la fois dans le groupe A et le groupe B (acheteurs de produits électroniques et participants à la vente de vêtements)."
   ]
  },
  {
   "cell_type": "code",
   "execution_count": null,
   "id": "c7e0d9f8",
   "metadata": {},
   "outputs": [],
   "source": []
  },
  {
   "cell_type": "markdown",
   "id": "83d34861",
   "metadata": {},
   "source": [
    "3. Vous voulez sonder les avis des clients qui ont acheté des produits électroniques mais n'ont pas participé à la vente de vêtements."
   ]
  },
  {
   "cell_type": "code",
   "execution_count": null,
   "id": "f526c61f",
   "metadata": {},
   "outputs": [],
   "source": []
  },
  {
   "cell_type": "markdown",
   "id": "d8d60a9b",
   "metadata": {},
   "source": [
    "4. Vous cherchez à identifier les clients qui sont soit dans le groupe A, soit dans le groupe B, mais pas dans les deux, pour une campagne d'engagement."
   ]
  },
  {
   "cell_type": "code",
   "execution_count": null,
   "id": "f7b9ac47",
   "metadata": {},
   "outputs": [],
   "source": []
  },
  {
   "cell_type": "markdown",
   "id": "a82b6d85",
   "metadata": {},
   "source": [
    "<b> Fonctionnalités avancées : les Frozenset</b>\n",
    "\n",
    "Un frozenset est une version immuable d'un set. Comme les tuples sont aux listes, les frozensets sont aux sets.\n",
    "Une fois créé, vous ne pouvez pas ajouter ou supprimer des éléments d'un frozenset."
   ]
  },
  {
   "cell_type": "code",
   "execution_count": null,
   "id": "10f70c22",
   "metadata": {},
   "outputs": [],
   "source": []
  },
  {
   "cell_type": "markdown",
   "id": "752f0494",
   "metadata": {},
   "source": [
    "<b> Fonctionnalités avancées : Sous-Ensembles et Sur-Ensembles </b>\n",
    "\n",
    "- Sous-Ensembles (issubset) : Un set A est un sous-ensemble d'un set B si tous les éléments de A sont dans B\n",
    "- Sur-Ensembles (issuperset) : Un set A est un sur-ensemble d'un set B si tous les éléments de B sont dans A"
   ]
  },
  {
   "cell_type": "code",
   "execution_count": null,
   "id": "db126853",
   "metadata": {},
   "outputs": [],
   "source": [
    "ensemble_a = {1, 2}\n",
    "ensemble_b = {1, 2, 3}"
   ]
  },
  {
   "cell_type": "markdown",
   "id": "e66c81fe",
   "metadata": {},
   "source": [
    "<b> Exemple concret d'utilisation </b>\n",
    "\n",
    "Imaginons que vous travaillez dans une entreprise de développement logiciel et que vous gérez plusieurs équipes travaillant sur différents projets. Chaque projet nécessite un ensemble spécifique de compétences. Vous avez des sets représentant les compétences des différentes équipes et des projets.\n",
    "\n",
    "Équipes et leurs Compétences\n",
    "- Équipe A : {Python, Java, SQL}\n",
    "- Équipe B : {Python, JavaScript, CSS}\n",
    "- Équipe C : {Java, C#, .NET}\n",
    "\n",
    "Projets et Compétences Requises\n",
    "- Projet X : {Python, SQL}\n",
    "- Projet Y : {JavaScript, CSS}\n",
    "- Projet Z : {C#, .NET, Java}"
   ]
  },
  {
   "cell_type": "code",
   "execution_count": null,
   "id": "d3bb5bfa",
   "metadata": {},
   "outputs": [],
   "source": [
    "projet_x = {\"Python\", \"SQL\"}\n",
    "projet_y = {\"JavaScript\", \"CSS\"}\n",
    "projet_z = {\"C#\",\".NET\", \"Java\"}\n",
    "\n",
    "equipe_a = {\"Python\", \"Java\", \"SQL\"}\n",
    "equipe_B = {'Python', 'JavaScript', 'CSS'}\n",
    "equipe_C = {'Java', 'C#', '.NET'}"
   ]
  },
  {
   "cell_type": "markdown",
   "id": "ad95988b",
   "metadata": {},
   "source": [
    "1) Est-ce que l'Équipe A a toutes les compétences requises pour le Projet X ?"
   ]
  },
  {
   "cell_type": "code",
   "execution_count": null,
   "id": "e2e5dc8d",
   "metadata": {},
   "outputs": [],
   "source": []
  },
  {
   "cell_type": "markdown",
   "id": "e87aea3b",
   "metadata": {},
   "source": [
    "2. Est-ce que les équipes B et C réunies peuvent gérer le projet X ?"
   ]
  },
  {
   "cell_type": "code",
   "execution_count": null,
   "id": "d15efdd9",
   "metadata": {},
   "outputs": [],
   "source": []
  }
 ],
 "metadata": {
  "kernelspec": {
   "display_name": "Python 3 (ipykernel)",
   "language": "python",
   "name": "python3"
  },
  "language_info": {
   "codemirror_mode": {
    "name": "ipython",
    "version": 3
   },
   "file_extension": ".py",
   "mimetype": "text/x-python",
   "name": "python",
   "nbconvert_exporter": "python",
   "pygments_lexer": "ipython3",
   "version": "3.11.5"
  }
 },
 "nbformat": 4,
 "nbformat_minor": 5
}
