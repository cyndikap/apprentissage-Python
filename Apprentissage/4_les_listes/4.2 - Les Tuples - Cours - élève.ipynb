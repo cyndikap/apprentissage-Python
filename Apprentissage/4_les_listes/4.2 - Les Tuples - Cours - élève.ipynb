{
 "cells": [
  {
   "cell_type": "markdown",
   "id": "7907d01f",
   "metadata": {},
   "source": [
    "<h1> Les Tuples </h1>\n",
    "\n",
    "Qu'est-ce qu'un Tuple ?\n",
    "\n",
    "- Un tuple est une collection ordonnée et immuable en Python.\n",
    "- Il peut contenir des éléments de différents types (comme des entiers, des chaînes, des listes, etc.).\n",
    "- Un tuple est similaire à une liste mais ne peut pas être modifié une fois créé.\n",
    "\n",
    "Comparaison avec les Listes\n",
    "\n",
    "- Contrairement aux listes, les tuples sont immuables, ce qui signifie que vous ne pouvez ni ajouter, ni supprimer, ni modifier les éléments après la création du tuple.\n",
    "- Les tuples sont généralement utilisés pour stocker des collections de données qui ne doivent pas être modifiées.\n",
    "\n",
    "<b> Déclaration <b>"
   ]
  },
  {
   "cell_type": "code",
   "execution_count": null,
   "id": "f5819571",
   "metadata": {},
   "outputs": [],
   "source": []
  },
  {
   "cell_type": "markdown",
   "id": "fb75625b",
   "metadata": {},
   "source": [
    "<b> Accès aux éléments <b>"
   ]
  },
  {
   "cell_type": "code",
   "execution_count": null,
   "id": "b8e486d3",
   "metadata": {},
   "outputs": [],
   "source": []
  },
  {
   "cell_type": "markdown",
   "id": "df1e4fc9",
   "metadata": {},
   "source": [
    "A noter que chaque valeur peut être récupéré via la déclaration de variables multiples"
   ]
  },
  {
   "cell_type": "code",
   "execution_count": null,
   "id": "25646d2c",
   "metadata": {},
   "outputs": [],
   "source": []
  },
  {
   "cell_type": "markdown",
   "id": "786bfc59",
   "metadata": {},
   "source": [
    "<b>Modification d'un élément</b>\n",
    "\n",
    "Comme vu ensemble, toutes les méthodes des listes qui visent à modifier un Tuple ne sont pas disponibles"
   ]
  },
  {
   "cell_type": "code",
   "execution_count": null,
   "id": "395fc300",
   "metadata": {},
   "outputs": [],
   "source": []
  },
  {
   "cell_type": "code",
   "execution_count": null,
   "id": "d51f8782",
   "metadata": {},
   "outputs": [],
   "source": []
  },
  {
   "cell_type": "code",
   "execution_count": null,
   "id": "39f07ebe",
   "metadata": {},
   "outputs": [],
   "source": []
  },
  {
   "cell_type": "markdown",
   "id": "91ffc207",
   "metadata": {},
   "source": [
    "Le seul moyen sera de le re-déclarer entièrement"
   ]
  },
  {
   "cell_type": "code",
   "execution_count": null,
   "id": "f07a95d7",
   "metadata": {},
   "outputs": [],
   "source": []
  },
  {
   "cell_type": "markdown",
   "id": "0abcdd4f",
   "metadata": {},
   "source": [
    "<b> Les méthodes disponibles avec les Tuple </b>"
   ]
  },
  {
   "cell_type": "code",
   "execution_count": null,
   "id": "41b9e736",
   "metadata": {},
   "outputs": [],
   "source": []
  },
  {
   "cell_type": "code",
   "execution_count": null,
   "id": "c8d98f2f",
   "metadata": {},
   "outputs": [],
   "source": []
  },
  {
   "cell_type": "markdown",
   "id": "d8c301eb",
   "metadata": {},
   "source": [
    "<b> Concaténation et Répétition des Tuples </b>"
   ]
  },
  {
   "cell_type": "markdown",
   "id": "f41f295c",
   "metadata": {},
   "source": [
    "Les tuples en Python, en raison de leur immuabilité, ne peuvent pas être modifiés directement. Cependant, il est possible de créer de nouveaux tuples en combinant ou en répétant des tuples existants.\n",
    "\n",
    "Avec l'opérateur (+) : "
   ]
  },
  {
   "cell_type": "code",
   "execution_count": null,
   "id": "43ef5a4d",
   "metadata": {},
   "outputs": [],
   "source": []
  },
  {
   "cell_type": "markdown",
   "id": "d8b4fcae",
   "metadata": {},
   "source": [
    "Avec l'opérateur (*)"
   ]
  },
  {
   "cell_type": "code",
   "execution_count": null,
   "id": "7d4d5ee9",
   "metadata": {},
   "outputs": [],
   "source": []
  },
  {
   "cell_type": "markdown",
   "id": "b3f84eaa",
   "metadata": {},
   "source": [
    "<b> Conversion des tuples en liste (et inversement) </b>\n",
    "\n",
    "- La conversion est utile car elle permet de tirer parti des caractéristiques spécifiques des listes (modifiables) et des tuples (immuables).\n",
    "- Par exemple, vous pourriez vouloir convertir un tuple en liste pour le modifier, puis le reconvertir en tuple pour garantir son immuabilité."
   ]
  },
  {
   "cell_type": "code",
   "execution_count": null,
   "id": "dd55d08b",
   "metadata": {},
   "outputs": [],
   "source": []
  },
  {
   "cell_type": "markdown",
   "id": "b91e3b26",
   "metadata": {},
   "source": [
    "<b> Utilisation de zip() pour Combiner des Listes en Tuples <b>\n",
    "\n",
    "- zip() est utilisée pour combiner plusieurs listes (ou autres itérables) en une séquence de tuples.\n",
    "- Chaque tuple contient les éléments des itérables qui sont à la même position."
   ]
  },
  {
   "cell_type": "code",
   "execution_count": null,
   "id": "d32eb0b5",
   "metadata": {},
   "outputs": [],
   "source": []
  },
  {
   "cell_type": "code",
   "execution_count": null,
   "id": "50f35fa9",
   "metadata": {},
   "outputs": [],
   "source": []
  },
  {
   "cell_type": "code",
   "execution_count": null,
   "id": "839171c0",
   "metadata": {},
   "outputs": [],
   "source": []
  },
  {
   "cell_type": "code",
   "execution_count": null,
   "id": "9a218015",
   "metadata": {},
   "outputs": [],
   "source": []
  }
 ],
 "metadata": {
  "kernelspec": {
   "display_name": "Python 3 (ipykernel)",
   "language": "python",
   "name": "python3"
  },
  "language_info": {
   "codemirror_mode": {
    "name": "ipython",
    "version": 3
   },
   "file_extension": ".py",
   "mimetype": "text/x-python",
   "name": "python",
   "nbconvert_exporter": "python",
   "pygments_lexer": "ipython3",
   "version": "3.11.5"
  }
 },
 "nbformat": 4,
 "nbformat_minor": 5
}
