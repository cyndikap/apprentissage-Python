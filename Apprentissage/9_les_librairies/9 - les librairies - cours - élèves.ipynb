{
 "cells": [
  {
   "cell_type": "markdown",
   "metadata": {},
   "source": [
    "<h1>1. Introduction à la notion de package </h1>\n",
    "\n",
    "Un package en Python est un dossier qui contient des modules Python. Ces modules peuvent être des fichiers .py contenant des définitions de fonctions, de classes et de variables, ainsi que des instructions exécutables. Importer un package signifie rendre ces modules ou fonctions disponibles dans votre espace de travail actuel.\n",
    "\n",
    "<b> Les avantages </b>\n",
    "\n",
    "- Réutilisation du Code \n",
    "- Organisation\n",
    "- Extensionnalité \n",
    "\n",
    "\n",
    "<b> Quelques exemples de package </b>\n",
    "\n",
    "- Mathématique (math)\n",
    "- manuplation grands volumnes de données (numpy,pandas)\n",
    "- data Viz (Matplotlib, Seaborn, Plotly)\n",
    "- Machine learning (scikit learn)\n",
    "- Deep Learning (Keras, Tensorflow)\n",
    "\n",
    "<b> Importer un package </b>\n",
    "\n",
    "utilisez le mot-clé import suivi du nom du package."
   ]
  },
  {
   "cell_type": "code",
   "execution_count": null,
   "metadata": {},
   "outputs": [],
   "source": []
  },
  {
   "cell_type": "markdown",
   "metadata": {},
   "source": [
    "Après avoir importé math, vous pouvez accéder à ses fonctions et constantes en utilisant la syntaxe \"nom_du_package.nom_de_la_fonction\""
   ]
  },
  {
   "cell_type": "code",
   "execution_count": null,
   "metadata": {},
   "outputs": [],
   "source": []
  },
  {
   "cell_type": "markdown",
   "metadata": {},
   "source": [
    "Pour les packages ayant des noms longs ou pour éviter les conflits de noms, vous pouvez utiliser un alias lors de l'importation."
   ]
  },
  {
   "cell_type": "code",
   "execution_count": null,
   "metadata": {},
   "outputs": [],
   "source": []
  },
  {
   "cell_type": "markdown",
   "metadata": {},
   "source": [
    "<h1> 2. Importer un Module Spécifique d’un Package </h1>\n",
    "\n",
    "Dans Python, un package peut contenir plusieurs modules, qui sont des fichiers Python avec des définitions de fonctions, de classes, et des variables. Importer un module spécifique d'un package permet d'accéder directement à ses fonctions, classes, et variables sans avoir à importer l'ensemble du package. Cela rend votre code plus léger et plus rapide, en évitant de charger des parties inutiles du package.\n",
    "\n",
    "La fonction dir() est extrêmement utile pour découvrir le contenu d'un module ou d'un package, y compris les sous-modules, les fonctions, les classes, et les variables."
   ]
  },
  {
   "cell_type": "code",
   "execution_count": null,
   "metadata": {},
   "outputs": [],
   "source": []
  },
  {
   "cell_type": "markdown",
   "metadata": {},
   "source": [
    "Après avoir identifié un composant intéressant avec dir(), utilisez l'aide intégrée avec help() pour obtenir plus d'informations sur son utilisation. "
   ]
  },
  {
   "cell_type": "code",
   "execution_count": null,
   "metadata": {},
   "outputs": [],
   "source": []
  },
  {
   "cell_type": "code",
   "execution_count": null,
   "metadata": {},
   "outputs": [],
   "source": []
  },
  {
   "cell_type": "markdown",
   "metadata": {},
   "source": [
    "Si vous avez besoin de plusieurs fonctions ou classes d'un même module, vous pouvez les importer toutes en une seule ligne, en les séparant par des virgules."
   ]
  },
  {
   "cell_type": "code",
   "execution_count": null,
   "metadata": {},
   "outputs": [],
   "source": []
  },
  {
   "cell_type": "markdown",
   "metadata": {},
   "source": [
    "Vous pouvez également utiliser un alias pour les éléments importés, ce qui peut être utile pour éviter les conflits de noms ou simplement pour raccourcir les noms longs."
   ]
  },
  {
   "cell_type": "code",
   "execution_count": null,
   "metadata": {},
   "outputs": [],
   "source": []
  },
  {
   "cell_type": "markdown",
   "metadata": {},
   "source": [
    "<b>La librairie PIP</b><br>\n",
    "\n",
    "pip est le gestionnaire de packages pour Python, permettant d'installer et de gérer des bibliothèques et des dépendances qui ne sont pas distribuées comme partie de la bibliothèque standard de Python. Savoir comment vérifier la version des packages installés et comment installer de nouveaux packages est essentiel pour la gestion de l'environnement de développement Python\n",
    "\n",
    "<b> Obtenir la liste des packages installés </b>\n",
    "\n",
    "Obteniez en une fois l'ensemble des packages installés dans votre environnement, et leur version"
   ]
  },
  {
   "cell_type": "code",
   "execution_count": null,
   "metadata": {},
   "outputs": [],
   "source": []
  },
  {
   "cell_type": "markdown",
   "metadata": {},
   "source": [
    "<b> Vérification de la Version des Packages </b>\n",
    "\n",
    "Pour vérifier la version d'un package installé avec pip, vous pouvez utiliser la commande pip show suivie du nom du package."
   ]
  },
  {
   "cell_type": "code",
   "execution_count": null,
   "metadata": {},
   "outputs": [],
   "source": []
  },
  {
   "cell_type": "markdown",
   "metadata": {},
   "source": [
    "<b> Installer des Nouveaux Packages </b>\n",
    "\n",
    "Pour installer un nouveau package, utilisez la commande pip install suivie du nom du package. Si vous souhaitez installer une version spécifique d'un package, vous pouvez le spécifier après le nom du package en utilisant == et le numéro de version."
   ]
  },
  {
   "cell_type": "code",
   "execution_count": null,
   "metadata": {},
   "outputs": [],
   "source": []
  },
  {
   "cell_type": "code",
   "execution_count": null,
   "metadata": {},
   "outputs": [],
   "source": []
  },
  {
   "cell_type": "markdown",
   "metadata": {},
   "source": [
    "Il est également possible de demander la dernière version d'un package, via --upgrade"
   ]
  },
  {
   "cell_type": "code",
   "execution_count": null,
   "metadata": {},
   "outputs": [],
   "source": []
  },
  {
   "cell_type": "markdown",
   "metadata": {},
   "source": [
    "<b> Désinstaller un package </b>\n",
    "\n",
    "Si un package n'est plus nécéssaire dans votre environnement, il est possible de le désinstaller à des fins d'optimisation de l'espace utilisé."
   ]
  },
  {
   "cell_type": "code",
   "execution_count": null,
   "metadata": {},
   "outputs": [],
   "source": []
  },
  {
   "cell_type": "code",
   "execution_count": null,
   "metadata": {},
   "outputs": [],
   "source": []
  },
  {
   "cell_type": "code",
   "execution_count": null,
   "metadata": {},
   "outputs": [],
   "source": []
  },
  {
   "cell_type": "markdown",
   "metadata": {},
   "source": [
    "<h1> 3. Importez et utilisez un package créé </h1>"
   ]
  },
  {
   "cell_type": "code",
   "execution_count": null,
   "metadata": {},
   "outputs": [],
   "source": []
  },
  {
   "cell_type": "code",
   "execution_count": null,
   "metadata": {},
   "outputs": [],
   "source": []
  },
  {
   "cell_type": "code",
   "execution_count": null,
   "metadata": {},
   "outputs": [],
   "source": []
  },
  {
   "cell_type": "code",
   "execution_count": null,
   "metadata": {},
   "outputs": [],
   "source": []
  },
  {
   "cell_type": "code",
   "execution_count": null,
   "metadata": {},
   "outputs": [],
   "source": []
  },
  {
   "cell_type": "code",
   "execution_count": null,
   "metadata": {},
   "outputs": [],
   "source": []
  },
  {
   "cell_type": "markdown",
   "metadata": {},
   "source": [
    "<h1> Introduction à la librairie OS </h1>\n",
    "\n",
    "La librairie os en Python fournit une interface riche et portable pour interagir avec le système d'exploitation. Elle permet aux développeurs d'exécuter des opérations liées au système de fichiers, aux processus, et aux variables d'environnement\n",
    "\n",
    "<b> Gestion du repertoire de travail </b>\n",
    "\n",
    "Obtenir le Répertoire de Travail Actuel"
   ]
  },
  {
   "cell_type": "code",
   "execution_count": null,
   "metadata": {},
   "outputs": [],
   "source": []
  },
  {
   "cell_type": "markdown",
   "metadata": {},
   "source": [
    "changer le repertoir (à éviter)"
   ]
  },
  {
   "cell_type": "code",
   "execution_count": null,
   "metadata": {},
   "outputs": [],
   "source": []
  },
  {
   "cell_type": "markdown",
   "metadata": {},
   "source": [
    "<b> Lister les Fichiers et Dossiers </b>"
   ]
  },
  {
   "cell_type": "code",
   "execution_count": null,
   "metadata": {},
   "outputs": [],
   "source": []
  },
  {
   "cell_type": "markdown",
   "metadata": {},
   "source": [
    "<b> Création et Suppression de Dossiers </b>"
   ]
  },
  {
   "cell_type": "code",
   "execution_count": null,
   "metadata": {},
   "outputs": [],
   "source": []
  },
  {
   "cell_type": "markdown",
   "metadata": {},
   "source": [
    "<b> Accès aux Variables d'Environnement </b>"
   ]
  },
  {
   "cell_type": "code",
   "execution_count": null,
   "metadata": {},
   "outputs": [],
   "source": []
  },
  {
   "cell_type": "markdown",
   "metadata": {},
   "source": [
    "Exécution de Commandes Système"
   ]
  },
  {
   "cell_type": "code",
   "execution_count": null,
   "metadata": {},
   "outputs": [],
   "source": []
  },
  {
   "cell_type": "markdown",
   "metadata": {},
   "source": [
    "<b> Exemple d'usage : Nettoyer un Dossier </b>"
   ]
  },
  {
   "cell_type": "code",
   "execution_count": null,
   "metadata": {},
   "outputs": [],
   "source": [
    "import os\n",
    "\n",
    "dossier_cible = '/chemin/vers/dossier'\n",
    "for fichier in os.listdir(dossier_cible):\n",
    "    if fichier.endswith('.tmp'):\n",
    "        os.remove(os.path.join(dossier_cible, fichier))\n",
    "        print(f\"Supprimé : {fichier}\")"
   ]
  },
  {
   "cell_type": "markdown",
   "metadata": {},
   "source": [
    "<h1> Introduction à la librairie SYS </h1>\n",
    "\n",
    "La librairie sys fournit l'accès à des variables et des fonctions spécifiques au système, permettant aux développeurs d'interagir avec l'environnement d'exécution de Python de manière plus approfondie"
   ]
  },
  {
   "cell_type": "markdown",
   "metadata": {},
   "source": [
    "<b> Introduction à sys.argv </b>\n",
    "\n",
    "sys.argv est une liste en Python qui contient les arguments passés à un script Python lors de son exécution.\n",
    "\n",
    "Passage au fichier test_arguments.py\n",
    "\n",
    "<b> sys.version </b>\n",
    "\n",
    "Permet d'obtenir des informations sur la version de l'interpréteur Python utilisé."
   ]
  },
  {
   "cell_type": "code",
   "execution_count": null,
   "metadata": {},
   "outputs": [],
   "source": []
  },
  {
   "cell_type": "markdown",
   "metadata": {},
   "source": [
    "<b> sys.path </b>\n",
    "\n",
    "Afficher ou modifier les chemins de recherche de modules."
   ]
  },
  {
   "cell_type": "code",
   "execution_count": null,
   "metadata": {},
   "outputs": [],
   "source": []
  },
  {
   "cell_type": "code",
   "execution_count": null,
   "metadata": {},
   "outputs": [],
   "source": []
  },
  {
   "cell_type": "markdown",
   "metadata": {},
   "source": [
    "<b> sys.getdefaultencoding </b>\n",
    "\n",
    "Comprendre et modifier, si nécessaire, l'encodage par défaut utilisé pour les chaînes de texte et les fichiers."
   ]
  },
  {
   "cell_type": "code",
   "execution_count": null,
   "metadata": {},
   "outputs": [],
   "source": []
  }
 ],
 "metadata": {
  "kernelspec": {
   "display_name": "Python 3 (ipykernel)",
   "language": "python",
   "name": "python3"
  },
  "language_info": {
   "codemirror_mode": {
    "name": "ipython",
    "version": 3
   },
   "file_extension": ".py",
   "mimetype": "text/x-python",
   "name": "python",
   "nbconvert_exporter": "python",
   "pygments_lexer": "ipython3",
   "version": "3.11.5"
  }
 },
 "nbformat": 4,
 "nbformat_minor": 2
}
