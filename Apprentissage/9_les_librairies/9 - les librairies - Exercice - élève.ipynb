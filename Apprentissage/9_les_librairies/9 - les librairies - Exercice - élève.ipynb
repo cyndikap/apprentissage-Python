{
 "cells": [
  {
   "cell_type": "markdown",
   "id": "4c6643e1",
   "metadata": {},
   "source": [
    "<h1> Exercice de création de package </h1>\n",
    "\n",
    "Vous travaillez sur un projet de gestion de contacts pour une petite entreprise. Le projet nécessite la création d'un package qui permet de gérer les informations de contact des clients, y compris l'ajout, la suppression et la recherche de contacts.\n",
    "\n",
    "<b> 1) Création du Package gestion_contacts </b>\n",
    "\n",
    "Créez un fichier gestion_contact.py qui contiendra les fonctions pour ajouter, supprimer, et rechercher des contacts.\n",
    "\n",
    "<b> 2) Fonctionnalités Requises dans gestion_contact.py </b>\n",
    "\n",
    "L'ensemble des informations seront stockées dans un dictionnaire avec le nom du contact comme clé, et non numéro de téléphone comme valeur. Exemple : {'Bob': '987654321', 'Alice': '123456789'}\n",
    "\n",
    "Voici les fonctionnalités à créer : \n",
    "- Ajouter un Contact : Une fonction ajouter_contact(contacts, nom, telephone) pour ajouter un nouveau contact.\n",
    "- Supprimer un Contact : Une fonction supprimer_contact(contacts, nom) pour supprimer un contact par son nom.\n",
    "- Rechercher un Contact : Une fonction rechercher_contact(contacts, nom) pour afficher les informations d'un contact.\n",
    "\n",
    "<b> 3) Utilisation du package </b>\n",
    "\n",
    "- Importez votre module dans ce notebook\n",
    "- initialisez votre dictionnaire de contact, vide\n",
    "- Ajouter un premier contact \"Alice\" avec pour numéro de téléphone 123456789.\n",
    "- Ajouter un deuxième contact \"Bob\" avec pour numéro de téléphone 987654321.\n",
    "- Recherchez le contact Alice. Si elle est présente, supprimez là"
   ]
  },
  {
   "cell_type": "code",
   "execution_count": null,
   "id": "5ff2e1e6",
   "metadata": {},
   "outputs": [],
   "source": []
  }
 ],
 "metadata": {
  "kernelspec": {
   "display_name": "Python 3 (ipykernel)",
   "language": "python",
   "name": "python3"
  },
  "language_info": {
   "codemirror_mode": {
    "name": "ipython",
    "version": 3
   },
   "file_extension": ".py",
   "mimetype": "text/x-python",
   "name": "python",
   "nbconvert_exporter": "python",
   "pygments_lexer": "ipython3",
   "version": "3.11.5"
  }
 },
 "nbformat": 4,
 "nbformat_minor": 5
}
