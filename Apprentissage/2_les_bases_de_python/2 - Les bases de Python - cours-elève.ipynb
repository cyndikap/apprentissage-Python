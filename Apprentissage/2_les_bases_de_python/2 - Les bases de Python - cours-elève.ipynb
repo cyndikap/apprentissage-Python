{
 "cells": [
  {
   "cell_type": "markdown",
   "metadata": {},
   "source": [
    "<h1>1. Nos premières variables </h1>\n",
    "\n",
    "Les concepts vus durant la présentation\n",
    "- comprendre ce qu'est une variable <br>\n",
    "- Les premiers types de variables\n",
    "- les règles de nommage d'une variable\n",
    "- la modification possible d'une variable déjà déclarée\n",
    "\n",
    "Nous allons maintenant voir cela dans la pratique ! "
   ]
  },
  {
   "cell_type": "markdown",
   "metadata": {},
   "source": [
    "<b> Déclaration de notre première variable </b>"
   ]
  },
  {
   "cell_type": "code",
   "execution_count": null,
   "metadata": {},
   "outputs": [],
   "source": []
  },
  {
   "cell_type": "markdown",
   "metadata": {},
   "source": [
    "les variables déclarées sont accessibles depuis d’autres cellules"
   ]
  },
  {
   "cell_type": "code",
   "execution_count": null,
   "metadata": {},
   "outputs": [],
   "source": []
  },
  {
   "cell_type": "markdown",
   "metadata": {},
   "source": [
    "<b> Modification possible d'une variable déjà déclarée, en utilisant à nouveau le signe \"=\""
   ]
  },
  {
   "cell_type": "code",
   "execution_count": null,
   "metadata": {},
   "outputs": [],
   "source": []
  },
  {
   "cell_type": "markdown",
   "metadata": {},
   "source": [
    "<b>Attention, le nom de la variable est Case sensitive</b>"
   ]
  },
  {
   "cell_type": "code",
   "execution_count": null,
   "metadata": {},
   "outputs": [],
   "source": []
  },
  {
   "cell_type": "markdown",
   "metadata": {},
   "source": [
    "<b>Souvenez-vous des règles de nommage d'une variable Python"
   ]
  },
  {
   "cell_type": "code",
   "execution_count": null,
   "metadata": {},
   "outputs": [],
   "source": []
  },
  {
   "cell_type": "markdown",
   "metadata": {},
   "source": [
    "<b>Attention, il faut d'abord déclarer sa variable avant de pouvoir l'utiliser"
   ]
  },
  {
   "cell_type": "code",
   "execution_count": null,
   "metadata": {},
   "outputs": [],
   "source": []
  },
  {
   "cell_type": "markdown",
   "metadata": {},
   "source": [
    "<b>Il est possible de déclarer plusieurs variables en une seule fois"
   ]
  },
  {
   "cell_type": "code",
   "execution_count": null,
   "metadata": {},
   "outputs": [],
   "source": []
  },
  {
   "cell_type": "code",
   "execution_count": null,
   "metadata": {},
   "outputs": [],
   "source": []
  },
  {
   "cell_type": "markdown",
   "metadata": {},
   "source": [
    "<H1>2. Les types de variables </H1>\n",
    "\n",
    "Les types des variables vont changer la manière dont python va comprendre la nature de l’information stockée et permettre certaines actions (ou en bloquer d'autres). Souvenez-vous de ce qui avait été vu lors de l'introduction (str, int, float, bool)\n",
    "\n",
    "Premier exemple ici, avec une tentative d'addition"
   ]
  },
  {
   "cell_type": "code",
   "execution_count": null,
   "metadata": {},
   "outputs": [],
   "source": []
  },
  {
   "cell_type": "markdown",
   "metadata": {},
   "source": [
    "il est possible de se rendre compte de cette différence, en vérifiant le type de la variable (via la méthode type())"
   ]
  },
  {
   "cell_type": "code",
   "execution_count": null,
   "metadata": {},
   "outputs": [],
   "source": []
  },
  {
   "cell_type": "markdown",
   "metadata": {},
   "source": [
    "<H1>3. Les chiffres et les opérateurs mathématiques</H1>\n",
    "\n",
    "En Python, le type int, ou Integer représente des nombres entiers sans partie décimale, comme −2 ou 42"
   ]
  },
  {
   "cell_type": "code",
   "execution_count": null,
   "metadata": {},
   "outputs": [],
   "source": []
  },
  {
   "cell_type": "markdown",
   "metadata": {},
   "source": [
    "Le type float, quant à lui, est utilisé pour les nombres à virgule flottante, c'est-à-dire les nombres qui ont une partie décimale, comme −3.14 , 0.0 ou 2.71828. Attention le séparateur décimal en Python est un point (.) et non une vrigule"
   ]
  },
  {
   "cell_type": "code",
   "execution_count": null,
   "metadata": {},
   "outputs": [],
   "source": []
  },
  {
   "cell_type": "markdown",
   "metadata": {},
   "source": [
    "Python peut faire des calculs  via les opérateurs mathématiques classiques : \n",
    "- Addition (+): Additionne deux nombres.\n",
    "- Soustraction (-): Soustrait deux nombres.\n",
    "- Division (/): Divise le premier nombre par le second.\n",
    "- Multiplication (*): Multiplie deux nombres.\n",
    "- Division entière (//): Divise le premier nombre par le second et arrondit le résultat à l'entier inférieur.\n",
    "- Opérations combinées (()) : Utilise des parenthèses pour la priorité des opérations et combine plusieurs opérateurs.\n",
    "- Puissance (**): Élève le premier nombre à la puissance du second.\n",
    "- Modulo (%): Donne le reste de la division du premier nombre par le second."
   ]
  },
  {
   "cell_type": "code",
   "execution_count": null,
   "metadata": {},
   "outputs": [],
   "source": []
  },
  {
   "cell_type": "markdown",
   "metadata": {},
   "source": [
    "Il est possible d'utiliser directement des variables dans nos calcul.\n",
    "Il est également possible d'effectuer un calcul en mixant des float et des int"
   ]
  },
  {
   "cell_type": "code",
   "execution_count": null,
   "metadata": {},
   "outputs": [],
   "source": []
  },
  {
   "cell_type": "markdown",
   "metadata": {},
   "source": [
    "<H1>4. Les strings et les opérateurs</H1>\n",
    "\n",
    "Nous l'avons déjà utilisé plusieurs fois depuis le début du cours, les string permettent de stocker du texte dans une variable\n",
    "\n",
    "<b>Gestion des apostrohpes<b>\n",
    "    \n",
    "Les strings doivent être déclarées via des apostrohpes (ou Quotes). 2 systèmes sont admis : \n",
    " - Le simple quote : 'ma string'\n",
    " - Le double quote : \"ma string\""
   ]
  },
  {
   "cell_type": "code",
   "execution_count": null,
   "metadata": {},
   "outputs": [],
   "source": []
  },
  {
   "cell_type": "markdown",
   "metadata": {},
   "source": [
    "Mais comment gérer le cas où votre string contient également des quotes ?"
   ]
  },
  {
   "cell_type": "code",
   "execution_count": null,
   "metadata": {},
   "outputs": [],
   "source": []
  },
  {
   "cell_type": "markdown",
   "metadata": {},
   "source": [
    "Dans ce cas, il est possible d'échapper des caractères via un back slash \\"
   ]
  },
  {
   "cell_type": "code",
   "execution_count": null,
   "metadata": {},
   "outputs": [],
   "source": []
  },
  {
   "cell_type": "markdown",
   "metadata": {},
   "source": [
    "Dans le cas où votre texte est trop long, il est possible de le placer sur plusieurs lignes : \n",
    "- Via un back slash \\ en bout de ligne\n",
    "- Via un triple quote"
   ]
  },
  {
   "cell_type": "code",
   "execution_count": null,
   "metadata": {},
   "outputs": [],
   "source": []
  },
  {
   "cell_type": "code",
   "execution_count": null,
   "metadata": {},
   "outputs": [],
   "source": []
  },
  {
   "cell_type": "markdown",
   "metadata": {},
   "source": [
    "<b>Manipuler une String</b>\n",
    "\n",
    "Il est possible de selectionner chaque caractère d'une string, en indiquant sa position entre crochets.\n",
    "Attention, en Python et comme dans d'autes langages informatiques, on commence à compter à partir de 0"
   ]
  },
  {
   "cell_type": "code",
   "execution_count": null,
   "metadata": {},
   "outputs": [],
   "source": []
  },
  {
   "cell_type": "markdown",
   "metadata": {},
   "source": [
    "Il est également possible de selectionner une partie de la string (aussi appelée substring)"
   ]
  },
  {
   "cell_type": "code",
   "execution_count": null,
   "metadata": {},
   "outputs": [],
   "source": []
  },
  {
   "cell_type": "markdown",
   "metadata": {},
   "source": [
    "<b> Modifier une string</b>\n",
    "\n",
    "Une série de méthodes permettent de modifier une string ou de récupérer certaines informations. Les méthodes sont nombreuses, aussi nous allons ici surtout essayer de comprendre le concept plutôt que d'être exaustif : \n",
    "- len() permet d'obtenir le nombre de caractères dans une string\n",
    "- lower() met la string en minuscule\n",
    "- upper() met la string en mmajuscule\n",
    "- strip() retire les espaces en début et fin de chaine\n",
    "- replace() remplace une substring par une autre\n",
    "- split() retourne une liste d'éléments à partir d'une chaine "
   ]
  },
  {
   "cell_type": "code",
   "execution_count": null,
   "metadata": {},
   "outputs": [],
   "source": []
  },
  {
   "cell_type": "markdown",
   "metadata": {},
   "source": [
    "<b>La concaténation de valeurs</b>\n",
    "\n",
    "En Python, il est possible de concaténer plusieurs variables entre elles ou avec une chaine de caractères\n",
    "Il existe de nombreuses manières de faire des concaténations, nous allons voir ensemble les 2 plus populaires.\n",
    "\n",
    "La première méthode, avec l'opérateur \"+\"."
   ]
  },
  {
   "cell_type": "code",
   "execution_count": null,
   "metadata": {},
   "outputs": [],
   "source": []
  },
  {
   "cell_type": "code",
   "execution_count": null,
   "metadata": {},
   "outputs": [],
   "source": []
  },
  {
   "cell_type": "markdown",
   "metadata": {},
   "source": [
    "La deuxième méthodes, avec les Literrals"
   ]
  },
  {
   "cell_type": "code",
   "execution_count": null,
   "metadata": {},
   "outputs": [],
   "source": []
  },
  {
   "cell_type": "markdown",
   "metadata": {},
   "source": [
    "Pour information, il est également possible de multiplier un caractère X fois dans une string"
   ]
  },
  {
   "cell_type": "code",
   "execution_count": null,
   "metadata": {},
   "outputs": [],
   "source": []
  },
  {
   "cell_type": "markdown",
   "metadata": {},
   "source": [
    "<h1>6. Vérifier et modifier le type d’une variable</H1>\n",
    "\n",
    "Dans certains cas, le type d'une variable peut nous poser problème pour le reste de notre code"
   ]
  },
  {
   "cell_type": "code",
   "execution_count": null,
   "metadata": {},
   "outputs": [],
   "source": []
  },
  {
   "cell_type": "markdown",
   "metadata": {},
   "source": [
    "Pour rappel, il est possible de verifier le type d’une variable via la méthode type"
   ]
  },
  {
   "cell_type": "code",
   "execution_count": null,
   "metadata": {},
   "outputs": [],
   "source": []
  },
  {
   "cell_type": "markdown",
   "metadata": {},
   "source": [
    "Il est également possible de modifier le type d'une variable"
   ]
  },
  {
   "cell_type": "code",
   "execution_count": null,
   "metadata": {},
   "outputs": [],
   "source": []
  },
  {
   "cell_type": "code",
   "execution_count": null,
   "metadata": {},
   "outputs": [],
   "source": []
  },
  {
   "cell_type": "code",
   "execution_count": null,
   "metadata": {},
   "outputs": [],
   "source": []
  },
  {
   "cell_type": "markdown",
   "metadata": {},
   "source": [
    "<h1>7. Maitrise de jupyter notebook 2 : execution du code à travers les cellules & commentaires</h1>"
   ]
  },
  {
   "cell_type": "markdown",
   "metadata": {},
   "source": [
    "Lors de la modification d'une variable, c'est ça dernière valeur et son dernier type qui est conservé pour le reste du code "
   ]
  },
  {
   "cell_type": "code",
   "execution_count": null,
   "metadata": {},
   "outputs": [],
   "source": []
  },
  {
   "cell_type": "code",
   "execution_count": null,
   "metadata": {},
   "outputs": [],
   "source": []
  },
  {
   "cell_type": "markdown",
   "metadata": {},
   "source": [
    "Il faut garder en tête qu'une variable peut être modifié dans plusieurs cellules. Ainsi, c'est la dernière cellule executée qui définie la valeur de la variable"
   ]
  },
  {
   "cell_type": "code",
   "execution_count": null,
   "metadata": {},
   "outputs": [],
   "source": []
  },
  {
   "cell_type": "code",
   "execution_count": null,
   "metadata": {},
   "outputs": [],
   "source": []
  },
  {
   "cell_type": "code",
   "execution_count": null,
   "metadata": {},
   "outputs": [],
   "source": []
  },
  {
   "cell_type": "markdown",
   "metadata": {},
   "source": [
    "Pour vous aider à vous souvenir du contenu de votre code, ou pour expliquer votre code à quelqu'un, il est important de commenter votre code. il existe 2 types de commentaires : \n",
    "- Les commentaires via #, s'écrivant sur une ligne\n",
    "- Les commentaires via les ''', s'écrivant sur une ou plusieurs lignes"
   ]
  },
  {
   "cell_type": "code",
   "execution_count": null,
   "metadata": {},
   "outputs": [],
   "source": []
  }
 ],
 "metadata": {
  "kernelspec": {
   "display_name": "Python [conda env:base] *",
   "language": "python",
   "name": "conda-base-py"
  },
  "language_info": {
   "codemirror_mode": {
    "name": "ipython",
    "version": 3
   },
   "file_extension": ".py",
   "mimetype": "text/x-python",
   "name": "python",
   "nbconvert_exporter": "python",
   "pygments_lexer": "ipython3",
   "version": "3.12.7"
  }
 },
 "nbformat": 4,
 "nbformat_minor": 4
}
