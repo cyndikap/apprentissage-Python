{
 "cells": [
  {
   "cell_type": "markdown",
   "id": "1618fdee",
   "metadata": {},
   "source": [
    "<h1> Ouverture et manipulation de documents </h1>\n",
    "\n",
    "<h3> Ouverture et lecture d'un document </h3>\n",
    "\n",
    "La capacité de lire des données à partir de fichiers est essentielle dans la programmation Python, permettant aux scripts d'interagir avec des données persistantes.\n",
    "\n",
    "L'ouverture de fichier peut se faire via la méthode open, qui s'écrit de cette manière : \n",
    "file = open('chemin/vers/le/fichier', 'mode')\n",
    "\n",
    "le mode ('r', 'w', 'a', 'rb', 'wb', etc.) indique le type d'action souhaitée (lecture, écriture, ajout, création, etc...)\n",
    "\n",
    "Objectif : Écrire un script Python qui ouvre et lit un fichier log d'un serveur pour analyser les types d'erreurs rencontrées et leur fréquence."
   ]
  },
  {
   "cell_type": "code",
   "execution_count": 27,
   "id": "08a025e6",
   "metadata": {},
   "outputs": [
    {
     "name": "stdout",
     "output_type": "stream",
     "text": [
      "<_io.TextIOWrapper name='journal_logs.txt' mode='r' encoding='cp1252'>\n",
      "<_io.TextIOWrapper name='C:\\\\Users\\\\Lenovo Ideapad 5\\\\Documents\\\\cours\\\\Python_V2\\\\Fichiers_cours\\\\12_ouverture_et_manipulation_documents\\\\journal_logs.txt' mode='r' encoding='cp1252'>\n"
     ]
    }
   ],
   "source": [
    "chemin_fichier = 'journal_logs.txt'\n",
    "fichier = open(chemin_fichier, 'r')\n",
    "print(fichier)\n",
    "\n",
    "autre_chemin = \"C:\\\\Users\\\\Lenovo Ideapad 5\\\\Documents\\\\cours\\\\Python_V2\\\\Fichiers_cours\\\\12_ouverture_et_manipulation_documents\\\\journal_logs.txt\"\n",
    "fichier = open(autre_chemin, 'r')\n",
    "print(fichier)"
   ]
  },
  {
   "cell_type": "markdown",
   "id": "54f73ee0",
   "metadata": {},
   "source": [
    "Une fois le fichier ouvert, il est possible de le lire via la méthode read()"
   ]
  },
  {
   "cell_type": "code",
   "execution_count": 28,
   "id": "c5039be5",
   "metadata": {},
   "outputs": [
    {
     "name": "stdout",
     "output_type": "stream",
     "text": [
      "2023-01-01 00:01:23 INFO Demarrage du serveur.\n",
      "2023-01-01 00:02:15 WARNING Connexion lente detectee.\n",
      "2023-01-01 00:03:47 ERROR Echec de connexion Ã  la base de donnees.\n",
      "2023-01-01 00:04:22 INFO Nouvelle connexion utilisateur: utilisateur123.\n",
      "2023-01-01 00:05:33 ERROR Impossible d'envoyer l'email de notification.\n",
      "2023-01-01 00:06:45 WARNING Temps de reponse superieur Ã  500ms.\n",
      "2023-01-01 00:07:52 INFO Demande de page /accueil par utilisateur456.\n",
      "2023-01-01 00:08:13 ERROR Le fichier config.txt est manquant.\n",
      "2023-01-01 00:09:27 INFO DÃ©connexion utilisateur: utilisateur123.\n",
      "2023-01-01 00:10:31 WARNING MÃ©moire disponible infÃ©rieure Ã  10%.\n",
      "2023-01-01 00:11:42 ERROR AccÃ¨s refusÃ© pour utilisateur789.\n"
     ]
    }
   ],
   "source": [
    "contenu = fichier.read()\n",
    "print(contenu)"
   ]
  },
  {
   "cell_type": "markdown",
   "id": "f395ecb7",
   "metadata": {},
   "source": [
    "Il est possible de ne lire qu'un nombre précis de caractères du document"
   ]
  },
  {
   "cell_type": "code",
   "execution_count": 30,
   "id": "d05fc025",
   "metadata": {},
   "outputs": [
    {
     "name": "stdout",
     "output_type": "stream",
     "text": [
      "2023-01-01 00:01:23 \n"
     ]
    }
   ],
   "source": [
    "fichier = open(autre_chemin, 'r')\n",
    "debut = fichier.read(20)\n",
    "print(debut)"
   ]
  },
  {
   "cell_type": "markdown",
   "id": "8b0621e0",
   "metadata": {},
   "source": [
    "Il est également possible de lire le fichier ligne par ligne"
   ]
  },
  {
   "cell_type": "code",
   "execution_count": 34,
   "id": "a144dc69",
   "metadata": {},
   "outputs": [
    {
     "name": "stdout",
     "output_type": "stream",
     "text": [
      "2023-01-01 00:01:23 INFO Demarrage du serveur.\n",
      "\n",
      "2023-01-01 00:02:15 WARNING Connexion lente detectee.\n",
      "\n",
      "2023-01-01 00:03:47 ERROR Echec de connexion Ã  la base de donnees.\n",
      "\n"
     ]
    }
   ],
   "source": [
    "fichier = open(autre_chemin, 'r')\n",
    "print(fichier.readline())\n",
    "print(fichier.readline())\n",
    "print(fichier.readline())"
   ]
  },
  {
   "cell_type": "markdown",
   "id": "cee91275",
   "metadata": {},
   "source": [
    "On peut également réaliser une boucle sur chaque ligne du fichier"
   ]
  },
  {
   "cell_type": "code",
   "execution_count": 36,
   "id": "407e5bb5",
   "metadata": {},
   "outputs": [
    {
     "name": "stdout",
     "output_type": "stream",
     "text": [
      "2023-01-01 00:01:23 INFO Demarrage du serveur.\n",
      "\n",
      "2023-01-01 00:02:15 WARNING Connexion lente detectee.\n",
      "\n",
      "2023-01-01 00:03:47 ERROR Echec de connexion Ã  la base de donnees.\n",
      "\n",
      "2023-01-01 00:04:22 INFO Nouvelle connexion utilisateur: utilisateur123.\n",
      "\n",
      "2023-01-01 00:05:33 ERROR Impossible d'envoyer l'email de notification.\n",
      "\n",
      "2023-01-01 00:06:45 WARNING Temps de reponse superieur Ã  500ms.\n",
      "\n",
      "2023-01-01 00:07:52 INFO Demande de page /accueil par utilisateur456.\n",
      "\n",
      "2023-01-01 00:08:13 ERROR Le fichier config.txt est manquant.\n",
      "\n",
      "2023-01-01 00:09:27 INFO DÃ©connexion utilisateur: utilisateur123.\n",
      "\n",
      "2023-01-01 00:10:31 WARNING Memoire disponible inferieure Ã  10%.\n",
      "\n",
      "2023-01-01 00:11:42 ERROR Acces refuse pour utilisateur789.\n"
     ]
    }
   ],
   "source": [
    "fichier = open(autre_chemin, 'r')\n",
    "for ligne in fichier:\n",
    "    print(ligne)"
   ]
  },
  {
   "cell_type": "markdown",
   "id": "c287d3fa",
   "metadata": {},
   "source": [
    "Une fois la manipulation terminée, comme un fichier classique, il faut le fermer"
   ]
  },
  {
   "cell_type": "code",
   "execution_count": 37,
   "id": "4c7cfd7d",
   "metadata": {},
   "outputs": [
    {
     "name": "stdout",
     "output_type": "stream",
     "text": [
      "2023-01-01 00:01:23 INFO Demarrage du serveur.\n",
      "\n"
     ]
    }
   ],
   "source": [
    "fichier = open(autre_chemin, \"r\")\n",
    "print(fichier.readline())\n",
    "fichier.close()"
   ]
  },
  {
   "cell_type": "markdown",
   "id": "c3d8f9a3",
   "metadata": {},
   "source": [
    "Bonne Pratique : Toujours s'assurer de fermer le fichier après son utilisation, ce qui peut être fait de manière plus sûre avec un gestionnaire de contexte."
   ]
  },
  {
   "cell_type": "code",
   "execution_count": 39,
   "id": "b450ee2e",
   "metadata": {},
   "outputs": [
    {
     "name": "stdout",
     "output_type": "stream",
     "text": [
      "2023-01-01 00:01:23 INFO Demarrage du serveur.\n",
      "\n",
      "2023-01-01 00:02:15 WARNING Connexion lente detectee.\n",
      "\n",
      "2023-01-01 00:03:47 ERROR Echec de connexion Ã  la base de donnees.\n",
      "\n"
     ]
    }
   ],
   "source": [
    "with open(chemin_fichier, 'r') as fichier:\n",
    "    # Le fichier sera automatiquement fermé à la sortie de ce bloc.\n",
    "    print(fichier.readline())\n",
    "    print(fichier.readline())\n",
    "    print(fichier.readline())"
   ]
  },
  {
   "cell_type": "markdown",
   "id": "547970b1",
   "metadata": {},
   "source": [
    "Analyse des logs : Identifier et compter les types de message dans le fichier"
   ]
  },
  {
   "cell_type": "code",
   "execution_count": 42,
   "id": "4228b244",
   "metadata": {},
   "outputs": [
    {
     "name": "stdout",
     "output_type": "stream",
     "text": [
      "{'INFO': 4, 'WARNING': 3, 'ERROR': 4}\n"
     ]
    }
   ],
   "source": [
    "erreurs = {}\n",
    "\n",
    "with open(chemin_fichier, 'r') as fichier:\n",
    "    for ligne in fichier:\n",
    "        message = ligne.split(\" \")[2]\n",
    "        if message in erreurs: \n",
    "            erreurs[message] += 1\n",
    "        else: \n",
    "            erreurs[message] = 1\n",
    "            \n",
    "print(erreurs)"
   ]
  },
  {
   "cell_type": "markdown",
   "id": "e1a35ca8",
   "metadata": {},
   "source": [
    "<h3> Ouverture et modification d'un document </h3>\n",
    "\n",
    "Objectif : Appliquer des modifications à notre fichier pour corriger des erreurs de log, supprimer des entrées obsolètes et ajouter de nouvelles informations."
   ]
  },
  {
   "cell_type": "code",
   "execution_count": 55,
   "id": "9d3ef23c",
   "metadata": {},
   "outputs": [
    {
     "name": "stdout",
     "output_type": "stream",
     "text": [
      "['2023-01-01 00:01:23 INFO Demarrage du serveur.\\n', '2023-01-01 00:02:15 WARNING Connexion lente detectee.\\n', '2023-01-01 00:03:47 ERROR Echec de connexion a la base de donnees.\\n', '2023-01-01 00:04:22 INFO Nouvelle connexion utilisateur: utilisateur123.\\n', \"2023-01-01 00:05:33 ERROR Impossible d'envoyer l'email de notification.\\n\", '2023-01-01 00:06:45 WARNING Temps de reponse superieur a 500ms.\\n', '2023-01-01 00:07:52 INFO Demande de page accueil par utilisateur456.\\n', '2023-01-01 00:08:13 ERROR Le fichier config.txt est manquant.\\n', '2023-01-01 00:09:27 INFO Deconnexion utilisateur: utilisateur123.\\n', '2023-01-01 00:10:31 WARNING Memoire disponible inferieure a 10%.\\n', '2023-01-01 00:11:42 ERROR Acces refuse pour utilisateur789.']\n"
     ]
    }
   ],
   "source": [
    "with open(chemin_fichier, 'r') as fichier:\n",
    "    lignes = fichier.readlines()\n",
    "\n",
    "print(lignes)"
   ]
  },
  {
   "cell_type": "code",
   "execution_count": 56,
   "id": "4ecf5cd4",
   "metadata": {},
   "outputs": [
    {
     "name": "stdout",
     "output_type": "stream",
     "text": [
      "['2023-01-01 00:01:23 INFO Demarrage du serveur.\\n', '2023-01-01 00:02:15 WARNING Connexion lente detectee.\\n', '2023-01-01 00:03:47 ERROR Echec de authentification a la base de donnees.\\n', '2023-01-01 00:04:22 INFO Nouvelle authentification utilisateur: utilisateur123.\\n', \"2023-01-01 00:05:33 ERROR Impossible d'envoyer l'email de notification.\\n\", '2023-01-01 00:06:45 WARNING Temps de reponse superieur a 500ms.\\n', '2023-01-01 00:07:52 INFO Demande de page accueil par utilisateur456.\\n', '2023-01-01 00:08:13 ERROR Le fichier config.txt est manquant.\\n', '2023-01-01 00:09:27 INFO Deauthentification utilisateur: utilisateur123.\\n', '2023-01-01 00:10:31 WARNING Memoire disponible inferieure a 10%.\\n', '2023-01-01 00:11:42 ERROR Acces refuse pour utilisateur789.']\n"
     ]
    }
   ],
   "source": [
    "#Remplacement de \"connexion\" par \"authentification\"\n",
    "lignes_corrigees = [ligne.replace(\"connexion\", \"authentification\") for ligne in lignes]\n",
    "print(lignes_corrigees)"
   ]
  },
  {
   "cell_type": "code",
   "execution_count": 57,
   "id": "012fa03e",
   "metadata": {},
   "outputs": [
    {
     "name": "stdout",
     "output_type": "stream",
     "text": [
      "['2023-01-01 00:01:23 INFO Demarrage du serveur.\\n', '2023-01-01 00:02:15 WARNING Connexion lente detectee.\\n', '2023-01-01 00:03:47 ERROR Echec de authentification a la base de donnees.\\n', '2023-01-01 00:04:22 INFO Nouvelle authentification utilisateur: utilisateur123.\\n', '2023-01-01 00:06:45 WARNING Temps de reponse superieur a 500ms.\\n', '2023-01-01 00:07:52 INFO Demande de page accueil par utilisateur456.\\n', '2023-01-01 00:08:13 ERROR Le fichier config.txt est manquant.\\n', '2023-01-01 00:09:27 INFO Deauthentification utilisateur: utilisateur123.\\n', '2023-01-01 00:10:31 WARNING Memoire disponible inferieure a 10%.\\n', '2023-01-01 00:11:42 ERROR Acces refuse pour utilisateur789.']\n"
     ]
    }
   ],
   "source": [
    "#filtre sur des informations non nécéssaires\n",
    "lignes_mises_a_jour = [ligne for ligne in lignes_corrigees if \"notification\" not in ligne]\n",
    "print(lignes_mises_a_jour)"
   ]
  },
  {
   "cell_type": "code",
   "execution_count": 58,
   "id": "57248c98",
   "metadata": {},
   "outputs": [],
   "source": [
    "#nouvelles lignes de log à la fin du fichier ou à des positions spécifiques.\n",
    "lignes_mises_a_jour.append(\"2023-01-02 00:12:34 INFO Nouvelle entree ajoutee.\\n\")"
   ]
  },
  {
   "cell_type": "markdown",
   "id": "db349bf1",
   "metadata": {},
   "source": [
    "Sauvegarde des modifications, via l'ouverture en mode écriture (w) du document"
   ]
  },
  {
   "cell_type": "code",
   "execution_count": 59,
   "id": "fc779f36",
   "metadata": {},
   "outputs": [],
   "source": [
    "with open(chemin_fichier, 'w') as fichier:\n",
    "    fichier.writelines(lignes_mises_a_jour)"
   ]
  },
  {
   "cell_type": "code",
   "execution_count": 60,
   "id": "16fe7e0c",
   "metadata": {},
   "outputs": [
    {
     "name": "stdout",
     "output_type": "stream",
     "text": [
      "['2023-01-01 00:01:23 INFO Demarrage du serveur.\\n', '2023-01-01 00:02:15 WARNING Connexion lente detectee.\\n', '2023-01-01 00:03:47 ERROR Echec de authentification a la base de donnees.\\n', '2023-01-01 00:04:22 INFO Nouvelle authentification utilisateur: utilisateur123.\\n', '2023-01-01 00:06:45 WARNING Temps de reponse superieur a 500ms.\\n', '2023-01-01 00:07:52 INFO Demande de page accueil par utilisateur456.\\n', '2023-01-01 00:08:13 ERROR Le fichier config.txt est manquant.\\n', '2023-01-01 00:09:27 INFO Deauthentification utilisateur: utilisateur123.\\n', '2023-01-01 00:10:31 WARNING Memoire disponible inferieure a 10%.\\n', '2023-01-01 00:11:42 ERROR Acces refuse pour utilisateur789.2023-01-02 00:12:34 INFO Nouvelle entree ajoutee.\\n']\n"
     ]
    }
   ],
   "source": [
    "with open(chemin_fichier, 'r') as fichier:\n",
    "    lignes = fichier.readlines()\n",
    "\n",
    "print(lignes)"
   ]
  },
  {
   "cell_type": "markdown",
   "id": "29a601c0",
   "metadata": {},
   "source": [
    "La méthode append, permet de simplement ajouter une nouvelle entrée dans le fichier, sans toucher aux lignes existantes"
   ]
  },
  {
   "cell_type": "code",
   "execution_count": 61,
   "id": "37ada479",
   "metadata": {},
   "outputs": [
    {
     "name": "stdout",
     "output_type": "stream",
     "text": [
      "['2023-01-01 00:01:23 INFO Demarrage du serveur.\\n', '2023-01-01 00:02:15 WARNING Connexion lente detectee.\\n', '2023-01-01 00:03:47 ERROR Echec de authentification a la base de donnees.\\n', '2023-01-01 00:04:22 INFO Nouvelle authentification utilisateur: utilisateur123.\\n', '2023-01-01 00:06:45 WARNING Temps de reponse superieur a 500ms.\\n', '2023-01-01 00:07:52 INFO Demande de page accueil par utilisateur456.\\n', '2023-01-01 00:08:13 ERROR Le fichier config.txt est manquant.\\n', '2023-01-01 00:09:27 INFO Deauthentification utilisateur: utilisateur123.\\n', '2023-01-01 00:10:31 WARNING Memoire disponible inferieure a 10%.\\n', '2023-01-01 00:11:42 ERROR Acces refuse pour utilisateur789.2023-01-02 00:12:34 INFO Nouvelle entree ajoutee.\\n', '2023-01-02 00:14:29 WARNING Modifications nombreuses du fichier de logs.\\n']\n"
     ]
    }
   ],
   "source": [
    "with open(chemin_fichier, 'a') as fichier:\n",
    "    fichier.write(\"2023-01-02 00:14:29 WARNING Modifications nombreuses du fichier de logs.\\n\")\n",
    "\n",
    "with open(chemin_fichier, 'r') as fichier:\n",
    "    lignes = fichier.readlines()\n",
    "\n",
    "print(lignes)"
   ]
  },
  {
   "cell_type": "markdown",
   "id": "fd215bfa",
   "metadata": {},
   "source": [
    "<h3> Création ou suppresion d'un document </h3>\n",
    "\n",
    "La création d'un fichier en Python est simple grâce à la fonction open() avec le mode 'w'. Si le fichier n'existe pas, il sera créé."
   ]
  },
  {
   "cell_type": "code",
   "execution_count": 62,
   "id": "7c192758",
   "metadata": {},
   "outputs": [],
   "source": [
    "with open('nouveau_journal.txt', 'w') as fichier:\n",
    "    fichier.write(\"2023-01-02 00:00:00 INFO Application demarree.\\n\")"
   ]
  },
  {
   "cell_type": "code",
   "execution_count": 64,
   "id": "f5202716",
   "metadata": {},
   "outputs": [],
   "source": [
    "#Ajout de logs au nouveau document\n",
    "with open('nouveau_journal.txt', 'a') as fichier:\n",
    "    fichier.write(\"2023-01-02 00:05:00 WARNING Niveau de batterie faible.\\n\")"
   ]
  },
  {
   "cell_type": "markdown",
   "id": "b5f3c4f6",
   "metadata": {},
   "source": [
    "La suppression se fera via le package 'OS'"
   ]
  },
  {
   "cell_type": "code",
   "execution_count": 65,
   "id": "8ca1ef92",
   "metadata": {},
   "outputs": [
    {
     "name": "stdout",
     "output_type": "stream",
     "text": [
      "Le fichier 'journal.log' a été supprimé.\n"
     ]
    }
   ],
   "source": [
    "import os\n",
    "\n",
    "if os.path.exists('nouveau_journal.txt'):\n",
    "    os.remove('nouveau_journal.txt')\n",
    "    print(\"Le fichier 'journal' a été supprimé.\")\n",
    "else:\n",
    "    print(\"Le fichier 'journal' n'existe pas.\")\n"
   ]
  }
 ],
 "metadata": {
  "kernelspec": {
   "display_name": "Python 3 (ipykernel)",
   "language": "python",
   "name": "python3"
  },
  "language_info": {
   "codemirror_mode": {
    "name": "ipython",
    "version": 3
   },
   "file_extension": ".py",
   "mimetype": "text/x-python",
   "name": "python",
   "nbconvert_exporter": "python",
   "pygments_lexer": "ipython3",
   "version": "3.11.5"
  }
 },
 "nbformat": 4,
 "nbformat_minor": 5
}
