{
 "cells": [
  {
   "cell_type": "markdown",
   "id": "d0cbd11d",
   "metadata": {},
   "source": [
    "<h1> Exercice 1 </h1>\n",
    "\n",
    "Vous êtes chargé de maintenir la configuration d'une application stockée dans un fichier JSON nommé config.json. Votre tâche est de mettre à jour la version de l'application et de modifier le niveau de journalisation en fonction de l'environnement de l'application.\n",
    "\n",
    "<b> Tâches à réaliser </b>\n",
    "\n",
    "1) Écrire un script Python qui charge ce fichier JSON.\n",
    "2) Mettre à jour la version de l'application de \"1.0.0\" à \"1.1.0\".\n",
    "3) Si l'environnement de l'application est \"production\", changer le niveau de journalisation (logging > level) de \"debug\" à \"info\". Si l'environnement est \"development\", le niveau de journalisation doit rester \"debug\".\n",
    "4) Sauvegarder les modifications dans le fichier config.json."
   ]
  },
  {
   "cell_type": "code",
   "execution_count": null,
   "id": "66dfdb2b",
   "metadata": {},
   "outputs": [],
   "source": []
  },
  {
   "cell_type": "markdown",
   "id": "8cef9133",
   "metadata": {},
   "source": [
    "<h1> Exercice 2 </h1>\n",
    "\n",
    "Votre objectif est de récupérer un fichier CSV contenant des données de vente en ligne, puis de calculer le chiffre d'affaires généré par chaque produit. Le fichier CSV est accessible à l'adresse suivante : https://raw.githubusercontent.com/SebastienDa/Python_cours/main/produits.csv\n",
    "\n",
    "Le fichier produits.csv contient les colonnes suivantes : Date, Produit, Quantité, Prix_Unitaire. \n",
    "\n",
    "Vous allez écrire un script Python qui réalise les tâches suivantes :\n",
    "1) Récupérer le fichier CSV à partir de l'URL donnée.\n",
    "2) Lire le contenu du fichier CSV pour extraire les données de vente.\n",
    "3) Calculer le chiffre d'affaires (CA) total pour chaque produit (CA = Quantité * Prix_Unitaire).\n",
    "4) Afficher le résultat sous la forme : \"Produit: [nom du produit], CA: [chiffre d'affaires]\"."
   ]
  },
  {
   "cell_type": "code",
   "execution_count": null,
   "id": "835c1596",
   "metadata": {},
   "outputs": [],
   "source": []
  }
 ],
 "metadata": {
  "kernelspec": {
   "display_name": "Python 3 (ipykernel)",
   "language": "python",
   "name": "python3"
  },
  "language_info": {
   "codemirror_mode": {
    "name": "ipython",
    "version": 3
   },
   "file_extension": ".py",
   "mimetype": "text/x-python",
   "name": "python",
   "nbconvert_exporter": "python",
   "pygments_lexer": "ipython3",
   "version": "3.11.5"
  }
 },
 "nbformat": 4,
 "nbformat_minor": 5
}
