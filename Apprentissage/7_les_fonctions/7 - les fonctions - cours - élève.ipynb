{
 "cells": [
  {
   "cell_type": "markdown",
   "metadata": {},
   "source": [
    "<h1>1) création des premières fonctions </h1>"
   ]
  },
  {
   "cell_type": "markdown",
   "metadata": {},
   "source": [
    "Une fonction en Python est définie en utilisant le mot-clé def, suivi du nom de la fonction et des parenthèses. Les parenthèses peuvent contenir des paramètres, mais ce n'est pas obligatoire.\n",
    "\n",
    "Le bloc de code associé à la fonction est indenté sous la ligne de définition."
   ]
  },
  {
   "cell_type": "code",
   "execution_count": null,
   "metadata": {},
   "outputs": [],
   "source": []
  },
  {
   "cell_type": "code",
   "execution_count": null,
   "metadata": {},
   "outputs": [],
   "source": []
  },
  {
   "cell_type": "markdown",
   "metadata": {},
   "source": [
    "Il est possible de modifier votre fonction en cours de code, comme une une variable"
   ]
  },
  {
   "cell_type": "code",
   "execution_count": null,
   "metadata": {},
   "outputs": [],
   "source": []
  },
  {
   "cell_type": "markdown",
   "metadata": {},
   "source": [
    "<h1> les paramètres des fonctions </h1>"
   ]
  },
  {
   "cell_type": "markdown",
   "metadata": {},
   "source": [
    "Imaginons que vous écrivez un programme pour une machine à café. Cette machine peut préparer différents types de café et les utilisateurs peuvent choisir des options supplémentaires comme l'ajout de lait ou de sucre.\n",
    "\n",
    "Créons une fonction preparer_cafe qui prend un type de café comme paramètre obligatoire."
   ]
  },
  {
   "cell_type": "code",
   "execution_count": null,
   "metadata": {},
   "outputs": [],
   "source": []
  },
  {
   "cell_type": "markdown",
   "metadata": {},
   "source": [
    "Ajoutons des options pour lait et sucre, mais rendons-les optionnels avec des valeurs par défaut."
   ]
  },
  {
   "cell_type": "code",
   "execution_count": null,
   "metadata": {},
   "outputs": [],
   "source": []
  },
  {
   "cell_type": "code",
   "execution_count": null,
   "metadata": {},
   "outputs": [],
   "source": []
  },
  {
   "cell_type": "markdown",
   "metadata": {},
   "source": [
    "Imaginons mainenant le cas où l'utilisateur précise d'abord s'il veut du lait, avant d'indiquer le type de café souhaité, via la méthode positionnelle"
   ]
  },
  {
   "cell_type": "code",
   "execution_count": null,
   "metadata": {},
   "outputs": [],
   "source": []
  },
  {
   "cell_type": "markdown",
   "metadata": {},
   "source": [
    "Pour éviter ça, la méthode consiste à préciser l'argument lors de l'appel de la fonction (méthode par mot-clé) "
   ]
  },
  {
   "cell_type": "code",
   "execution_count": null,
   "metadata": {},
   "outputs": [],
   "source": []
  },
  {
   "cell_type": "markdown",
   "metadata": {},
   "source": [
    "Rappel : Les paramètres de fonction en Python peuvent être classés en deux catégories : obligatoires et optionnels. \n",
    "Les paramètres obligatoires doivent être fournis lors de l'appel de la fonction, tandis que les paramètres optionnels ont des valeurs par défaut et peuvent être omis. "
   ]
  },
  {
   "cell_type": "markdown",
   "metadata": {},
   "source": [
    "<h1>Retourner une ou plusieurs valeurs avec une fonction</h1>\n",
    "La déclaration return est utilisée dans une fonction pour renvoyer une valeur au code appelant. Elle termine l'exécution de la fonction et \"renvoie\" le résultat.\n",
    "\n",
    "Exemple simple : "
   ]
  },
  {
   "cell_type": "code",
   "execution_count": null,
   "metadata": {},
   "outputs": [],
   "source": []
  },
  {
   "cell_type": "code",
   "execution_count": null,
   "metadata": {},
   "outputs": [],
   "source": []
  },
  {
   "cell_type": "code",
   "execution_count": null,
   "metadata": {},
   "outputs": [],
   "source": []
  },
  {
   "cell_type": "markdown",
   "metadata": {},
   "source": [
    "Les fonctions en Python peuvent renvoyer plusieurs valeurs sous forme de tuple.\n",
    "\n",
    "Modifions la fonction pour qu'elle renvoie également le coût estimé de la commande."
   ]
  },
  {
   "cell_type": "code",
   "execution_count": null,
   "metadata": {},
   "outputs": [],
   "source": []
  },
  {
   "cell_type": "code",
   "execution_count": null,
   "metadata": {},
   "outputs": [],
   "source": []
  },
  {
   "cell_type": "code",
   "execution_count": null,
   "metadata": {},
   "outputs": [],
   "source": []
  },
  {
   "cell_type": "code",
   "execution_count": null,
   "metadata": {},
   "outputs": [],
   "source": []
  },
  {
   "cell_type": "markdown",
   "metadata": {},
   "source": [
    "Une autre méthode consiste à faire retourner des objets complexes, du type liste ou objet à la fonction"
   ]
  },
  {
   "cell_type": "code",
   "execution_count": null,
   "metadata": {},
   "outputs": [],
   "source": []
  },
  {
   "cell_type": "markdown",
   "metadata": {},
   "source": [
    "<h1> Portée des variables </h1>\n",
    "\n",
    "La \"portée\" d'une variable détermine où dans votre code cette variable peut être accessible. En Python, il y a deux types principaux de portées : locale et globale.\n",
    "\n",
    "<b> La portée locale </b>\n",
    "\n",
    "Une variable définie à l'intérieur d'une fonction a une portée locale, ce qui signifie qu'elle ne peut être utilisée que dans cette fonction."
   ]
  },
  {
   "cell_type": "code",
   "execution_count": null,
   "metadata": {},
   "outputs": [],
   "source": []
  },
  {
   "cell_type": "markdown",
   "metadata": {},
   "source": [
    "<b> La portée globale </b>\n",
    "\n",
    "Une variable définie en dehors de toute fonction a une portée globale, ce qui signifie qu'elle peut être utilisée partout dans le code."
   ]
  },
  {
   "cell_type": "code",
   "execution_count": null,
   "metadata": {},
   "outputs": [],
   "source": []
  },
  {
   "cell_type": "markdown",
   "metadata": {},
   "source": [
    "<b> Globale ou locale, comment choisir ? </b>\n",
    "\n",
    "1) Préférez les Variables Locales\n",
    "\n",
    "Limitez l'utilisation de variables globales autant que possible. Utilisez des variables locales pour éviter les effets de bord indésirables.\n",
    "\n",
    "2) Clarté et Maintenance\n",
    "\n",
    "Des variables globales peuvent rendre le code difficile à comprendre et à maintenir. Si vous devez utiliser des variables globales, assurez-vous qu'elles sont bien documentées.\n",
    "\n",
    "3) Passage de Variables aux Fonctions\n",
    "\n",
    "Au lieu de compter sur des variables globales, passez des variables aux fonctions en tant que paramètres pour une meilleure clarté et modularité."
   ]
  },
  {
   "cell_type": "markdown",
   "metadata": {},
   "source": [
    "<h1> Utilisation de *args et **kwargs </h1>\n",
    "\n",
    "*args permet à une fonction d'accepter n'importe quel nombre d'arguments positionnels."
   ]
  },
  {
   "cell_type": "code",
   "execution_count": null,
   "metadata": {},
   "outputs": [],
   "source": []
  },
  {
   "cell_type": "markdown",
   "metadata": {},
   "source": [
    "**kwargs permet à une fonction d'accepter des arguments avec des clés et des valeurs, facilitant la spécification d'options nommées."
   ]
  },
  {
   "cell_type": "code",
   "execution_count": null,
   "metadata": {},
   "outputs": [],
   "source": []
  },
  {
   "cell_type": "markdown",
   "metadata": {},
   "source": [
    "Bien que *args et **kwargs offrent une grande flexibilité, ils peuvent rendre le code moins clair si utilisés sans précaution. Utilisez-les lorsque cela simplifie vraiment le code ou améliore la flexibilité.\n",
    "\n",
    "En plus de cela, gardez en tête qu'il est possible de pousser directement des liste ou objets comme argument de fonction."
   ]
  },
  {
   "cell_type": "code",
   "execution_count": null,
   "metadata": {},
   "outputs": [],
   "source": []
  },
  {
   "cell_type": "code",
   "execution_count": null,
   "metadata": {},
   "outputs": [],
   "source": []
  },
  {
   "cell_type": "markdown",
   "metadata": {},
   "source": [
    "<h1> Les fonctions lambda </h1>\n",
    "\n",
    "Les fonctions lambda, également connues sous le nom de fonctions anonymes, sont une caractéristique de Python qui permet de créer de petites fonctions en une seule ligne. Elles sont souvent utilisées pour des opérations simples, et peuvent être employées là où une fonction est requise pour une courte période.\n",
    "\n",
    "Supposons que nous voulons appliquer une remise sur le prix des cafés. Utilisons une fonction lambda pour cela."
   ]
  },
  {
   "cell_type": "code",
   "execution_count": null,
   "metadata": {},
   "outputs": [],
   "source": []
  },
  {
   "cell_type": "markdown",
   "metadata": {},
   "source": [
    "Supposons qu'une quantité standard pour une tasse soit de 10 grammes. Le client peut choisir de rendre son café plus ou moins fort en ajustant ce montant."
   ]
  },
  {
   "cell_type": "code",
   "execution_count": null,
   "metadata": {},
   "outputs": [],
   "source": []
  },
  {
   "cell_type": "markdown",
   "metadata": {},
   "source": [
    "Créons une liste de boissons et utilisons filter() avec une fonction lambda pour extraire uniquement les boissons qui sont des cafés."
   ]
  },
  {
   "cell_type": "code",
   "execution_count": null,
   "metadata": {},
   "outputs": [],
   "source": [
    "boissons = [\"café espresso\", \" café latte\", \"thé vert\", \"café cappuccino\", \"eau minérale\"]"
   ]
  },
  {
   "cell_type": "markdown",
   "metadata": {},
   "source": [
    "Disons que nous avons une liste de prix pour chaque type de café et que nous voulons augmenter chaque prix de 0.50 euros."
   ]
  },
  {
   "cell_type": "code",
   "execution_count": null,
   "metadata": {},
   "outputs": [],
   "source": []
  },
  {
   "cell_type": "markdown",
   "metadata": {},
   "source": [
    "<h1> Les décorateurs </h1>\n",
    "\n",
    "Un décorateur est une fonction qui prend une autre fonction en entrée et étend ou modifie son comportement sans la modifier directement.\n",
    "\n",
    "Exemple d'usage :\n",
    "- Ajout de fonctionnalités à une fonction existante sans en modifier le code.\n",
    "- Journalisation et chronométrage pour le débogage et la surveillance des performances."
   ]
  },
  {
   "cell_type": "code",
   "execution_count": null,
   "metadata": {},
   "outputs": [],
   "source": []
  },
  {
   "cell_type": "markdown",
   "metadata": {},
   "source": [
    "<h1> Générateurs en Python </h1>\n",
    "\n",
    "Un générateur est une fonction qui permet de créer un itérateur de manière simple. Au lieu de retourner une valeur unique, un générateur peut générer une séquence de valeurs, une à la fois, en utilisant le mot-clé yield au lieu de return. Les générateurs sont utilisés pour générer des séquences de données sans avoir besoin de les stocker en mémoire, ce qui les rend particulièrement utiles pour travailler avec de grandes données ou des flux de données infinis.\n",
    "\n",
    "interêts : \n",
    "- Économie de mémoire : Les générateurs ne stockent pas toutes les valeurs en mémoire, elles sont générées à la volée.\n",
    "- Simplicité : Les générateurs simplifient le code nécessaire pour créer des itérateurs, rendant le code plus lisible et plus maintenable.\n",
    "- Performance : Ils peuvent améliorer la performance des applications en réduisant le temps et l'espace nécessaires pour traiter les séquences de données."
   ]
  },
  {
   "cell_type": "code",
   "execution_count": null,
   "metadata": {},
   "outputs": [],
   "source": []
  },
  {
   "cell_type": "code",
   "execution_count": null,
   "metadata": {},
   "outputs": [],
   "source": []
  }
 ],
 "metadata": {
  "kernelspec": {
   "display_name": "Python 3 (ipykernel)",
   "language": "python",
   "name": "python3"
  },
  "language_info": {
   "codemirror_mode": {
    "name": "ipython",
    "version": 3
   },
   "file_extension": ".py",
   "mimetype": "text/x-python",
   "name": "python",
   "nbconvert_exporter": "python",
   "pygments_lexer": "ipython3",
   "version": "3.11.5"
  }
 },
 "nbformat": 4,
 "nbformat_minor": 2
}
