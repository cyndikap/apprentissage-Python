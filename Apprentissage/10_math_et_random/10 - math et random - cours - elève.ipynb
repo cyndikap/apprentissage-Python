{
 "cells": [
  {
   "cell_type": "markdown",
   "id": "e2dfc312",
   "metadata": {},
   "source": [
    "<h1> Présentation du Package math </h1>\n",
    "\n",
    "Introduction aux fonctionnalités de base du package math et à son importance pour effectuer des calculs mathématiques en Python.\n",
    "\n",
    "<h3> Fonctions d'Arrondi </h3>\n",
    "    \n",
    "<b> math.ceil(x)</b>\n",
    "    \n",
    "Arrondit x à l'entier supérieur le plus proche.\n",
    "\n",
    "Exemple : Calculer le nombre minimum de carreaux nécessaires pour couvrir un sol dont la longueur est de 9.2 mètres, sachant que chaque carreau mesure 1 mètre carré."
   ]
  },
  {
   "cell_type": "code",
   "execution_count": null,
   "id": "a0cb9286",
   "metadata": {},
   "outputs": [],
   "source": []
  },
  {
   "cell_type": "markdown",
   "id": "b23370b9",
   "metadata": {},
   "source": [
    "<b> math.floor(x) </b>\n",
    "\n",
    "Arrondit x à l'entier inférieur le plus proche.\n",
    "\n",
    "Exemple : Déterminer le nombre maximum de boîtes que l'on peut placer sur une étagère de 3.7 mètres, chaque boîte mesurant 1 mètre de long."
   ]
  },
  {
   "cell_type": "code",
   "execution_count": null,
   "id": "d4d9fe9b",
   "metadata": {},
   "outputs": [],
   "source": []
  },
  {
   "cell_type": "markdown",
   "id": "cb46772c",
   "metadata": {},
   "source": [
    "<b> math.trunc(x) </b>\n",
    "\n",
    "Tronque x à l'entier le plus proche vers 0\n",
    "\n",
    "Exemple : Calculer le nombre entier de jours travaillés basé sur un total d'heures travaillées de 45.9 heures, sachant qu'une journée de travail compte 8 heures."
   ]
  },
  {
   "cell_type": "code",
   "execution_count": null,
   "id": "e14047e7",
   "metadata": {},
   "outputs": [],
   "source": []
  },
  {
   "cell_type": "markdown",
   "id": "eea532bc",
   "metadata": {},
   "source": [
    "<h3> Fonctions Exponentielles et Logarithmiques </h3>\n",
    "\n",
    "<b> math.pow(x, y) : Retourne x à la puissance y. </b>\n",
    "\n",
    "Exemple : Calculer les puissances de 2"
   ]
  },
  {
   "cell_type": "code",
   "execution_count": null,
   "id": "3de154a6",
   "metadata": {},
   "outputs": [],
   "source": []
  },
  {
   "cell_type": "markdown",
   "id": "95374526",
   "metadata": {},
   "source": [
    "<b> math.sqrt(x) </b>\n",
    "\n",
    "Retourne la racine carrée de x.\n",
    "Exemple : Trouver la longueur de l'hypoténuse d'un triangle rectangle avec des côtés de 3m et 4m."
   ]
  },
  {
   "cell_type": "code",
   "execution_count": null,
   "id": "89404547",
   "metadata": {},
   "outputs": [],
   "source": []
  },
  {
   "cell_type": "markdown",
   "id": "1b10c326",
   "metadata": {},
   "source": [
    "<h3> Les constantes de Math </h3>\n",
    "\n",
    "<b> math.pi </b>\n",
    "\n",
    "Constante π, le rapport de la circonférence d'un cercle à son diamètre.\n",
    "\n",
    "Exemple : Calculer la circonférence d'un cercle de rayon 7m."
   ]
  },
  {
   "cell_type": "code",
   "execution_count": null,
   "id": "90a13d71",
   "metadata": {},
   "outputs": [],
   "source": []
  },
  {
   "cell_type": "markdown",
   "id": "bbc11584",
   "metadata": {},
   "source": [
    "<b> math.inf </b> \n",
    "\n",
    "Représentation de l'infini positif.\n",
    "\n",
    "Exemple : Comparer une grande valeur avec l'infini pour tester si elle est infiniment grande."
   ]
  },
  {
   "cell_type": "code",
   "execution_count": null,
   "id": "55d31f4c",
   "metadata": {},
   "outputs": [],
   "source": []
  },
  {
   "cell_type": "markdown",
   "id": "1205f4af",
   "metadata": {},
   "source": [
    "<h1> Présentation du Package random </h1>\n",
    "\n",
    "Le package random de Python est une bibliothèque qui fournit des fonctions pour générer des nombres pseudo-aléatoires\n",
    "\n",
    "<b> Génération de Nombres Entiers</b>\n",
    "\n",
    "random.randint(a, b) : Génère un nombre entier aléatoire N tel que a <= N <= b.\n",
    "Exemple : Sélectionner un numéro gagnant pour une tombola."
   ]
  },
  {
   "cell_type": "code",
   "execution_count": null,
   "id": "c24449e4",
   "metadata": {},
   "outputs": [],
   "source": []
  },
  {
   "cell_type": "markdown",
   "id": "50c719d2",
   "metadata": {},
   "source": [
    "<b> Génération de Nombres Flottants </b>\n",
    "\n",
    "random.random() : Génère un nombre flottant aléatoire entre 0.0 et 1.0.\n",
    "Exemple : Simuler le pourcentage de remplissage d'un réservoir."
   ]
  },
  {
   "cell_type": "code",
   "execution_count": null,
   "id": "06d3ac9a",
   "metadata": {},
   "outputs": [],
   "source": []
  },
  {
   "cell_type": "markdown",
   "id": "2f314213",
   "metadata": {},
   "source": [
    "<b> Choix Aléatoire dans une Séquence </b>\n",
    "\n",
    "random.choice(seq) : Sélectionne un élément aléatoire d'une séquence non vide.\n",
    "Exemple : Choisir un élève au hasard pour répondre à une question."
   ]
  },
  {
   "cell_type": "code",
   "execution_count": null,
   "id": "68ca5246",
   "metadata": {},
   "outputs": [],
   "source": [
    "eleves = ['Alice', 'Bob', 'Charlie', 'Diane']"
   ]
  },
  {
   "cell_type": "markdown",
   "id": "1b42f459",
   "metadata": {},
   "source": [
    "<b> Mélange d'une Séquence  </b>\n",
    "\n",
    "random.shuffle(seq) : Mélange les éléments d'une liste en place.\n",
    "Exemple : Mélanger un jeu de cartes."
   ]
  },
  {
   "cell_type": "code",
   "execution_count": null,
   "id": "cf3eeb43",
   "metadata": {},
   "outputs": [],
   "source": [
    "cartes = ['As', 'Roi', 'Dame', 'Valet', '10', '9']"
   ]
  },
  {
   "cell_type": "markdown",
   "id": "89047abe",
   "metadata": {},
   "source": [
    "<b> Sélection de Nombres Aléatoires Uniques </b>\n",
    "\n",
    "random.sample(population, k) : Sélectionne k éléments uniques d'une population.\n",
    "Exemple : Tirer 5 numéros uniques pour une loterie."
   ]
  },
  {
   "cell_type": "code",
   "execution_count": null,
   "id": "90761269",
   "metadata": {},
   "outputs": [],
   "source": []
  },
  {
   "cell_type": "markdown",
   "id": "cf2a34c2",
   "metadata": {},
   "source": [
    "<b> random.seed() </b>\n",
    "\n",
    "Initialise le générateur de nombres aléatoires avec une graine optionnelle pour reproduire les résultats.\n",
    "Utile pour le débogage ou les simulations où la reproductibilité est importante."
   ]
  },
  {
   "cell_type": "code",
   "execution_count": null,
   "id": "c1a59057",
   "metadata": {},
   "outputs": [],
   "source": []
  }
 ],
 "metadata": {
  "kernelspec": {
   "display_name": "Python 3 (ipykernel)",
   "language": "python",
   "name": "python3"
  },
  "language_info": {
   "codemirror_mode": {
    "name": "ipython",
    "version": 3
   },
   "file_extension": ".py",
   "mimetype": "text/x-python",
   "name": "python",
   "nbconvert_exporter": "python",
   "pygments_lexer": "ipython3",
   "version": "3.11.5"
  }
 },
 "nbformat": 4,
 "nbformat_minor": 5
}
