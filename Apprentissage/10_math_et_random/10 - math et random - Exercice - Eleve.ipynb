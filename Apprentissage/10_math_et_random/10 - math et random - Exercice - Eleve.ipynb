{
 "cells": [
  {
   "cell_type": "markdown",
   "id": "bb3bcae6",
   "metadata": {},
   "source": [
    "<h1> Exercice 1 </h1>\n",
    "\n",
    "Vous êtes chargé de développer une petite simulation d'un jeu de loto. Dans ce jeu, un joueur choisit 5 numéros uniques dans une plage de 1 à 50. Après la sélection, le jeu tire au sort 5 numéros gagnants dans la même plage. Le but est de comparer les numéros choisis par le joueur avec les numéros gagnants pour déterminer le nombre de correspondances.\n",
    "\n",
    "\n",
    "<b> Instructions </b>\n",
    "\n",
    "1) Initialisation des Numéros du Joueur :\n",
    "- Le joueur choisit 5 numéros uniques (dans une liste). Pour simplifier, vous pouvez générer ces numéros automatiquement ou les définir manuellement dans le code.\n",
    "\n",
    "2) Tirage des Numéros Gagnants :\n",
    "- Utilisez random.sample pour tirer 5 numéros uniques entre 1 et 50 représentant les numéros gagnants.\n",
    "\n",
    "3) Comparaison et Résultat :\n",
    "- Comparez les numéros choisis par le joueur avec les numéros gagnants pour déterminer combien de numéros correspondent.\n",
    "- Affichez les numéros du joueur, les numéros gagnants, et le nombre de correspondances."
   ]
  },
  {
   "cell_type": "code",
   "execution_count": null,
   "id": "55e748dc",
   "metadata": {},
   "outputs": [],
   "source": []
  },
  {
   "cell_type": "markdown",
   "id": "ee11f1e4",
   "metadata": {},
   "source": [
    "<h1> Exercice 2 </h1>\n",
    "\n",
    "Vous êtes en charge de planifier un voyage de classe pour un groupe d'élèves. Le coût total du voyage est fixe, mais le nombre d'élèves pouvant participer varie. L'objectif est de calculer le coût par élève et de déterminer le nombre minimal d'élèves nécessaire pour ne pas dépasser un certain budget par personne. De plus, vous devez sélectionner aléatoirement un groupe d'élèves qui seront les responsables du voyage.\n",
    "\n",
    "\n",
    "1) Calcul du Coût par Élève :\n",
    "\n",
    "Le coût total du voyage est de 2000 euros. Le budget maximal par élève est de 150 euros. Utilisez math.ceil pour calculer le nombre minimal d'élèves nécessaire pour respecter ce budget.\n",
    "\n",
    "2) Sélection des Responsables du Voyage :\n",
    "\n",
    "Parmi les élèves, sélectionnez un élève au hasard pour être le chef du groupe. Ensuite, choisissez 3 élèves supplémentaires pour former le comité d'organisation, sans inclure le chef déjà sélectionné."
   ]
  },
  {
   "cell_type": "code",
   "execution_count": null,
   "id": "30beef2d",
   "metadata": {},
   "outputs": [],
   "source": [
    "cout_total = 2000\n",
    "budget_max_par_eleve = 150\n",
    "eleves = ['Alice', 'Bob', 'Charlie', 'Diana', 'Ethan', 'Fiona', 'George', 'Hannah', 'Ian', 'Julia', 'Kevin']"
   ]
  }
 ],
 "metadata": {
  "kernelspec": {
   "display_name": "Python 3 (ipykernel)",
   "language": "python",
   "name": "python3"
  },
  "language_info": {
   "codemirror_mode": {
    "name": "ipython",
    "version": 3
   },
   "file_extension": ".py",
   "mimetype": "text/x-python",
   "name": "python",
   "nbconvert_exporter": "python",
   "pygments_lexer": "ipython3",
   "version": "3.11.5"
  }
 },
 "nbformat": 4,
 "nbformat_minor": 5
}
