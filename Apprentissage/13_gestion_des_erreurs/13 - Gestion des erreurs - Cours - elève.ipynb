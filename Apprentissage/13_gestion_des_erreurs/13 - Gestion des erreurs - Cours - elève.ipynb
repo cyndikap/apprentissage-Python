{
 "cells": [
  {
   "cell_type": "markdown",
   "id": "230de7b4",
   "metadata": {},
   "source": [
    "<h1> Gestion des erreurs et des exceptions en Python </h1>\n",
    "    \n",
    "<b> Différence entre erreurs et exceptions </b>\n",
    "\n",
    "Une erreur indique un problème qui survient lors de l'exécution d'un programme. En Python, les erreurs peuvent être classées en deux catégories principales : les erreurs de syntaxe et les exceptions.\n",
    "\n",
    "Erreurs de Syntaxe : Les erreurs de syntaxe, souvent appelées erreurs de \"parsing\", se produisent lorsque le code Python n'est pas correctement formé."
   ]
  },
  {
   "cell_type": "code",
   "execution_count": null,
   "id": "0133176d",
   "metadata": {},
   "outputs": [],
   "source": [
    "if True == True:\n",
    "print('condition remplie')"
   ]
  },
  {
   "cell_type": "code",
   "execution_count": null,
   "id": "9739fb96",
   "metadata": {},
   "outputs": [],
   "source": [
    "if True == True\n",
    "    print('condition remplie')"
   ]
  },
  {
   "cell_type": "markdown",
   "id": "39255d01",
   "metadata": {},
   "source": [
    "Exceptions : Les exceptions sont des erreurs détectées lors de l'exécution d'un programme, même si la syntaxe du code est correcte. Ces erreurs se produisent généralement en raison de conditions imprévues pendant l'exécution du programme\n",
    "\n",
    "NameError : Se produit lorsqu'une tentative est faite pour utiliser une variable non définie."
   ]
  },
  {
   "cell_type": "code",
   "execution_count": null,
   "id": "0af2c947",
   "metadata": {},
   "outputs": [],
   "source": [
    "if mavariable == True:\n",
    "    print('condition remplie')"
   ]
  },
  {
   "cell_type": "markdown",
   "id": "1f2f2126",
   "metadata": {},
   "source": [
    "IndexError : Se produit lorsqu'une tentative est faite pour accéder à un index hors de la plage d'une liste ou d'un autre type de séquence."
   ]
  },
  {
   "cell_type": "code",
   "execution_count": null,
   "id": "41e415ad",
   "metadata": {},
   "outputs": [],
   "source": [
    "ma_liste = [1, 2, 3]\n",
    "print(ma_liste[3])"
   ]
  },
  {
   "cell_type": "markdown",
   "id": "a884d27f",
   "metadata": {},
   "source": [
    "TypeError : Se produit lorsqu'une opération ou fonction est appliquée à un objet d'un type inapproprié."
   ]
  },
  {
   "cell_type": "code",
   "execution_count": null,
   "id": "dc637303",
   "metadata": {},
   "outputs": [],
   "source": [
    "\"2\" + 2  # TypeError"
   ]
  },
  {
   "cell_type": "markdown",
   "id": "a8ee8e23",
   "metadata": {},
   "source": [
    "<b> Try et Except </b>\n",
    "\n",
    "Les instructions try et except en Python sont utilisées pour la gestion des exceptions, permettant à un programme de répondre de manière appropriée aux erreurs d'exécution sans s'arrêter brusquement.\n",
    "\n",
    "- try : Un bloc try contient du code qui pourrait potentiellement générer une exception. \n",
    "\n",
    "- except : Un bloc except est utilisé pour capturer et gérer une exception spécifique ou toutes les exceptions qui pourraient être levées dans le bloc try précédent. Vous pouvez spécifier un type d'exception particulier à capturer, ou utiliser except Exception as e pour capturer n'importe quelle exception et accéder à ses détails via e.\n",
    "\n",
    "Imaginons que nous développons une calculatrice simple qui permet à l'utilisateur d'entrer deux nombres et de choisir une opération arithmétique (addition, soustraction, multiplication, division). Le programme doit gérer les erreurs courantes, comme la division par zéro ou l'entrée de données non numériques."
   ]
  },
  {
   "cell_type": "code",
   "execution_count": null,
   "id": "2accf8a9",
   "metadata": {},
   "outputs": [],
   "source": [
    "def calculer(a, b, operation):\n",
    "    if operation == '+':\n",
    "        return a + b\n",
    "    elif operation == '-':\n",
    "        return a - b\n",
    "    elif operation == '*':\n",
    "        return a * b\n",
    "    elif operation == '/':\n",
    "        return a / b\n",
    "    else:\n",
    "        print(\"Opération inconnue.\")"
   ]
  },
  {
   "cell_type": "code",
   "execution_count": null,
   "id": "a1c5bfaf",
   "metadata": {},
   "outputs": [],
   "source": [
    "a = input(\"Entrez le premier nombre : \")\n",
    "b = input(\"Entrez le second nombre : \")\n",
    "operation = input(\"Choisissez l'opération (+, -, *, /) : \")"
   ]
  },
  {
   "cell_type": "markdown",
   "id": "6fa36c7e",
   "metadata": {},
   "source": [
    "<b> Utiliser l'instruction Raise </b>\n",
    "\n",
    "\n",
    "L'instruction raise en Python est utilisée pour lever une exception délibérément dans un bloc de code. Elle permet au développeur de signaler des conditions d'erreur ou des situations exceptionnelles en interrompant le flux normal du programme et en passant le contrôle à un bloc except correspondant.\n",
    "\n",
    "Exemple : Nous souhaitons lever une exception si l'utilisateur tente d'effectuer une opération non supportée."
   ]
  },
  {
   "cell_type": "code",
   "execution_count": null,
   "id": "2e237154",
   "metadata": {},
   "outputs": [],
   "source": []
  },
  {
   "cell_type": "code",
   "execution_count": null,
   "id": "95b033e3",
   "metadata": {},
   "outputs": [],
   "source": []
  },
  {
   "cell_type": "markdown",
   "id": "70d8b9e3",
   "metadata": {},
   "source": [
    "<b> Utiliser l'instruction Finally </b>\n",
    "\n",
    "L'instruction finally en Python est utilisée dans un bloc try pour définir une section de code qui sera exécutée après le bloc try et tous les blocs except, indépendamment du fait qu'une exception ait été levée ou non.\n",
    "\n",
    "Imaginons que notre calculatrice enregistre chaque opération effectuée dans un fichier journal (log). Il est crucial que le fichier soit correctement fermé après chaque opération, même en cas d'erreur."
   ]
  },
  {
   "cell_type": "code",
   "execution_count": null,
   "id": "f35d753f",
   "metadata": {},
   "outputs": [],
   "source": []
  }
 ],
 "metadata": {
  "kernelspec": {
   "display_name": "Python 3 (ipykernel)",
   "language": "python",
   "name": "python3"
  },
  "language_info": {
   "codemirror_mode": {
    "name": "ipython",
    "version": 3
   },
   "file_extension": ".py",
   "mimetype": "text/x-python",
   "name": "python",
   "nbconvert_exporter": "python",
   "pygments_lexer": "ipython3",
   "version": "3.11.5"
  }
 },
 "nbformat": 4,
 "nbformat_minor": 5
}
