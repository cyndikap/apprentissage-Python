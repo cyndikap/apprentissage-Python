{
 "cells": [
  {
   "cell_type": "markdown",
   "id": "300f4205",
   "metadata": {},
   "source": [
    "<h1> Exercice </h1>\n",
    "    \n",
    "Vous créez un programme pour prendre les commandes dans un restaurant. Le menu est représenté par un dictionnaire où les clés sont les noms des plats et les valeurs sont les prix. Le système doit permettre au serveur de saisir les commandes des clients et calculer le total, y compris un pourboire optionnel.\n",
    "\n",
    "<b> 1) Fonction de Prise de Commande </b> \n",
    "\n",
    "Écrivez une fonction prendre_commande(menu) qui demande au serveur de saisir le nom d'un plat et lui affiche (via un print) le prix de celui-ci. Utilisez try et except pour gérer une KeyError si le plat n'est pas dans le menu.\n",
    "\n",
    "<b> 2) Calcul du Total avec Pourboire </b>\n",
    "\n",
    "Créez une fonction calculer_total(prix, pourboire) qui calcule le total de la commande en ajoutant un pourboire. Levez une ValueError si le pourboire est négatif.\n",
    "\n",
    "<b> 3) Nettoyage avec Finally </b>\n",
    "\n",
    "Ajoutez un bloc finally à la fonction calculer_total pour afficher un message confirmant que la commande a été traitée, peu importe le résultat."
   ]
  },
  {
   "cell_type": "code",
   "execution_count": null,
   "id": "7cbce971",
   "metadata": {},
   "outputs": [],
   "source": [
    "menuDuJour = {\"Pizza\": 10, \"Salade\": 6, \"Burger\": 8, \"Pâtes\": 9, \"Soupe\": 5}"
   ]
  },
  {
   "cell_type": "code",
   "execution_count": null,
   "id": "58640a31",
   "metadata": {},
   "outputs": [],
   "source": [
    "#1"
   ]
  },
  {
   "cell_type": "code",
   "execution_count": null,
   "id": "d45fcb71",
   "metadata": {},
   "outputs": [],
   "source": [
    "#2"
   ]
  },
  {
   "cell_type": "code",
   "execution_count": null,
   "id": "459d3884",
   "metadata": {},
   "outputs": [],
   "source": [
    "#3"
   ]
  }
 ],
 "metadata": {
  "kernelspec": {
   "display_name": "Python 3 (ipykernel)",
   "language": "python",
   "name": "python3"
  },
  "language_info": {
   "codemirror_mode": {
    "name": "ipython",
    "version": 3
   },
   "file_extension": ".py",
   "mimetype": "text/x-python",
   "name": "python",
   "nbconvert_exporter": "python",
   "pygments_lexer": "ipython3",
   "version": "3.11.5"
  }
 },
 "nbformat": 4,
 "nbformat_minor": 5
}
