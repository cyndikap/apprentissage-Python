{
 "cells": [
  {
   "cell_type": "markdown",
   "id": "d094a8bc",
   "metadata": {},
   "source": [
    "<h1> Exercice 1 </h1>\n",
    "\n",
    "Vous êtes en charge de développer un système de réservation pour un cinéma. Le cinéma a une capacité de 40 sièges. Vous devez écrire un programme qui demande continuellement aux utilisateurs combien de billets ils souhaitent acheter, puis décompte ces billets du total disponible. Le programme doit s'arrêter lorsqu'il n'y a plus de sièges disponibles ou si l'utilisateur entre le nombre 0 (qui indique qu'il ne souhaite pas acheter de billets et qu'il s'agit de la fin de la queue). \n",
    "\n",
    "À la fin, le programme doit afficher le nombre total de billets vendus.\n",
    "\n",
    "<b> 1) Initialisation des Variables </b>\n",
    "\n",
    "- Définissez une variable pour la capacité totale du cinéma (40 sièges).\n",
    "- Définissez une variable pour compter le nombre total de billets vendus.\n",
    "\n",
    "<b> 2) Configuration de la Boucle while </b>\n",
    "\n",
    "- Commencez une boucle while qui s'exécute tant qu'il y a des sièges disponibles.\n",
    "\n",
    "<b> 3) Demande d'Achat de Billets </b>\n",
    "\n",
    "- À l'intérieur de la boucle, demandez à l'utilisateur combien de billets il souhaite acheter (via la méthode input)\n",
    "- Convertissez la réponse en un nombre entier.\n",
    "\n",
    "<b> 4) Conditions de Sortie </b>\n",
    "\n",
    "- Vérifiez si l'utilisateur a entré 0 (aucun achat). Si c'est le cas, interrompez la boucle avec break.\n",
    "- Vérifiez si le nombre de billets demandés est supérieur au nombre de sièges disponibles. Si c'est le cas, affichez un message d'erreur et redémarrez la boucle afin de demander à nouveau le nombre de places.\n",
    "\n",
    "<b> 5) Mise à Jour des Compteurs </b>\n",
    "- Déduisez le nombre de billets achetés de la capacité totale du cinéma.\n",
    "- Ajoutez le nombre de billets achetés au total des billets vendus.\n",
    "\n",
    "<b> 6) Affichage des Résultats </b> \n",
    "- À chaque itération, affichez le nombre de billets achetés et le nombre de sièges restants.\n",
    "- À la fin de la boucle, affichez le nombre total de billets vendus.\n",
    "\n",
    "\n",
    "<b> Important ! Point info sur la méthode Input</b>\n",
    "\n",
    "La méthode input permet d'afficher un champ de saisie. La valeur saisie peut être sauvegardée dans une variable.\n",
    "La valeur récupérée est pas défaut une string, il reste cependant possible de modifier son type. \n"
   ]
  },
  {
   "cell_type": "code",
   "execution_count": null,
   "id": "71c06ce9",
   "metadata": {},
   "outputs": [],
   "source": [
    "prenom = input(\"Quel est votre prénom ?\")\n",
    "age = int(input(\" Quel est votre age ?\"))\n",
    "\n",
    "print(f\"Vous indiquez vous appeler {prenom} et avoir {age} ans\")"
   ]
  },
  {
   "cell_type": "code",
   "execution_count": null,
   "id": "4fc63106",
   "metadata": {},
   "outputs": [],
   "source": []
  },
  {
   "cell_type": "markdown",
   "id": "28ec3eb8",
   "metadata": {},
   "source": [
    "<h1> Exercice 2 </h1>\n",
    "\n",
    "Vous êtes responsable du développement d'un programme pour une librairie. Cette librairie organise une foire aux livres et vous devez étiqueter chaque livre avec son prix et son numéro de série. Chaque livre de la foire a un prix fixé à 5 euros et vous avez une liste de 100 livres. Votre tâche est d'utiliser une boucle for pour créer une liste d'étiquettes pour chaque livre, indiquant son numéro de série (de 1 à 100) et son prix.\n",
    "\n",
    "<b> 1) Préparation de la Liste des Étiquettes </b>\n",
    "- Créez une liste vide pour stocker les étiquettes.\n",
    "\n",
    "<b> 2) Utilisation de la Boucle for avec range() </b>\n",
    "- Utilisez une boucle for en combinaison avec la fonction range() pour générer les numéros de série de 1 à 100.\n",
    "\n",
    "<b> 3) Création des Étiquettes </b>\n",
    "- Pour chaque numéro de série, créez une étiquette qui indique le numéro de série et le prix fixe du livre.\n",
    "\n",
    "<b> 4) Ajout des Étiquettes à la Liste</b> \n",
    "- Ajoutez chaque étiquette créée à la liste des étiquettes."
   ]
  },
  {
   "cell_type": "code",
   "execution_count": null,
   "id": "604e8c82",
   "metadata": {
    "scrolled": true
   },
   "outputs": [],
   "source": []
  },
  {
   "cell_type": "markdown",
   "id": "2f83cb28",
   "metadata": {},
   "source": [
    "<h1> Exercice 3 </h1>\n",
    "\n",
    "Vous êtes en charge du développement d'un système pour un petit tournoi sportif. Vous avez un dictionnaire où chaque clé est le nom d'une équipe et chaque valeur est le nombre de points que l'équipe a gagnés jusqu'à présent. \n",
    "\n",
    "Votre tâche est d'utiliser une boucle for pour mettre à jour les points de chaque équipe en fonction de leurs performances dans les derniers matchs."
   ]
  },
  {
   "cell_type": "code",
   "execution_count": null,
   "id": "fe8bbe2e",
   "metadata": {},
   "outputs": [],
   "source": [
    "points_equipes = {\n",
    "    \"Équipe A\": 25,\n",
    "    \"Équipe B\": 30,\n",
    "    \"Équipe C\": 22\n",
    "}\n",
    "\n",
    "resultats_matchs = {\"Équipe A\": 3, \"Équipe B\": 2, \"Équipe C\": 5}"
   ]
  },
  {
   "cell_type": "code",
   "execution_count": null,
   "id": "cb873083",
   "metadata": {},
   "outputs": [],
   "source": []
  },
  {
   "cell_type": "markdown",
   "id": "465f6e7e",
   "metadata": {},
   "source": [
    "<h1> Exercice 4 </h1>\n",
    "\n",
    "Vous travaillez sur un projet de gestion de données environnementales. Votre tâche est de traiter une liste de températures en degrés Celsius pour convertir ces températures en degrés Fahrenheit. Utilisez une compréhension de liste pour créer une nouvelle liste contenant les températures converties. Ensuite, filtrez cette liste pour ne conserver que les températures supérieures à 60 degrés Fahrenheit.\n",
    "\n",
    "Formule de Conversion\n",
    "La formule de conversion de Celsius en Fahrenheit est <b> F = (C × 9/5) + 32 </b>\n",
    "\n",
    "\n",
    "<b> 1) Conversion en Fahrenheit avec Compréhension de Liste </b>\n",
    "\n",
    "- Utilisez une compréhension de liste pour convertir chaque température en Fahrenheit.\n",
    "\n",
    "<b>2)  Filtrage des Températures </b>\n",
    "\n",
    "- Filtrez la nouvelle liste pour ne garder que les températures supérieures à 60 degrés Fahrenheit."
   ]
  },
  {
   "cell_type": "code",
   "execution_count": null,
   "id": "cc152ea9",
   "metadata": {},
   "outputs": [],
   "source": [
    "temperatures_celsius = [10, 15, 20, 25, 30]"
   ]
  },
  {
   "cell_type": "code",
   "execution_count": null,
   "id": "4981bb68",
   "metadata": {},
   "outputs": [],
   "source": []
  }
 ],
 "metadata": {
  "kernelspec": {
   "display_name": "Python 3 (ipykernel)",
   "language": "python",
   "name": "python3"
  },
  "language_info": {
   "codemirror_mode": {
    "name": "ipython",
    "version": 3
   },
   "file_extension": ".py",
   "mimetype": "text/x-python",
   "name": "python",
   "nbconvert_exporter": "python",
   "pygments_lexer": "ipython3",
   "version": "3.11.5"
  }
 },
 "nbformat": 4,
 "nbformat_minor": 5
}
