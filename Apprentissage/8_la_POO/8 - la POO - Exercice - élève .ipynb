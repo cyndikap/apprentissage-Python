{
 "cells": [
  {
   "cell_type": "markdown",
   "id": "77e18ff7",
   "metadata": {},
   "source": [
    "<H1> La POO : exercice final </h1>\n",
    "    \n",
    "Vous êtes en charge de développer un système informatique pour gérer un zoo. Ce système doit suivre les animaux présents dans le zoo, leurs caractéristiques et les soins qu'ils reçoivent.\n",
    "\n",
    "1) Création de Classes\n",
    "- Créez une classe Animal qui représente un animal générique du zoo. Cette classe servira de classe parent pour des types d'animaux spécifiques.\n",
    "\n",
    "2) Création d'Attributs\n",
    "- Dans la classe Animal, définissez des attributs d'instance pour nom, espèce et age.\n",
    "- Ajoutez un attribut de classe nombre_animaux pour tenir compte du nombre total d'animaux dans le zoo. Ajoutez un systeme pour que la valeur s'incrémente de 1 à chaque nouvel animal ajouté."
   ]
  },
  {
   "cell_type": "code",
   "execution_count": 7,
   "id": "d46f0156",
   "metadata": {},
   "outputs": [],
   "source": [
    "\n",
    "class Animal:\n",
    "    nombre_animaux=0\n",
    "    def __init__(self,nom,espece,age):\n",
    "        self.nom = nom\n",
    "        self.espece = espece\n",
    "        self.age= age\n",
    "        Animal.nombre_animaux += 1\n",
    "        return f\"nom:{self.nom }, espece:{self.espece},age{self.age}\"\n"
   ]
  },
  {
   "cell_type": "markdown",
   "id": "8b1c1c8f",
   "metadata": {},
   "source": [
    "\n",
    "\n",
    "3) Création de Méthodes\n",
    "- Ajoutez une méthode afficher_info() dans la classe Animal pour imprimer les détails de l'animal.\n",
    "\n",
    "4) Attributs privé\n",
    "- Faites de l'attribut age un attribut privé\n",
    "\n",
    "5) Création d'Objets\n",
    "- Instanciez quelques objets de la classe Animal pour représenter différents animaux dans votre zoo :  \"Simba\", \"Lion\", 5 / \"Gigi\", \"Girafe\", 7\n",
    "\n",
    "6) Héritage Simple\n",
    "- Créez une classe Mammifere qui hérite de Animal et ajoutez un attribut spécifique nombre_de_pattes.\n",
    "- Ajoutez un mammifere au zoo : \"Dumbo\", \"Éléphant\", 10, 4"
   ]
  },
  {
   "cell_type": "markdown",
   "id": "c7b560ff",
   "metadata": {},
   "source": [
    "- Ajoutez une méthode afficher_info() dans la classe Animal pour imprimer les détails de l'animal.\n",
    "\n",
    "4) Attributs privé\n",
    "- Faites de l'attribut age un attribut privé\n",
    "\n",
    "5) Création d'Objets\n",
    "- Instanciez quelques objets de la classe Animal pour représenter différents animaux dans votre zoo :  \"Simba\", \"Lion\", 5 / \"Gigi\", \"Girafe\", 7\n",
    "\n",
    "6) Héritage Simple\n",
    "- Créez une classe Mammifere qui hérite de Animal et ajoutez un attribut spécifique nombre_de_pattes.\n",
    "- Ajoutez un mammifere au zoo : \"Dumbo\", \"Éléphant\", 10, 4"
   ]
  },
  {
   "cell_type": "code",
   "execution_count": null,
   "id": "601c352b",
   "metadata": {},
   "outputs": [],
   "source": []
  }
 ],
 "metadata": {
  "kernelspec": {
   "display_name": "Python 3",
   "language": "python",
   "name": "python3"
  },
  "language_info": {
   "codemirror_mode": {
    "name": "ipython",
    "version": 3
   },
   "file_extension": ".py",
   "mimetype": "text/x-python",
   "name": "python",
   "nbconvert_exporter": "python",
   "pygments_lexer": "ipython3",
   "version": "3.13.2"
  }
 },
 "nbformat": 4,
 "nbformat_minor": 5
}
