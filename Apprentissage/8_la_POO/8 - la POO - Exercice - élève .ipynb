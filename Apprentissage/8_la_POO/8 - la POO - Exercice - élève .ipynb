{
 "cells": [
  {
   "cell_type": "markdown",
   "id": "77e18ff7",
   "metadata": {},
   "source": [
    "<H1> La POO : exercice final </h1>\n",
    "    \n",
    "Vous êtes en charge de développer un système informatique pour gérer un zoo. Ce système doit suivre les animaux présents dans le zoo, leurs caractéristiques et les soins qu'ils reçoivent.\n",
    "\n",
    "1) Création de Classes\n",
    "- Créez une classe Animal qui représente un animal générique du zoo. Cette classe servira de classe parent pour des types d'animaux spécifiques.\n",
    "\n",
    "2) Création d'Attributs\n",
    "- Dans la classe Animal, définissez des attributs d'instance pour nom, espèce et age.\n",
    "- Ajoutez un attribut de classe nombre_animaux pour tenir compte du nombre total d'animaux dans le zoo. Ajoutez un systeme pour que la valeur s'incrémente de 1 à chaque nouvel animal ajouté.\n",
    "\n",
    "3) Création de Méthodes\n",
    "- Ajoutez une méthode afficher_info() dans la classe Animal pour imprimer les détails de l'animal.\n",
    "\n",
    "4) Attributs privé\n",
    "- Faites de l'attribut age un attribut privé\n",
    "\n",
    "5) Création d'Objets\n",
    "- Instanciez quelques objets de la classe Animal pour représenter différents animaux dans votre zoo :  \"Simba\", \"Lion\", 5 / \"Gigi\", \"Girafe\", 7\n",
    "\n",
    "6) Héritage Simple\n",
    "- Créez une classe Mammifere qui hérite de Animal et ajoutez un attribut spécifique nombre_de_pattes.\n",
    "- Ajoutez un mammifere au zoo : \"Dumbo\", \"Éléphant\", 10, 4"
   ]
  }
 ],
 "metadata": {
  "kernelspec": {
   "display_name": "Python 3 (ipykernel)",
   "language": "python",
   "name": "python3"
  },
  "language_info": {
   "codemirror_mode": {
    "name": "ipython",
    "version": 3
   },
   "file_extension": ".py",
   "mimetype": "text/x-python",
   "name": "python",
   "nbconvert_exporter": "python",
   "pygments_lexer": "ipython3",
   "version": "3.11.5"
  }
 },
 "nbformat": 4,
 "nbformat_minor": 5
}
