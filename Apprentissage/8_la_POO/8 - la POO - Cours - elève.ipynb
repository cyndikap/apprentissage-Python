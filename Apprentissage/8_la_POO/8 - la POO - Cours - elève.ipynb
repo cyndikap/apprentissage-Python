{
 "cells": [
  {
   "cell_type": "markdown",
   "id": "288ac88e",
   "metadata": {},
   "source": [
    "<h1> Programmation Orientée Objet (POO) </h1>\n",
    "\n",
    "La POO est un paradigme de programmation qui utilise des objets et des classes pour structurer le logiciel. Les objets représentent des entités, tandis que les classes définissent le modèle ou la structure de ces objets.\n",
    "\n",
    "<b> Cas Concret : Bibliothèque <b>\n",
    "    \n",
    "Imaginons que nous construisons un système pour gérer une bibliothèque. Dans ce système, nous avons besoin de gérer des informations sur les livres et les membres de la bibliothèque."
   ]
  },
  {
   "cell_type": "markdown",
   "id": "36cfdddc",
   "metadata": {},
   "source": [
    "<h3> 1) Définition et Création de Classes </h3>\n",
    "\n",
    "<b>Définition classe </b>: Le modèle ou le blueprint à partir duquel les objets sont créés. Définit les attributs et les méthodes applicables à ses objets.\n",
    "    \n",
    "La classe Livre définira les attributs communs à tous les livres, tels que le titre, l'auteur et l'année de publication."
   ]
  },
  {
   "cell_type": "code",
   "execution_count": null,
   "id": "b22711d0",
   "metadata": {},
   "outputs": [],
   "source": []
  },
  {
   "cell_type": "markdown",
   "id": "ae9b0325",
   "metadata": {},
   "source": [
    "- \"__init__\" est un constructeur spécial en Python qui est appelé lorsqu'un nouvel objet est créé.\n",
    "- \"<b>self</b>\" fait référence à l'instance actuelle de la classe et est utilisé pour accéder aux variables qui appartiennent à la classe.\n",
    "\n",
    "Nous allons maintenant \"instancier\" un objet à partir de la classe livre.\n",
    "\n",
    "<b>Définition Objet </b> : Une instance d'une classe. Il encapsule des données pour l'objet (attributs) et des manières de manipuler ces données (méthodes)."
   ]
  },
  {
   "cell_type": "code",
   "execution_count": null,
   "id": "c49fd8a5",
   "metadata": {},
   "outputs": [],
   "source": [
    "# \"Les Misérables\", \"Victor Hugo\", 1862\n",
    "#\"Le Petit Prince\", \"Antoine de Saint-Exupéry\", 1943"
   ]
  },
  {
   "cell_type": "markdown",
   "id": "d405bd48",
   "metadata": {},
   "source": [
    "livre1 et livre2 sont des instances de la classe Livre, créées avec des informations spécifiques sur chaque livre.\n",
    "\n",
    "Nous pouvons également définir une classe Membre pour gérer les membres de la bibliothèque."
   ]
  },
  {
   "cell_type": "code",
   "execution_count": null,
   "id": "9d0b4683",
   "metadata": {},
   "outputs": [],
   "source": []
  },
  {
   "cell_type": "code",
   "execution_count": null,
   "id": "7767450e",
   "metadata": {},
   "outputs": [],
   "source": [
    "#\"Alice Dubois\", \"alice.dubois@example.com\")"
   ]
  },
  {
   "cell_type": "markdown",
   "id": "76e739c0",
   "metadata": {},
   "source": [
    "<h3> 2) Attributs d'Instance et de Classe </h3>\n",
    "\n",
    "<b> Définition attributs d'instance </b> : Les attributs d'instance sont spécifiques à chaque objet créé à partir d'une classe. Ils permettent à chaque objet d'avoir ses propres valeurs pour ces attributs.\n",
    "\n",
    "Pour notre bibliothèque, c'est ce que nous avons utilisé jusqu'ici puisque chaque livre à son propre nom, auteur, année."
   ]
  },
  {
   "cell_type": "code",
   "execution_count": null,
   "id": "ebde0915",
   "metadata": {},
   "outputs": [],
   "source": [
    "#\"Les Misérables\", \"Victor Hugo\", 1862\n",
    "#\"Le Petit Prince\", \"Antoine de Saint-Exupéry\", 1943"
   ]
  },
  {
   "cell_type": "markdown",
   "id": "dbdeab7a",
   "metadata": {},
   "source": [
    "<b> Définition des attributs de classe </b> : Les attributs de classe sont partagés entre toutes les instances de la classe. Ils sont définis au niveau de la classe, en dehors de toute méthode.\n",
    "\n",
    "Supposons que nous voulions garder une trace du nombre total de livres dans la bibliothèque."
   ]
  },
  {
   "cell_type": "code",
   "execution_count": null,
   "id": "bae85efc",
   "metadata": {},
   "outputs": [],
   "source": []
  },
  {
   "cell_type": "markdown",
   "id": "d9c5e846",
   "metadata": {},
   "source": [
    "À chaque fois qu'un nouveau livre est créé, total_livres est incrémenté, reflétant le nombre total de livres."
   ]
  },
  {
   "cell_type": "code",
   "execution_count": null,
   "id": "4762a4d4",
   "metadata": {},
   "outputs": [],
   "source": [
    "#\"1984\", \"George Orwell\", 1949\n",
    "#\"To Kill a Mockingbird\", \"Harper Lee\", 1960"
   ]
  },
  {
   "cell_type": "markdown",
   "id": "a1b304c8",
   "metadata": {},
   "source": [
    "<h3> 3) Définition et appel de méthodes </h3>\n",
    "\n",
    "<b> Définition méthode </b> : Les méthodes en programmation orientée objet (POO) sont des fonctions définies à l'intérieur d'une classe. Elles sont utilisées pour définir les comportements des objets créés à partir de cette classe. En Python, les méthodes permettent d'interagir avec les attributs des objets et de manipuler leurs données.\n",
    "\n",
    "Ajoutons une méthode pour afficher les détails d'un livre."
   ]
  },
  {
   "cell_type": "code",
   "execution_count": null,
   "id": "d67ff2ff",
   "metadata": {},
   "outputs": [],
   "source": []
  },
  {
   "cell_type": "code",
   "execution_count": null,
   "id": "8da55723",
   "metadata": {},
   "outputs": [],
   "source": []
  },
  {
   "cell_type": "markdown",
   "id": "07282de7",
   "metadata": {},
   "source": [
    "Créons une méthode pour enregistrer un nouveau membre et une autre pour afficher ses informations."
   ]
  },
  {
   "cell_type": "code",
   "execution_count": null,
   "id": "dff97f97",
   "metadata": {},
   "outputs": [],
   "source": []
  },
  {
   "cell_type": "code",
   "execution_count": null,
   "id": "c36c1c81",
   "metadata": {},
   "outputs": [],
   "source": []
  },
  {
   "cell_type": "markdown",
   "id": "7367085c",
   "metadata": {},
   "source": [
    "<h3> 4) Encapsulation </h3>\n",
    "\n",
    "<b> Définition </b> : l'encapsulation est un principe de la programmation POO qui consiste à restreindre l'accès aux composants internes d'un objet. Cela signifie que les détails d'implémentation d'un objet sont cachés (encapsulés) de l'extérieur, et l'accès à ces données se fait uniquement à travers une interface publique. Elle permet de protéger l'intégrité des données tout en offrant la flexibilité nécessaire pour leur manipulation à travers une interface bien définie."
   ]
  },
  {
   "cell_type": "markdown",
   "id": "a4569422",
   "metadata": {},
   "source": [
    "<b> Définition des attributs \"Protégés\" </b> : Précédés de deux underscores __, ils sont gérer par Python pour empêcher leur accès direct de l'extérieur de la classe."
   ]
  },
  {
   "cell_type": "code",
   "execution_count": null,
   "id": "06c1dbfe",
   "metadata": {},
   "outputs": [],
   "source": []
  },
  {
   "cell_type": "code",
   "execution_count": null,
   "id": "334b7778",
   "metadata": {},
   "outputs": [],
   "source": []
  },
  {
   "cell_type": "markdown",
   "id": "cd5a3091",
   "metadata": {},
   "source": [
    "<h3> L'héritage </h3>\n",
    "\n",
    "L'héritage est un principe de la POO qui permet à une classe d' \"hériter\" les attributs et méthodes d'une autre classe. Cela facilite la réutilisation du code et permet d'étendre les fonctionnalités des classes existantes.\n",
    "\n",
    "Supposons que notre bibliothèque gère à la fois des livres et des magazines. Les magazines, tout comme les livres, ont un titre et un auteur, mais ils ont aussi un attribut supplémentaire : le numéro de publication.\n",
    "\n",
    "<b> définition super() </b> : La fonction super() est utilisée pour appeler des méthodes du parent direct dans une classe enfant."
   ]
  },
  {
   "cell_type": "code",
   "execution_count": null,
   "id": "ad23b64f",
   "metadata": {},
   "outputs": [],
   "source": []
  },
  {
   "cell_type": "code",
   "execution_count": null,
   "id": "0be320fe",
   "metadata": {},
   "outputs": [],
   "source": []
  },
  {
   "cell_type": "markdown",
   "id": "7562356d",
   "metadata": {},
   "source": [
    "<h3> Le polymorphisme </h3>\n",
    "\n",
    "Le polymorphisme permet aux objets de différentes classes d'être traités comme des instances d'une même classe parent, ou d'agir différemment selon la classe à laquelle ils appartiennent.\n",
    "\n",
    "Imaginons notre système de gestion de bibliothèque où différents types de documents (livres, magazines, journaux) peuvent tous être empruntés, catalogués ou imprimés, mais chaque type a ses propres règles ou manières de traiter ces actions."
   ]
  },
  {
   "cell_type": "code",
   "execution_count": null,
   "id": "19a6bf52",
   "metadata": {},
   "outputs": [],
   "source": [
    "class Document:\n",
    "    def __init__(self, titre):\n",
    "        self.titre = titre\n",
    "        \n",
    "class Livre(Document):\n",
    "    def __init__(self, titre, auteur):\n",
    "        super().__init__(titre)\n",
    "        self.auteur = auteur\n",
    "    \n",
    "    def afficher_info(self):\n",
    "        print(f\"Livre: {self.titre}, Auteur: {self.auteur}\")\n",
    "\n",
    "class Magazine(Document):\n",
    "    def __init__(self, titre, numero):\n",
    "        super().__init__(titre)\n",
    "        self.numero = numero\n",
    "    \n",
    "    def afficher_info(self):\n",
    "        print(f\"Magazine: {self.titre}, Numéro: {self.numero}\")"
   ]
  },
  {
   "cell_type": "markdown",
   "id": "fa3e7f24",
   "metadata": {},
   "source": [
    "Le polymorphisme se manifeste lorsque nous invoquons la méthode afficher_info(), qui est définie à la fois dans Livre et Magazine, mais de manière spécifique à chacun. Cela nous permet de traiter Livre et Magazine comme des Document tout en leur permettant d'agir différemment."
   ]
  },
  {
   "cell_type": "code",
   "execution_count": null,
   "id": "a1d2023a",
   "metadata": {},
   "outputs": [],
   "source": [
    "documents = [\n",
    "    Livre(\"Les Misérables\", \"Victor Hugo\"),\n",
    "    Magazine(\"National Geographic\", 202)\n",
    "]\n",
    "\n",
    "for document in documents:\n",
    "    document.afficher_info()"
   ]
  },
  {
   "cell_type": "code",
   "execution_count": null,
   "id": "2901b510",
   "metadata": {},
   "outputs": [],
   "source": []
  }
 ],
 "metadata": {
  "kernelspec": {
   "display_name": "Python 3 (ipykernel)",
   "language": "python",
   "name": "python3"
  },
  "language_info": {
   "codemirror_mode": {
    "name": "ipython",
    "version": 3
   },
   "file_extension": ".py",
   "mimetype": "text/x-python",
   "name": "python",
   "nbconvert_exporter": "python",
   "pygments_lexer": "ipython3",
   "version": "3.11.5"
  }
 },
 "nbformat": 4,
 "nbformat_minor": 5
}
